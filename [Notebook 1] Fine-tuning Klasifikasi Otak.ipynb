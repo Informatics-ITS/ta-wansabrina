{
 "cells": [
  {
   "cell_type": "markdown",
   "metadata": {
    "id": "fJCRAW4XGAeQ"
   },
   "source": [
    "# Fine-tuning Model Klasifikasi Individual"
   ]
  },
  {
   "cell_type": "code",
   "execution_count": null,
   "metadata": {
    "execution": {
     "iopub.execute_input": "2025-03-02T17:57:02.618865Z",
     "iopub.status.busy": "2025-03-02T17:57:02.618624Z",
     "iopub.status.idle": "2025-03-02T17:57:02.764589Z",
     "shell.execute_reply": "2025-03-02T17:57:02.763783Z",
     "shell.execute_reply.started": "2025-03-02T17:57:02.618841Z"
    },
    "id": "DmoMt4sEGAeR",
    "outputId": "b3cbb5c7-7306-4893-eb82-ca5151ffbde0",
    "trusted": true
   },
   "outputs": [
    {
     "name": "stdout",
     "output_type": "stream",
     "text": [
      "The token has not been saved to the git credentials helper. Pass `add_to_git_credential=True` in this function directly or `--add-to-git-credential` if using via `huggingface-cli` if you want to set the git credential as well.\n",
      "Token is valid (permission: fineGrained).\n",
      "Your token has been saved to /root/.cache/huggingface/token\n",
      "Login successful\n"
     ]
    }
   ],
   "source": [
    "from huggingface_hub import login\n",
    "\n",
    "login(token=\"[TOKEN]\")"
   ]
  },
  {
   "cell_type": "code",
   "execution_count": null,
   "metadata": {
    "execution": {
     "iopub.execute_input": "2025-03-02T17:57:02.766845Z",
     "iopub.status.busy": "2025-03-02T17:57:02.766577Z",
     "iopub.status.idle": "2025-03-02T17:57:24.265294Z",
     "shell.execute_reply": "2025-03-02T17:57:24.264250Z",
     "shell.execute_reply.started": "2025-03-02T17:57:02.766820Z"
    },
    "id": "DGSXiC0kGAeS",
    "outputId": "c389101e-bfac-494c-9d99-5be62b536947",
    "scrolled": true,
    "trusted": true
   },
   "outputs": [
    {
     "name": "stderr",
     "output_type": "stream",
     "text": [
      "/opt/conda/lib/python3.10/pty.py:89: RuntimeWarning: os.fork() was called. os.fork() is incompatible with multithreaded code, and JAX is multithreaded, so this will likely lead to a deadlock.\n",
      "  pid, fd = os.forkpty()\n"
     ]
    },
    {
     "name": "stdout",
     "output_type": "stream",
     "text": [
      "Collecting evaluate\n",
      "  Downloading evaluate-0.4.3-py3-none-any.whl.metadata (9.2 kB)\n",
      "Requirement already satisfied: datasets>=2.0.0 in /opt/conda/lib/python3.10/site-packages (from evaluate) (3.0.1)\n",
      "Requirement already satisfied: numpy>=1.17 in /opt/conda/lib/python3.10/site-packages (from evaluate) (1.26.4)\n",
      "Requirement already satisfied: dill in /opt/conda/lib/python3.10/site-packages (from evaluate) (0.3.8)\n",
      "Requirement already satisfied: pandas in /opt/conda/lib/python3.10/site-packages (from evaluate) (2.2.2)\n",
      "Requirement already satisfied: requests>=2.19.0 in /opt/conda/lib/python3.10/site-packages (from evaluate) (2.32.3)\n",
      "Requirement already satisfied: tqdm>=4.62.1 in /opt/conda/lib/python3.10/site-packages (from evaluate) (4.66.4)\n",
      "Requirement already satisfied: xxhash in /opt/conda/lib/python3.10/site-packages (from evaluate) (3.4.1)\n",
      "Requirement already satisfied: multiprocess in /opt/conda/lib/python3.10/site-packages (from evaluate) (0.70.16)\n",
      "Requirement already satisfied: fsspec>=2021.05.0 in /opt/conda/lib/python3.10/site-packages (from fsspec[http]>=2021.05.0->evaluate) (2024.6.1)\n",
      "Requirement already satisfied: huggingface-hub>=0.7.0 in /opt/conda/lib/python3.10/site-packages (from evaluate) (0.25.1)\n",
      "Requirement already satisfied: packaging in /opt/conda/lib/python3.10/site-packages (from evaluate) (21.3)\n",
      "Requirement already satisfied: filelock in /opt/conda/lib/python3.10/site-packages (from datasets>=2.0.0->evaluate) (3.15.1)\n",
      "Requirement already satisfied: pyarrow>=15.0.0 in /opt/conda/lib/python3.10/site-packages (from datasets>=2.0.0->evaluate) (16.1.0)\n",
      "Requirement already satisfied: aiohttp in /opt/conda/lib/python3.10/site-packages (from datasets>=2.0.0->evaluate) (3.9.5)\n",
      "Requirement already satisfied: pyyaml>=5.1 in /opt/conda/lib/python3.10/site-packages (from datasets>=2.0.0->evaluate) (6.0.2)\n",
      "Requirement already satisfied: typing-extensions>=3.7.4.3 in /opt/conda/lib/python3.10/site-packages (from huggingface-hub>=0.7.0->evaluate) (4.12.2)\n",
      "Requirement already satisfied: pyparsing!=3.0.5,>=2.0.2 in /opt/conda/lib/python3.10/site-packages (from packaging->evaluate) (3.1.2)\n",
      "Requirement already satisfied: charset-normalizer<4,>=2 in /opt/conda/lib/python3.10/site-packages (from requests>=2.19.0->evaluate) (3.3.2)\n",
      "Requirement already satisfied: idna<4,>=2.5 in /opt/conda/lib/python3.10/site-packages (from requests>=2.19.0->evaluate) (3.7)\n",
      "Requirement already satisfied: urllib3<3,>=1.21.1 in /opt/conda/lib/python3.10/site-packages (from requests>=2.19.0->evaluate) (1.26.18)\n",
      "Requirement already satisfied: certifi>=2017.4.17 in /opt/conda/lib/python3.10/site-packages (from requests>=2.19.0->evaluate) (2024.8.30)\n",
      "Requirement already satisfied: python-dateutil>=2.8.2 in /opt/conda/lib/python3.10/site-packages (from pandas->evaluate) (2.9.0.post0)\n",
      "Requirement already satisfied: pytz>=2020.1 in /opt/conda/lib/python3.10/site-packages (from pandas->evaluate) (2024.1)\n",
      "Requirement already satisfied: tzdata>=2022.7 in /opt/conda/lib/python3.10/site-packages (from pandas->evaluate) (2024.1)\n",
      "Requirement already satisfied: aiosignal>=1.1.2 in /opt/conda/lib/python3.10/site-packages (from aiohttp->datasets>=2.0.0->evaluate) (1.3.1)\n",
      "Requirement already satisfied: attrs>=17.3.0 in /opt/conda/lib/python3.10/site-packages (from aiohttp->datasets>=2.0.0->evaluate) (23.2.0)\n",
      "Requirement already satisfied: frozenlist>=1.1.1 in /opt/conda/lib/python3.10/site-packages (from aiohttp->datasets>=2.0.0->evaluate) (1.4.1)\n",
      "Requirement already satisfied: multidict<7.0,>=4.5 in /opt/conda/lib/python3.10/site-packages (from aiohttp->datasets>=2.0.0->evaluate) (6.0.5)\n",
      "Requirement already satisfied: yarl<2.0,>=1.0 in /opt/conda/lib/python3.10/site-packages (from aiohttp->datasets>=2.0.0->evaluate) (1.9.4)\n",
      "Requirement already satisfied: async-timeout<5.0,>=4.0 in /opt/conda/lib/python3.10/site-packages (from aiohttp->datasets>=2.0.0->evaluate) (4.0.3)\n",
      "Requirement already satisfied: six>=1.5 in /opt/conda/lib/python3.10/site-packages (from python-dateutil>=2.8.2->pandas->evaluate) (1.16.0)\n",
      "Downloading evaluate-0.4.3-py3-none-any.whl (84 kB)\n",
      "\u001b[2K   \u001b[90m━━━━━━━━━━━━━━━━━━━━━━━━━━━━━━━━━━━━━━━━\u001b[0m \u001b[32m84.0/84.0 kB\u001b[0m \u001b[31m3.2 MB/s\u001b[0m eta \u001b[36m0:00:00\u001b[0m\n",
      "\u001b[?25hInstalling collected packages: evaluate\n",
      "Successfully installed evaluate-0.4.3\n"
     ]
    }
   ],
   "source": [
    "!pip install -q datasets transformers accelerate\n",
    "!pip install evaluate\n",
    "\n",
    "!sudo apt-get -qq install git-lfs\n",
    "!git config --global credential.helper store"
   ]
  },
  {
   "cell_type": "markdown",
   "metadata": {
    "id": "D4DxIiF7GAeS"
   },
   "source": [
    "### Load Dataset Function"
   ]
  },
  {
   "cell_type": "code",
   "execution_count": null,
   "metadata": {
    "execution": {
     "iopub.execute_input": "2025-03-02T17:57:24.266929Z",
     "iopub.status.busy": "2025-03-02T17:57:24.266635Z",
     "iopub.status.idle": "2025-03-02T17:57:24.271710Z",
     "shell.execute_reply": "2025-03-02T17:57:24.270776Z",
     "shell.execute_reply.started": "2025-03-02T17:57:24.266902Z"
    },
    "id": "xKVdqg_9GAeT",
    "trusted": true
   },
   "outputs": [],
   "source": [
    "from datasets import load_dataset\n",
    "\n",
    "def load_dataset_from_hub(dataset_name):\n",
    "    \"\"\"\n",
    "    Load dataset from Hugging Face Hub.\n",
    "\n",
    "    Args:\n",
    "        dataset_name (str): Name of the dataset to load.\n",
    "\n",
    "    Returns:\n",
    "        DatasetDict: Loaded dataset.\n",
    "    \"\"\"\n",
    "    dataset = load_dataset(dataset_name)\n",
    "    return dataset"
   ]
  },
  {
   "cell_type": "code",
   "execution_count": null,
   "metadata": {
    "execution": {
     "iopub.execute_input": "2025-03-02T17:57:24.273065Z",
     "iopub.status.busy": "2025-03-02T17:57:24.272800Z",
     "iopub.status.idle": "2025-03-02T17:57:24.285177Z",
     "shell.execute_reply": "2025-03-02T17:57:24.284339Z",
     "shell.execute_reply.started": "2025-03-02T17:57:24.273040Z"
    },
    "id": "JPE0iu0mGAeT",
    "trusted": true
   },
   "outputs": [],
   "source": [
    "def create_label_mappings(dataset):\n",
    "    \"\"\"\n",
    "    Create mappings from labels to IDs and vice versa.\n",
    "\n",
    "    Args:\n",
    "        dataset (DatasetDict): Dataset containing labeled data.\n",
    "\n",
    "    Returns:\n",
    "        tuple: A tuple containing two dictionaries, label2id and id2label.\n",
    "    \"\"\"\n",
    "    labels = dataset[\"train\"].features[\"label\"].names\n",
    "    label2id, id2label = {}, {}\n",
    "\n",
    "    for i, label in enumerate(labels):\n",
    "        label2id[label] = i\n",
    "        id2label[i] = label\n",
    "\n",
    "    return label2id, id2label"
   ]
  },
  {
   "cell_type": "markdown",
   "metadata": {
    "id": "Y-AgleVxGAeT"
   },
   "source": [
    "### Preprocessing the data"
   ]
  },
  {
   "cell_type": "code",
   "execution_count": null,
   "metadata": {
    "execution": {
     "iopub.execute_input": "2025-03-02T17:57:24.286905Z",
     "iopub.status.busy": "2025-03-02T17:57:24.286363Z",
     "iopub.status.idle": "2025-03-02T17:57:24.298274Z",
     "shell.execute_reply": "2025-03-02T17:57:24.297553Z",
     "shell.execute_reply.started": "2025-03-02T17:57:24.286868Z"
    },
    "id": "8cthpQO3GAeT",
    "trusted": true
   },
   "outputs": [],
   "source": [
    "from transformers import AutoImageProcessor\n",
    "\n",
    "def load_image_processor(model_checkpoint):\n",
    "    \"\"\"\n",
    "    Load the image processor from the pretrained model checkpoint.\n",
    "\n",
    "    Args:\n",
    "        model_checkpoint (str): The model checkpoint to load the image processor from.\n",
    "\n",
    "    Returns:\n",
    "        AutoImageProcessor: Loaded image processor.\n",
    "    \"\"\"\n",
    "    image_processor = AutoImageProcessor.from_pretrained(model_checkpoint)\n",
    "    return image_processor"
   ]
  },
  {
   "cell_type": "code",
   "execution_count": null,
   "metadata": {
    "execution": {
     "iopub.execute_input": "2025-03-02T17:57:24.299516Z",
     "iopub.status.busy": "2025-03-02T17:57:24.299276Z",
     "iopub.status.idle": "2025-03-02T17:57:24.311387Z",
     "shell.execute_reply": "2025-03-02T17:57:24.310640Z",
     "shell.execute_reply.started": "2025-03-02T17:57:24.299492Z"
    },
    "id": "KEeAFc4NGAeT",
    "trusted": true
   },
   "outputs": [],
   "source": [
    "from torchvision.transforms import (\n",
    "    CenterCrop,\n",
    "    Compose,\n",
    "    Normalize,\n",
    "    RandomHorizontalFlip,\n",
    "    RandomResizedCrop,\n",
    "    Resize,\n",
    "    ToTensor,\n",
    ")\n",
    "\n",
    "def create_transforms(image_processor):\n",
    "    \"\"\"\n",
    "    Create training and validation transforms based on the image processor.\n",
    "\n",
    "    Args:\n",
    "        image_processor (AutoImageProcessor): Image processor with preprocessing details.\n",
    "\n",
    "    Returns:\n",
    "        tuple: Training and validation transforms.\n",
    "    \"\"\"\n",
    "    normalize = Normalize(mean=image_processor.image_mean, std=image_processor.image_std)\n",
    "    if \"height\" in image_processor.size:\n",
    "        size = (image_processor.size[\"height\"], image_processor.size[\"width\"])\n",
    "        crop_size = size\n",
    "    elif \"shortest_edge\" in image_processor.size:\n",
    "        size = image_processor.size[\"shortest_edge\"]\n",
    "        crop_size = (size, size)\n",
    "\n",
    "    train_transforms = Compose(\n",
    "        [\n",
    "            RandomResizedCrop(crop_size),\n",
    "            RandomHorizontalFlip(),\n",
    "            ToTensor(),\n",
    "            normalize,\n",
    "        ]\n",
    "    )\n",
    "\n",
    "    val_transforms = Compose(\n",
    "        [\n",
    "            Resize(size),\n",
    "            CenterCrop(crop_size),\n",
    "            ToTensor(),\n",
    "            normalize,\n",
    "        ]\n",
    "    )\n",
    "\n",
    "    return train_transforms, val_transforms\n",
    "\n",
    "def preprocess_train(example_batch, train_transforms):\n",
    "    \"\"\"\n",
    "    Apply training transformations to a batch of examples.\n",
    "\n",
    "    Args:\n",
    "        example_batch (dict): Batch of examples.\n",
    "        train_transforms (Compose): Training transformations.\n",
    "\n",
    "    Returns:\n",
    "        dict: Transformed batch with pixel values.\n",
    "    \"\"\"\n",
    "    example_batch[\"pixel_values\"] = [\n",
    "        train_transforms(image.convert(\"RGB\")) for image in example_batch[\"image\"]\n",
    "    ]\n",
    "    return example_batch\n",
    "\n",
    "def preprocess_val(example_batch, val_transforms):\n",
    "    \"\"\"\n",
    "    Apply validation transformations to a batch of examples.\n",
    "\n",
    "    Args:\n",
    "        example_batch (dict): Batch of examples.\n",
    "        val_transforms (Compose): Validation transformations.\n",
    "\n",
    "    Returns:\n",
    "        dict: Transformed batch with pixel values.\n",
    "    \"\"\"\n",
    "    example_batch[\"pixel_values\"] = [val_transforms(image.convert(\"RGB\")) for image in example_batch[\"image\"]]\n",
    "    return example_batch"
   ]
  },
  {
   "cell_type": "code",
   "execution_count": null,
   "metadata": {
    "execution": {
     "iopub.execute_input": "2025-03-02T17:57:24.312693Z",
     "iopub.status.busy": "2025-03-02T17:57:24.312408Z",
     "iopub.status.idle": "2025-03-02T17:57:24.325761Z",
     "shell.execute_reply": "2025-03-02T17:57:24.325152Z",
     "shell.execute_reply.started": "2025-03-02T17:57:24.312668Z"
    },
    "id": "yuyBthx2GAeU",
    "trusted": true
   },
   "outputs": [],
   "source": [
    "def split_dataset(dataset, test_size=0.1):\n",
    "    \"\"\"\n",
    "    Split the dataset into training and validation sets.\n",
    "\n",
    "    Args:\n",
    "        dataset (DatasetDict): Dataset to be split.\n",
    "        test_size (float): Proportion of the dataset to be used as validation.\n",
    "\n",
    "    Returns:\n",
    "        tuple: Training and validation datasets.\n",
    "    \"\"\"\n",
    "    splits = dataset[\"train\"].train_test_split(test_size=test_size)\n",
    "    train_ds = splits['train']\n",
    "    val_ds = splits['test']\n",
    "    return train_ds, val_ds"
   ]
  },
  {
   "cell_type": "code",
   "execution_count": null,
   "metadata": {
    "execution": {
     "iopub.execute_input": "2025-03-02T17:57:24.326885Z",
     "iopub.status.busy": "2025-03-02T17:57:24.326612Z",
     "iopub.status.idle": "2025-03-02T17:57:24.341707Z",
     "shell.execute_reply": "2025-03-02T17:57:24.341014Z",
     "shell.execute_reply.started": "2025-03-02T17:57:24.326861Z"
    },
    "id": "41dGclFJGAeU",
    "trusted": true
   },
   "outputs": [],
   "source": [
    "def set_transforms(train_ds, val_ds, train_transforms, val_transforms):\n",
    "    \"\"\"\n",
    "    Set the transformations for training and validation datasets.\n",
    "\n",
    "    Args:\n",
    "        train_ds (Dataset): Training dataset.\n",
    "        val_ds (Dataset): Validation dataset.\n",
    "        train_transforms (Compose): Training transformations.\n",
    "        val_transforms (Compose): Validation transformations.\n",
    "\n",
    "    Returns:\n",
    "        None\n",
    "    \"\"\"\n",
    "    train_ds.set_transform(lambda example_batch: preprocess_train(example_batch, train_transforms))\n",
    "    val_ds.set_transform(lambda example_batch: preprocess_val(example_batch, val_transforms))"
   ]
  },
  {
   "cell_type": "code",
   "execution_count": null,
   "metadata": {
    "execution": {
     "iopub.execute_input": "2025-03-02T17:57:24.342884Z",
     "iopub.status.busy": "2025-03-02T17:57:24.342648Z",
     "iopub.status.idle": "2025-03-02T17:57:24.352408Z",
     "shell.execute_reply": "2025-03-02T17:57:24.351693Z",
     "shell.execute_reply.started": "2025-03-02T17:57:24.342861Z"
    },
    "id": "aUmrBwq8GAeU",
    "trusted": true
   },
   "outputs": [],
   "source": [
    "def get_sample(dataset):\n",
    "    return dataset[0]"
   ]
  },
  {
   "cell_type": "markdown",
   "metadata": {
    "id": "tI3kimicGAeU"
   },
   "source": [
    "### Training the model"
   ]
  },
  {
   "cell_type": "code",
   "execution_count": null,
   "metadata": {
    "execution": {
     "iopub.execute_input": "2025-03-02T17:57:24.353682Z",
     "iopub.status.busy": "2025-03-02T17:57:24.353437Z",
     "iopub.status.idle": "2025-03-02T17:57:24.364820Z",
     "shell.execute_reply": "2025-03-02T17:57:24.364117Z",
     "shell.execute_reply.started": "2025-03-02T17:57:24.353659Z"
    },
    "id": "sgvni799GAeU",
    "trusted": true
   },
   "outputs": [],
   "source": [
    "from transformers import AutoModelForImageClassification\n",
    "import numpy as np\n",
    "import os\n",
    "\n",
    "def load_model(model_checkpoint, label2id, id2label):\n",
    "    \"\"\"\n",
    "    Load the pretrained model for image classification.\n",
    "\n",
    "    Args:\n",
    "        model_checkpoint (str): The model checkpoint to load.\n",
    "        label2id (dict): Dictionary mapping labels to IDs.\n",
    "        id2label (dict): Dictionary mapping IDs to labels.\n",
    "\n",
    "    Returns:\n",
    "        AutoModelForImageClassification: Loaded model.\n",
    "    \"\"\"\n",
    "    os.environ[\"WANDB_DISABLED\"] = \"true\"\n",
    "    model = AutoModelForImageClassification.from_pretrained(\n",
    "        model_checkpoint,\n",
    "        label2id=label2id,\n",
    "        id2label=id2label,\n",
    "        ignore_mismatched_sizes=True\n",
    "    )\n",
    "    return model"
   ]
  },
  {
   "cell_type": "code",
   "execution_count": null,
   "metadata": {
    "execution": {
     "iopub.execute_input": "2025-03-02T17:57:24.366124Z",
     "iopub.status.busy": "2025-03-02T17:57:24.365858Z",
     "iopub.status.idle": "2025-03-02T17:57:24.400076Z",
     "shell.execute_reply": "2025-03-02T17:57:24.399483Z",
     "shell.execute_reply.started": "2025-03-02T17:57:24.366082Z"
    },
    "id": "2_uLcpogGAeU",
    "trusted": true
   },
   "outputs": [],
   "source": [
    "from transformers import TrainingArguments\n",
    "\n",
    "def set_training_arguments(model_checkpoint, batch_size, model_name, num_train_epochs=20):\n",
    "    \"\"\"\n",
    "    Define the training arguments for the model training.\n",
    "\n",
    "    Args:\n",
    "        model_checkpoint (str): Checkpoint of the model.\n",
    "        batch_size (int): The batch size for training.\n",
    "        model_name (str): Custom model name for naming output directory.\n",
    "        num_train_epochs (int): Number of training epochs.\n",
    "\n",
    "    Returns:\n",
    "        TrainingArguments: Configured training arguments.\n",
    "    \"\"\"\n",
    "\n",
    "    args = TrainingArguments(\n",
    "        output_dir=f\"/kaggle/working/{model_name}\",\n",
    "        remove_unused_columns=False,\n",
    "        eval_strategy=\"epoch\",\n",
    "        save_strategy=\"epoch\",\n",
    "        learning_rate=5e-5,\n",
    "        per_device_train_batch_size=batch_size,\n",
    "        gradient_accumulation_steps=4,\n",
    "        per_device_eval_batch_size=batch_size,\n",
    "        num_train_epochs=num_train_epochs,\n",
    "        warmup_ratio=0.1,\n",
    "        logging_strategy=\"epoch\",\n",
    "        logging_steps=1,\n",
    "        load_best_model_at_end=True,\n",
    "        metric_for_best_model=\"accuracy\",\n",
    "        push_to_hub=True,\n",
    "        report_to=\"none\"\n",
    "    )\n",
    "    return args"
   ]
  },
  {
   "cell_type": "code",
   "execution_count": null,
   "metadata": {
    "colab": {
     "referenced_widgets": [
      "ac54ddd40a364b249af620918307e144"
     ]
    },
    "execution": {
     "iopub.execute_input": "2025-03-02T17:57:24.401321Z",
     "iopub.status.busy": "2025-03-02T17:57:24.401039Z",
     "iopub.status.idle": "2025-03-02T17:57:39.021550Z",
     "shell.execute_reply": "2025-03-02T17:57:39.020665Z",
     "shell.execute_reply.started": "2025-03-02T17:57:24.401294Z"
    },
    "id": "OQVh7IEUGAeU",
    "jupyter": {
     "source_hidden": true
    },
    "outputId": "42702bec-10f3-4efd-cb32-9fb608412260",
    "trusted": true
   },
   "outputs": [
    {
     "data": {
      "application/vnd.jupyter.widget-view+json": {
       "model_id": "ac54ddd40a364b249af620918307e144",
       "version_major": 2,
       "version_minor": 0
      },
      "text/plain": [
       "Downloading builder script:   0%|          | 0.00/4.20k [00:00<?, ?B/s]"
      ]
     },
     "metadata": {},
     "output_type": "display_data"
    }
   ],
   "source": [
    "import numpy as np\n",
    "from evaluate import load\n",
    "\n",
    "metric = load(\"accuracy\")\n",
    "def compute_metrics(eval_pred):\n",
    "    \"\"\"\n",
    "    Compute accuracy and other metrics on evaluation predictions.\n",
    "\n",
    "    Args:\n",
    "        eval_pred (NamedTuple): Evaluation predictions and labels.\n",
    "\n",
    "    Returns:\n",
    "        dict: Computed accuracy metrics.\n",
    "    \"\"\"\n",
    "    predictions = np.argmax(eval_pred.predictions, axis=1)\n",
    "    accuracy = metric.compute(predictions=predictions, references=eval_pred.label_ids)\n",
    "    return {\"accuracy\": accuracy[\"accuracy\"]}"
   ]
  },
  {
   "cell_type": "code",
   "execution_count": null,
   "metadata": {
    "execution": {
     "iopub.execute_input": "2025-03-02T17:57:39.025354Z",
     "iopub.status.busy": "2025-03-02T17:57:39.024998Z",
     "iopub.status.idle": "2025-03-02T17:57:39.030081Z",
     "shell.execute_reply": "2025-03-02T17:57:39.029226Z",
     "shell.execute_reply.started": "2025-03-02T17:57:39.025327Z"
    },
    "id": "soB628uAGAeV",
    "jupyter": {
     "source_hidden": true
    },
    "trusted": true
   },
   "outputs": [],
   "source": [
    "import torch\n",
    "\n",
    "def collate_fn(examples):\n",
    "    \"\"\"\n",
    "    Prepare batch data by stacking pixel values and labels.\n",
    "\n",
    "    Args:\n",
    "        examples (list): List of examples.\n",
    "\n",
    "    Returns:\n",
    "        dict: Batched pixel values and labels.\n",
    "    \"\"\"\n",
    "    pixel_values = torch.stack([example[\"pixel_values\"] for example in examples])\n",
    "    labels = torch.tensor([example[\"label\"] for example in examples])\n",
    "    return {\"pixel_values\": pixel_values, \"labels\": labels}"
   ]
  },
  {
   "cell_type": "code",
   "execution_count": null,
   "metadata": {
    "execution": {
     "iopub.execute_input": "2025-03-02T17:57:39.031798Z",
     "iopub.status.busy": "2025-03-02T17:57:39.031190Z",
     "iopub.status.idle": "2025-03-02T17:57:39.051214Z",
     "shell.execute_reply": "2025-03-02T17:57:39.050563Z",
     "shell.execute_reply.started": "2025-03-02T17:57:39.031760Z"
    },
    "id": "khdhdCu5GAeV",
    "trusted": true
   },
   "outputs": [],
   "source": [
    "from transformers import EarlyStoppingCallback\n",
    "\n",
    "abnormalities_training_accuracy = None\n",
    "\n",
    "class CustomEarlyStoppingCallback(EarlyStoppingCallback):\n",
    "    \"\"\"\n",
    "    Custom early stopping callback to stop training if accuracy reaches 98%.\n",
    "    \"\"\"\n",
    "    def on_evaluate(self, args, state, control, **kwargs):\n",
    "        global abnormalities_training_accuracy\n",
    "\n",
    "        metrics = kwargs.get(\"metrics\", {})\n",
    "        accuracy = metrics.get(\"eval_accuracy\", 0)\n",
    "\n",
    "        if accuracy >= 0.98:\n",
    "            print(f\"Stopping early as accuracy has reached 98% or higher. Final Accuracy: {accuracy:.5f}\")\n",
    "            control.should_training_stop = True\n",
    "            abnormalities_training_accuracy = accuracy"
   ]
  },
  {
   "cell_type": "code",
   "execution_count": null,
   "metadata": {
    "execution": {
     "iopub.execute_input": "2025-03-02T17:57:39.052524Z",
     "iopub.status.busy": "2025-03-02T17:57:39.052199Z",
     "iopub.status.idle": "2025-03-02T17:57:40.080164Z",
     "shell.execute_reply": "2025-03-02T17:57:40.079256Z",
     "shell.execute_reply.started": "2025-03-02T17:57:39.052498Z"
    },
    "id": "ky8C6Jp6GAeV",
    "trusted": true
   },
   "outputs": [],
   "source": [
    "from transformers import Trainer\n",
    "\n",
    "def initialize_trainer(model, args, train_ds, val_ds, image_processor):\n",
    "    \"\"\"\n",
    "    Initialize the Trainer for model training.\n",
    "\n",
    "    Args:\n",
    "        model: The model to be trained.\n",
    "        args: Training arguments.\n",
    "        train_ds: Training dataset.\n",
    "        val_ds: Validation dataset.\n",
    "        image_processor: Tokenizer/image processor.\n",
    "\n",
    "    Returns:\n",
    "        Trainer: Configured trainer for training and evaluation.\n",
    "    \"\"\"\n",
    "    trainer = Trainer(\n",
    "        model=model,\n",
    "        args=args,\n",
    "        train_dataset=train_ds,\n",
    "        eval_dataset=val_ds,\n",
    "        tokenizer=image_processor,\n",
    "        compute_metrics=compute_metrics,\n",
    "        data_collator=collate_fn\n",
    "        # callbacks=[CustomEarlyStoppingCallback()],\n",
    "    )\n",
    "    return trainer"
   ]
  },
  {
   "cell_type": "code",
   "execution_count": null,
   "metadata": {
    "execution": {
     "iopub.execute_input": "2025-03-02T17:57:40.081727Z",
     "iopub.status.busy": "2025-03-02T17:57:40.081368Z",
     "iopub.status.idle": "2025-03-02T17:57:40.086934Z",
     "shell.execute_reply": "2025-03-02T17:57:40.086135Z",
     "shell.execute_reply.started": "2025-03-02T17:57:40.081692Z"
    },
    "id": "ok16bjfdGAeV",
    "trusted": true
   },
   "outputs": [],
   "source": [
    "def train_model(trainer):\n",
    "    \"\"\"\n",
    "    Train the model using the trainer.\n",
    "\n",
    "    Args:\n",
    "        trainer (Trainer): Trainer object to handle training.\n",
    "\n",
    "    Returns:a\n",
    "        Trainer: Trained model trainer with metrics.\n",
    "    \"\"\"\n",
    "    train_results = trainer.train()\n",
    "    trainer.save_model()\n",
    "    trainer.log_metrics(\"train\", train_results.metrics)\n",
    "    trainer.save_metrics(\"train\", train_results.metrics)\n",
    "    trainer.save_state()\n",
    "    return train_results"
   ]
  },
  {
   "cell_type": "code",
   "execution_count": null,
   "metadata": {
    "execution": {
     "iopub.execute_input": "2025-03-02T17:57:40.088653Z",
     "iopub.status.busy": "2025-03-02T17:57:40.088093Z",
     "iopub.status.idle": "2025-03-02T17:57:40.113671Z",
     "shell.execute_reply": "2025-03-02T17:57:40.112842Z",
     "shell.execute_reply.started": "2025-03-02T17:57:40.088614Z"
    },
    "id": "YuZwrZ65GAeV",
    "trusted": true
   },
   "outputs": [],
   "source": [
    "def plot_loss(training_log, title=\"Training and Validation Loss\"):\n",
    "    \"\"\"\n",
    "    Plot training and validation loss over epochs.\n",
    "\n",
    "    Args:\n",
    "        training_log (list): Log history containing training and validation losses.\n",
    "        title (str): Title for the plot.\n",
    "\n",
    "    Returns:\n",
    "        None\n",
    "    \"\"\"\n",
    "    train_loss = []\n",
    "    eval_loss = []\n",
    "    train_epochs = []\n",
    "    eval_epochs = []\n",
    "\n",
    "    for entry in training_log:\n",
    "        if \"loss\" in entry:\n",
    "            train_loss.append(entry[\"loss\"])\n",
    "            train_epochs.append(entry.get(\"epoch\", len(train_loss)))\n",
    "        if \"eval_loss\" in entry:\n",
    "            eval_loss.append(entry[\"eval_loss\"])\n",
    "            eval_epochs.append(entry.get(\"epoch\", len(eval_loss)))\n",
    "\n",
    "    plt.figure(figsize=(10, 6))\n",
    "    plt.plot(train_epochs, train_loss, label=\"Training Loss\")\n",
    "    if eval_loss:\n",
    "        plt.plot(eval_epochs, eval_loss, label=\"Validation Loss\")\n",
    "    plt.xlabel(\"Epochs\")\n",
    "    plt.ylabel(\"Loss\")\n",
    "    plt.title(title)\n",
    "    plt.legend()\n",
    "    plt.grid()\n",
    "    plt.show()\n"
   ]
  },
  {
   "cell_type": "code",
   "execution_count": null,
   "metadata": {
    "execution": {
     "iopub.execute_input": "2025-03-02T17:57:40.114900Z",
     "iopub.status.busy": "2025-03-02T17:57:40.114635Z",
     "iopub.status.idle": "2025-03-02T17:57:40.124598Z",
     "shell.execute_reply": "2025-03-02T17:57:40.123921Z",
     "shell.execute_reply.started": "2025-03-02T17:57:40.114875Z"
    },
    "id": "I6m7NK3HGAeV",
    "trusted": true
   },
   "outputs": [],
   "source": [
    "def evaluate_model(trainer):\n",
    "    \"\"\"\n",
    "    Evaluate the model on the validation set.\n",
    "\n",
    "    Args:\n",
    "        trainer (Trainer): Trainer object for evaluation.\n",
    "\n",
    "    Returns:\n",
    "        dict: Evaluation metrics.\n",
    "    \"\"\"\n",
    "    metrics = trainer.evaluate()\n",
    "    trainer.log_metrics(\"eval\", metrics)\n",
    "    trainer.save_metrics(\"eval\", metrics)\n",
    "    return metrics"
   ]
  },
  {
   "cell_type": "code",
   "execution_count": null,
   "metadata": {
    "execution": {
     "iopub.execute_input": "2025-03-02T17:57:40.125687Z",
     "iopub.status.busy": "2025-03-02T17:57:40.125453Z",
     "iopub.status.idle": "2025-03-02T17:57:40.135437Z",
     "shell.execute_reply": "2025-03-02T17:57:40.134558Z",
     "shell.execute_reply.started": "2025-03-02T17:57:40.125664Z"
    },
    "id": "5ynmtIXlGAeV",
    "trusted": true
   },
   "outputs": [],
   "source": [
    "def evaluate_on_test_set(trainer, test_dataset):\n",
    "    \"\"\"\n",
    "    Evaluate the trained model on the test dataset.\n",
    "\n",
    "    Args:\n",
    "        trainer (Trainer): Trained Hugging Face Trainer object.\n",
    "        test_dataset (Dataset): Test dataset for evaluation.\n",
    "\n",
    "    Returns:\n",
    "        dict: Evaluation metrics.\n",
    "    \"\"\"\n",
    "    print(\"Evaluating model on test dataset...\")\n",
    "    metrics = trainer.evaluate(test_dataset)\n",
    "    trainer.log_metrics(\"test\", metrics)\n",
    "    trainer.save_metrics(\"test\", metrics)\n",
    "    return metric"
   ]
  },
  {
   "cell_type": "code",
   "execution_count": null,
   "metadata": {
    "execution": {
     "iopub.execute_input": "2025-03-02T17:57:40.136567Z",
     "iopub.status.busy": "2025-03-02T17:57:40.136317Z",
     "iopub.status.idle": "2025-03-02T17:57:40.149107Z",
     "shell.execute_reply": "2025-03-02T17:57:40.148283Z",
     "shell.execute_reply.started": "2025-03-02T17:57:40.136544Z"
    },
    "id": "bY9HGqJ-GAeV",
    "trusted": true
   },
   "outputs": [],
   "source": [
    "def display_metrics(eval_metrics, training_accuracy, title=\"Evaluation Metrics\"):\n",
    "    \"\"\"\n",
    "    Display precision, recall, F1-score, training accuracy, validation accuracy, and testing accuracy.\n",
    "\n",
    "    Args:\n",
    "        eval_metrics (dict): Metrics from evaluation.\n",
    "        training_accuracy (float): Training accuracy.\n",
    "        title (str): Title for the metrics.\n",
    "\n",
    "    Returns:\n",
    "        None\n",
    "    \"\"\"\n",
    "    precision = eval_metrics.get(\"precision\", 0) * 100\n",
    "    recall = eval_metrics.get(\"recall\", 0) * 100\n",
    "    f1_score = eval_metrics.get(\"f1\", 0) * 100\n",
    "    val_accuracy = eval_metrics.get(\"accuracy\", 0) * 100\n",
    "\n",
    "    print(f\"----- {title} -----\")\n",
    "    print(f\"Precision (%): {precision:.2f}\")\n",
    "    print(f\"Recall (%): {recall:.2f}\")\n",
    "    print(f\"F1-score (%): {f1_score:.2f}\")\n",
    "    print(f\"Training Accuracy (%): {training_accuracy * 100:.2f}\")\n",
    "    print(f\"Validation Accuracy (%): {val_accuracy:.2f}\")"
   ]
  },
  {
   "cell_type": "code",
   "execution_count": null,
   "metadata": {
    "execution": {
     "iopub.execute_input": "2025-03-02T17:57:40.150343Z",
     "iopub.status.busy": "2025-03-02T17:57:40.150046Z",
     "iopub.status.idle": "2025-03-02T17:57:40.160186Z",
     "shell.execute_reply": "2025-03-02T17:57:40.159548Z",
     "shell.execute_reply.started": "2025-03-02T17:57:40.150318Z"
    },
    "id": "UUk5fWArGAeW",
    "trusted": true
   },
   "outputs": [],
   "source": [
    "def push_model_to_hub(trainer):\n",
    "    \"\"\"\n",
    "    Push the trained model to the Hugging Face Hub.\n",
    "\n",
    "    Args:\n",
    "        trainer (Trainer): Trainer object with model to push.\n",
    "\n",
    "    Returns:\n",
    "        None\n",
    "    \"\"\"\n",
    "    trainer.push_to_hub()"
   ]
  },
  {
   "cell_type": "code",
   "execution_count": null,
   "metadata": {
    "execution": {
     "iopub.execute_input": "2025-03-02T17:57:40.161361Z",
     "iopub.status.busy": "2025-03-02T17:57:40.161107Z",
     "iopub.status.idle": "2025-03-02T17:57:40.170036Z",
     "shell.execute_reply": "2025-03-02T17:57:40.169370Z",
     "shell.execute_reply.started": "2025-03-02T17:57:40.161328Z"
    },
    "id": "nVhaXe1xGAeW",
    "trusted": true
   },
   "outputs": [],
   "source": [
    "import matplotlib.pyplot as plt\n",
    "\n",
    "def plot_learning_curve(trainer):\n",
    "    \"\"\"\n",
    "    Plot training and validation loss from trainer's log history.\n",
    "\n",
    "    Args:\n",
    "        trainer (Trainer): Trainer object containing training history.\n",
    "\n",
    "    Returns:\n",
    "        None\n",
    "    \"\"\"\n",
    "    logs = trainer.state.log_history\n",
    "    train_losses = []\n",
    "    eval_losses = []\n",
    "    epochs = []\n",
    "\n",
    "    for entry in logs:\n",
    "        if \"loss\" in entry:\n",
    "            train_losses.append(entry[\"loss\"])\n",
    "            epochs.append(entry[\"epoch\"])\n",
    "        if \"eval_loss\" in entry:\n",
    "            eval_losses.append(entry[\"eval_loss\"])\n",
    "\n",
    "    plt.figure(figsize=(10, 6))\n",
    "    plt.plot(epochs[:len(train_losses)], train_losses, label=\"Training Loss\", marker='o')\n",
    "    if eval_losses:\n",
    "        plt.plot(epochs[:len(eval_losses)], eval_losses, label=\"Validation Loss\", marker='o')\n",
    "\n",
    "    plt.xlabel(\"Epoch\")\n",
    "    plt.ylabel(\"Loss\")\n",
    "    plt.title(\"Training vs Validation Loss Curve\")\n",
    "    plt.legend()\n",
    "    plt.grid()\n",
    "    plt.show()"
   ]
  },
  {
   "cell_type": "code",
   "execution_count": null,
   "metadata": {
    "execution": {
     "iopub.execute_input": "2025-03-02T17:57:40.171599Z",
     "iopub.status.busy": "2025-03-02T17:57:40.171116Z",
     "iopub.status.idle": "2025-03-02T17:57:40.184084Z",
     "shell.execute_reply": "2025-03-02T17:57:40.183291Z",
     "shell.execute_reply.started": "2025-03-02T17:57:40.171565Z"
    },
    "id": "X0ThEbFrGAeW",
    "trusted": true
   },
   "outputs": [],
   "source": [
    "from datasets import Dataset\n",
    "\n",
    "def get_dataset_subset(dataset, fraction=0.1, seed=42):\n",
    "    \"\"\"\n",
    "    Get a subset of the dataset based on the specified fraction.\n",
    "\n",
    "    Args:\n",
    "        dataset (Dataset): The original dataset.\n",
    "        fraction (float): The fraction of data to use (default 10%).\n",
    "        seed (int): Random seed for reproducibility.\n",
    "\n",
    "    Returns:\n",
    "        Dataset: Subset of the dataset.\n",
    "    \"\"\"\n",
    "    subset_size = int(len(dataset) * fraction)\n",
    "    return dataset.shuffle(seed=seed).select(range(subset_size))"
   ]
  },
  {
   "cell_type": "code",
   "execution_count": null,
   "metadata": {
    "execution": {
     "iopub.execute_input": "2025-03-02T17:57:40.185526Z",
     "iopub.status.busy": "2025-03-02T17:57:40.185282Z",
     "iopub.status.idle": "2025-03-02T17:57:40.196121Z",
     "shell.execute_reply": "2025-03-02T17:57:40.195212Z",
     "shell.execute_reply.started": "2025-03-02T17:57:40.185503Z"
    },
    "id": "MBZB__KFGAeW",
    "trusted": true
   },
   "outputs": [],
   "source": [
    "from sklearn.model_selection import KFold\n",
    "import copy\n",
    "\n",
    "def cross_validate_model(model_checkpoint, dataset, batch_size, num_epochs, model_name):\n",
    "    \"\"\"\n",
    "    Perform 4-fold cross-validation on a given dataset.\n",
    "\n",
    "    Args:\n",
    "        model_checkpoint (str): Pretrained model checkpoint.\n",
    "        dataset (Dataset): Dataset to be split and trained.\n",
    "        batch_size (int): Batch size for training.\n",
    "        num_epochs (int): Number of epochs.\n",
    "        model_name (str): Name for the model.\n",
    "    \"\"\"\n",
    "\n",
    "    kf = KFold(n_splits=4, shuffle=True, random_state=42)\n",
    "    dataset_splits = list(kf.split(dataset))\n",
    "\n",
    "    all_metrics = []\n",
    "    for fold, (train_idx, val_idx) in enumerate(dataset_splits):\n",
    "        print(f\"Starting Fold {fold+1}/4\")\n",
    "\n",
    "        train_ds = dataset.select(train_idx)\n",
    "        val_ds = dataset.select(val_idx)\n",
    "\n",
    "        label2id, id2label = create_label_mappings(dataset)\n",
    "        image_processor = load_image_processor(model_checkpoint)\n",
    "        model = load_model(model_checkpoint, label2id, id2label)\n",
    "\n",
    "        train_transforms, val_transforms = create_transforms(image_processor)\n",
    "        set_transforms(train_ds, val_ds, train_transforms, val_transforms)\n",
    "\n",
    "        training_args = set_training_arguments(\n",
    "            model_checkpoint, batch_size, f\"{model_name}-fold{fold+1}\", num_epochs\n",
    "        )\n",
    "        training_args.save_strategy = \"no\"\n",
    "        training_args.load_best_model_at_end = False\n",
    "\n",
    "        trainer = initialize_trainer(model, training_args, train_ds, val_ds, image_processor)\n",
    "\n",
    "        train_metrics = train_model(trainer)\n",
    "\n",
    "        val_metrics = evaluate_model(trainer)\n",
    "        all_metrics.append(val_metrics)\n",
    "\n",
    "    avg_metrics = {key: sum(d[key] for d in all_metrics) / 4 for key in all_metrics[0]}\n",
    "    print(\"\\n--- Final Cross-Validation Metrics ---\")\n",
    "    for key, value in avg_metrics.items():\n",
    "        print(f\"{key}: {value:.4f}\")\n",
    "\n",
    "    return avg_metrics"
   ]
  },
  {
   "cell_type": "markdown",
   "metadata": {
    "id": "2JG5SOdTGAeW"
   },
   "source": [
    "### Inference Function"
   ]
  },
  {
   "cell_type": "code",
   "execution_count": null,
   "metadata": {
    "execution": {
     "iopub.execute_input": "2025-03-02T17:57:40.197527Z",
     "iopub.status.busy": "2025-03-02T17:57:40.197286Z",
     "iopub.status.idle": "2025-03-02T17:57:40.214298Z",
     "shell.execute_reply": "2025-03-02T17:57:40.213643Z",
     "shell.execute_reply.started": "2025-03-02T17:57:40.197504Z"
    },
    "id": "USHINc86GAeW",
    "trusted": true
   },
   "outputs": [],
   "source": [
    "import torch\n",
    "import matplotlib.pyplot as plt\n",
    "import seaborn as sns\n",
    "from datasets import load_dataset\n",
    "from transformers import AutoModelForImageClassification, AutoImageProcessor\n",
    "from sklearn.metrics import confusion_matrix, precision_score, recall_score, f1_score, accuracy_score\n",
    "\n",
    "def plot_conf_matrix_and_metrics(dataset_name, repo_name, split=\"test\"):\n",
    "    \"\"\"\n",
    "    Plot the confusion matrix and compute classification metrics.\n",
    "\n",
    "    Args:\n",
    "        dataset_name (str): Name of the dataset on Hugging Face Hub.\n",
    "        repo_name (str): Repository name of the pretrained model.\n",
    "        split (str): Split of the dataset to use (default: \"test\").\n",
    "\n",
    "    Returns:\n",
    "        None\n",
    "    \"\"\"\n",
    "    dataset = load_dataset(dataset_name, split=split)\n",
    "    image_processor = AutoImageProcessor.from_pretrained(repo_name)\n",
    "    model = AutoModelForImageClassification.from_pretrained(repo_name)\n",
    "\n",
    "    actual, predicted = [], []\n",
    "\n",
    "    for sample in dataset:\n",
    "        image = sample[\"image\"].convert(\"RGB\")\n",
    "        actual.append(sample[\"label\"])\n",
    "        encoding = image_processor(image, return_tensors=\"pt\")\n",
    "\n",
    "        with torch.no_grad():\n",
    "            logits = model(**encoding).logits\n",
    "            predicted.append(logits.argmax(-1).item())\n",
    "\n",
    "    cm = confusion_matrix(actual, predicted)\n",
    "    labels = [model.config.id2label[i] for i in range(len(cm))]\n",
    "\n",
    "    plt.figure(figsize=(8, 6))\n",
    "    sns.heatmap(cm, annot=True, fmt=\"d\", cmap=\"Blues\", xticklabels=labels, yticklabels=labels)\n",
    "    plt.xlabel(\"Predicted Label\")\n",
    "    plt.ylabel(\"Actual Label\")\n",
    "    plt.title(\"Confusion Matrix\")\n",
    "    plt.show()\n",
    "\n",
    "    precision = precision_score(actual, predicted, average='weighted') * 100\n",
    "    recall = recall_score(actual, predicted, average='weighted') * 100\n",
    "    f1 = f1_score(actual, predicted, average='weighted') * 100\n",
    "    accuracy = accuracy_score(actual, predicted) * 100\n",
    "\n",
    "    print(f\"----- Classification Metrics -----\")\n",
    "    print(f\"Precision (%): {precision:.2f}\")\n",
    "    print(f\"Recall (%): {recall:.2f}\")\n",
    "    print(f\"F1-Score (%): {f1:.2f}\")\n",
    "    print(f\"Accuracy (%): {accuracy:.2f}\")"
   ]
  },
  {
   "cell_type": "code",
   "execution_count": null,
   "metadata": {
    "execution": {
     "iopub.execute_input": "2025-03-02T17:57:40.215895Z",
     "iopub.status.busy": "2025-03-02T17:57:40.215298Z",
     "iopub.status.idle": "2025-03-02T17:57:40.229484Z",
     "shell.execute_reply": "2025-03-02T17:57:40.228853Z",
     "shell.execute_reply.started": "2025-03-02T17:57:40.215857Z"
    },
    "id": "NGiAtyUrGAeW",
    "jupyter": {
     "source_hidden": true
    },
    "trusted": true
   },
   "outputs": [],
   "source": [
    "import random\n",
    "from IPython.display import display\n",
    "from PIL import Image\n",
    "\n",
    "def display_random_samples(dataset_name, repo_name, num_samples=10, split=\"test\"):\n",
    "    dataset = load_dataset(dataset_name, split=split)\n",
    "    image_processor = AutoImageProcessor.from_pretrained(repo_name)\n",
    "    model = AutoModelForImageClassification.from_pretrained(repo_name)\n",
    "\n",
    "    samples = random.sample(list(dataset), num_samples)\n",
    "\n",
    "    for sample in samples:\n",
    "        image = sample[\"image\"].convert(\"RGB\")\n",
    "        actual_label = sample[\"label\"]\n",
    "        encoding = image_processor(image, return_tensors=\"pt\")\n",
    "\n",
    "        with torch.no_grad():\n",
    "            logits = model(**encoding).logits\n",
    "            predicted_label = logits.argmax(-1).item()\n",
    "\n",
    "        actual_label_name = model.config.id2label[actual_label]\n",
    "        predicted_label_name = model.config.id2label[predicted_label]\n",
    "\n",
    "        display(image)\n",
    "        print(f\"Actual label: {actual_label_name}, Predicted label: {predicted_label_name}\")"
   ]
  },
  {
   "cell_type": "markdown",
   "metadata": {
    "id": "PANbeqaHGAeX"
   },
   "source": [
    "## Brain Normal VS Abnormal Classification"
   ]
  },
  {
   "cell_type": "markdown",
   "metadata": {
    "id": "WjhJNzXuGAeX"
   },
   "source": [
    "### Load Dataset and Label Mappings"
   ]
  },
  {
   "cell_type": "code",
   "execution_count": null,
   "metadata": {
    "colab": {
     "referenced_widgets": [
      "3e54246d0c414424b7223fd363d6b95d",
      "dd49e5dcad944941a00a8e8dce2cc682",
      "f549b8738f004af7af1e8b6a0d4be929",
      "dcbea685378644c0a09b3b0ea75ee8c0",
      "b8687f6f84ba4a52a0de13876188e296",
      "ab3774995eec4b73bec552e14b7b6bdc",
      "8f81b24f97e24b20965fd3cf8526335f"
     ]
    },
    "execution": {
     "iopub.execute_input": "2025-03-02T16:59:55.247955Z",
     "iopub.status.busy": "2025-03-02T16:59:55.247621Z",
     "iopub.status.idle": "2025-03-02T17:00:02.488025Z",
     "shell.execute_reply": "2025-03-02T17:00:02.487357Z",
     "shell.execute_reply.started": "2025-03-02T16:59:55.247918Z"
    },
    "id": "InQUN1zHGAeX",
    "outputId": "2726cbee-cc30-429b-fe67-4fa31eb989ab",
    "scrolled": true,
    "trusted": true
   },
   "outputs": [
    {
     "data": {
      "application/vnd.jupyter.widget-view+json": {
       "model_id": "3e54246d0c414424b7223fd363d6b95d",
       "version_major": 2,
       "version_minor": 0
      },
      "text/plain": [
       "README.md:   0%|          | 0.00/630 [00:00<?, ?B/s]"
      ]
     },
     "metadata": {},
     "output_type": "display_data"
    },
    {
     "data": {
      "application/vnd.jupyter.widget-view+json": {
       "model_id": "dd49e5dcad944941a00a8e8dce2cc682",
       "version_major": 2,
       "version_minor": 0
      },
      "text/plain": [
       "train-00000-of-00001.parquet:   0%|          | 0.00/63.5M [00:00<?, ?B/s]"
      ]
     },
     "metadata": {},
     "output_type": "display_data"
    },
    {
     "data": {
      "application/vnd.jupyter.widget-view+json": {
       "model_id": "f549b8738f004af7af1e8b6a0d4be929",
       "version_major": 2,
       "version_minor": 0
      },
      "text/plain": [
       "validation-00000-of-00001.parquet:   0%|          | 0.00/10.5M [00:00<?, ?B/s]"
      ]
     },
     "metadata": {},
     "output_type": "display_data"
    },
    {
     "data": {
      "application/vnd.jupyter.widget-view+json": {
       "model_id": "dcbea685378644c0a09b3b0ea75ee8c0",
       "version_major": 2,
       "version_minor": 0
      },
      "text/plain": [
       "test-00000-of-00001.parquet:   0%|          | 0.00/4.71M [00:00<?, ?B/s]"
      ]
     },
     "metadata": {},
     "output_type": "display_data"
    },
    {
     "data": {
      "application/vnd.jupyter.widget-view+json": {
       "model_id": "b8687f6f84ba4a52a0de13876188e296",
       "version_major": 2,
       "version_minor": 0
      },
      "text/plain": [
       "Generating train split:   0%|          | 0/2950 [00:00<?, ? examples/s]"
      ]
     },
     "metadata": {},
     "output_type": "display_data"
    },
    {
     "data": {
      "application/vnd.jupyter.widget-view+json": {
       "model_id": "ab3774995eec4b73bec552e14b7b6bdc",
       "version_major": 2,
       "version_minor": 0
      },
      "text/plain": [
       "Generating validation split:   0%|          | 0/597 [00:00<?, ? examples/s]"
      ]
     },
     "metadata": {},
     "output_type": "display_data"
    },
    {
     "data": {
      "application/vnd.jupyter.widget-view+json": {
       "model_id": "8f81b24f97e24b20965fd3cf8526335f",
       "version_major": 2,
       "version_minor": 0
      },
      "text/plain": [
       "Generating test split:   0%|          | 0/165 [00:00<?, ? examples/s]"
      ]
     },
     "metadata": {},
     "output_type": "display_data"
    }
   ],
   "source": [
    "abnormalities_dataset_name = \"bombshelll/brain_normal_vs_abnormal\"\n",
    "abnormalities_model_name = \"swin-brain-abnormalities-classification\"\n",
    "abnormalities_dataset = load_dataset_from_hub(abnormalities_dataset_name)\n",
    "\n",
    "abnormalities_label2id, abnormalities_id2label = create_label_mappings(abnormalities_dataset)"
   ]
  },
  {
   "cell_type": "markdown",
   "metadata": {
    "id": "C3nxCAg3GAeX"
   },
   "source": [
    "### Load Image Processor and Create Transforms"
   ]
  },
  {
   "cell_type": "code",
   "execution_count": null,
   "metadata": {
    "execution": {
     "iopub.execute_input": "2025-03-02T17:32:29.978386Z",
     "iopub.status.busy": "2025-03-02T17:32:29.978026Z",
     "iopub.status.idle": "2025-03-02T17:32:30.540941Z",
     "shell.execute_reply": "2025-03-02T17:32:30.540229Z",
     "shell.execute_reply.started": "2025-03-02T17:32:29.978355Z"
    },
    "id": "fAuBpTWcGAeX",
    "trusted": true
   },
   "outputs": [],
   "source": [
    "abnormalities_model_checkpoint = \"microsoft/swin-tiny-patch4-window7-224\"\n",
    "abnormalities_image_processor = load_image_processor(abnormalities_model_checkpoint)\n",
    "\n",
    "abnormalities_train_transforms, abnormalities_val_transforms = create_transforms(abnormalities_image_processor)\n",
    "\n",
    "abnormalities_train_ds = abnormalities_dataset[\"train\"]\n",
    "abnormalities_val_ds = abnormalities_dataset[\"validation\"]\n",
    "abnormalities_test_ds = abnormalities_dataset[\"test\"]\n",
    "\n",
    "set_transforms(abnormalities_train_ds, abnormalities_train_ds, abnormalities_train_transforms, abnormalities_train_transforms)\n",
    "set_transforms(abnormalities_val_ds, abnormalities_val_ds, abnormalities_val_transforms, abnormalities_val_transforms)\n",
    "set_transforms(abnormalities_test_ds, abnormalities_test_ds, abnormalities_val_transforms, abnormalities_val_transforms)\n",
    "\n",
    "# fraction = 0.25 \n",
    "\n",
    "# abnormalities_train_ds = get_dataset_subset(abnormalities_train_ds, fraction)\n",
    "# abnormalities_val_ds = get_dataset_subset(abnormalities_val_ds, fraction)\n",
    "# abnormalities_test_ds = get_dataset_subset(abnormalities_test_ds, fraction)"
   ]
  },
  {
   "cell_type": "markdown",
   "metadata": {
    "id": "S1FJR_LkGAeX"
   },
   "source": [
    "### Load Model and Set Training Arguments"
   ]
  },
  {
   "cell_type": "code",
   "execution_count": null,
   "metadata": {
    "execution": {
     "iopub.execute_input": "2025-03-02T17:32:30.681948Z",
     "iopub.status.busy": "2025-03-02T17:32:30.681184Z",
     "iopub.status.idle": "2025-03-02T17:32:31.249057Z",
     "shell.execute_reply": "2025-03-02T17:32:31.248325Z",
     "shell.execute_reply.started": "2025-03-02T17:32:30.681917Z"
    },
    "id": "2b3t440yGAeX",
    "outputId": "e903a798-7f2e-4322-8042-54b4a13f238c",
    "trusted": true
   },
   "outputs": [
    {
     "name": "stderr",
     "output_type": "stream",
     "text": [
      "Some weights of SwinForImageClassification were not initialized from the model checkpoint at microsoft/swin-tiny-patch4-window7-224 and are newly initialized because the shapes did not match:\n",
      "- classifier.bias: found shape torch.Size([1000]) in the checkpoint and torch.Size([3]) in the model instantiated\n",
      "- classifier.weight: found shape torch.Size([1000, 768]) in the checkpoint and torch.Size([3, 768]) in the model instantiated\n",
      "You should probably TRAIN this model on a down-stream task to be able to use it for predictions and inference.\n"
     ]
    }
   ],
   "source": [
    "abnormalities_model = load_model(abnormalities_model_checkpoint, abnormalities_label2id, abnormalities_id2label)\n",
    "\n",
    "abnormalities_batch_size = 32\n",
    "num_train_epoch = 15\n",
    "\n",
    "abnormalities_training_args = set_training_arguments(\n",
    "    abnormalities_model_checkpoint,\n",
    "    abnormalities_batch_size,\n",
    "    abnormalities_model_name,\n",
    "    num_train_epoch\n",
    ")"
   ]
  },
  {
   "cell_type": "markdown",
   "metadata": {
    "id": "JUuVXX_CGAeX"
   },
   "source": [
    "### Initialize Trainer dan Train Model"
   ]
  },
  {
   "cell_type": "code",
   "execution_count": null,
   "metadata": {
    "execution": {
     "iopub.execute_input": "2025-03-02T17:32:31.250585Z",
     "iopub.status.busy": "2025-03-02T17:32:31.250281Z",
     "iopub.status.idle": "2025-03-02T17:32:32.216523Z",
     "shell.execute_reply": "2025-03-02T17:32:32.215531Z",
     "shell.execute_reply.started": "2025-03-02T17:32:31.250558Z"
    },
    "id": "GtHFBhIXGAeY",
    "trusted": true
   },
   "outputs": [],
   "source": [
    "import shutil; shutil.rmtree(\"/kaggle/working/swin-brain-abnormalities-classification\", ignore_errors=True)"
   ]
  },
  {
   "cell_type": "code",
   "execution_count": null,
   "metadata": {
    "colab": {
     "referenced_widgets": [
      "b4236cc6ccf14f1db63a98c6eb5c96cc"
     ]
    },
    "execution": {
     "iopub.execute_input": "2025-03-02T17:32:32.219134Z",
     "iopub.status.busy": "2025-03-02T17:32:32.218441Z",
     "iopub.status.idle": "2025-03-02T17:43:48.747817Z",
     "shell.execute_reply": "2025-03-02T17:43:48.746953Z",
     "shell.execute_reply.started": "2025-03-02T17:32:32.219091Z"
    },
    "id": "bnDhwgQGGAeY",
    "outputId": "5b018abf-4f0b-4d59-80dc-2a05cacef35c",
    "trusted": true
   },
   "outputs": [
    {
     "data": {
      "text/html": [
       "\n",
       "    <div>\n",
       "      \n",
       "      <progress value='345' max='345' style='width:300px; height:20px; vertical-align: middle;'></progress>\n",
       "      [345/345 08:16, Epoch 14/15]\n",
       "    </div>\n",
       "    <table border=\"1\" class=\"dataframe\">\n",
       "  <thead>\n",
       " <tr style=\"text-align: left;\">\n",
       "      <th>Epoch</th>\n",
       "      <th>Training Loss</th>\n",
       "      <th>Validation Loss</th>\n",
       "      <th>Accuracy</th>\n",
       "    </tr>\n",
       "  </thead>\n",
       "  <tbody>\n",
       "    <tr>\n",
       "      <td>0</td>\n",
       "      <td>0.864100</td>\n",
       "      <td>0.528227</td>\n",
       "      <td>0.773869</td>\n",
       "    </tr>\n",
       "    <tr>\n",
       "      <td>1</td>\n",
       "      <td>0.452600</td>\n",
       "      <td>0.244146</td>\n",
       "      <td>0.897822</td>\n",
       "    </tr>\n",
       "    <tr>\n",
       "      <td>2</td>\n",
       "      <td>0.271000</td>\n",
       "      <td>0.176419</td>\n",
       "      <td>0.931323</td>\n",
       "    </tr>\n",
       "    <tr>\n",
       "      <td>4</td>\n",
       "      <td>0.170500</td>\n",
       "      <td>0.184061</td>\n",
       "      <td>0.941374</td>\n",
       "    </tr>\n",
       "    <tr>\n",
       "      <td>5</td>\n",
       "      <td>0.178900</td>\n",
       "      <td>0.126412</td>\n",
       "      <td>0.953099</td>\n",
       "    </tr>\n",
       "    <tr>\n",
       "      <td>6</td>\n",
       "      <td>0.144200</td>\n",
       "      <td>0.204833</td>\n",
       "      <td>0.939698</td>\n",
       "    </tr>\n",
       "    <tr>\n",
       "      <td>8</td>\n",
       "      <td>0.122000</td>\n",
       "      <td>0.139903</td>\n",
       "      <td>0.951424</td>\n",
       "    </tr>\n",
       "    <tr>\n",
       "      <td>9</td>\n",
       "      <td>0.115700</td>\n",
       "      <td>0.118398</td>\n",
       "      <td>0.961474</td>\n",
       "    </tr>\n",
       "    <tr>\n",
       "      <td>10</td>\n",
       "      <td>0.108900</td>\n",
       "      <td>0.184783</td>\n",
       "      <td>0.948074</td>\n",
       "    </tr>\n",
       "    <tr>\n",
       "      <td>12</td>\n",
       "      <td>0.096900</td>\n",
       "      <td>0.165786</td>\n",
       "      <td>0.954774</td>\n",
       "    </tr>\n",
       "    <tr>\n",
       "      <td>13</td>\n",
       "      <td>0.082400</td>\n",
       "      <td>0.173629</td>\n",
       "      <td>0.954774</td>\n",
       "    </tr>\n",
       "    <tr>\n",
       "      <td>14</td>\n",
       "      <td>0.076800</td>\n",
       "      <td>0.172992</td>\n",
       "      <td>0.953099</td>\n",
       "    </tr>\n",
       "  </tbody>\n",
       "</table><p>"
      ],
      "text/plain": [
       "<IPython.core.display.HTML object>"
      ]
     },
     "metadata": {},
     "output_type": "display_data"
    },
    {
     "data": {
      "application/vnd.jupyter.widget-view+json": {
       "model_id": "b4236cc6ccf14f1db63a98c6eb5c96cc",
       "version_major": 2,
       "version_minor": 0
      },
      "text/plain": [
       "model.safetensors:   0%|          | 0.00/110M [00:00<?, ?B/s]"
      ]
     },
     "metadata": {},
     "output_type": "display_data"
    },
    {
     "name": "stdout",
     "output_type": "stream",
     "text": [
      "***** train metrics *****\n",
      "  epoch                    =      14.8387\n",
      "  total_flos               = 1013859465GF\n",
      "  train_loss               =       0.2119\n",
      "  train_runtime            =   0:08:18.07\n",
      "  train_samples_per_second =       88.842\n",
      "  train_steps_per_second   =        0.693\n"
     ]
    }
   ],
   "source": [
    "abnormalities_trainer = initialize_trainer(\n",
    "    abnormalities_model,\n",
    "    abnormalities_training_args,\n",
    "    abnormalities_train_ds,\n",
    "    abnormalities_val_ds,\n",
    "    abnormalities_image_processor\n",
    ")\n",
    "\n",
    "abnormalities_train_metrics = train_model(abnormalities_trainer)"
   ]
  },
  {
   "cell_type": "code",
   "execution_count": null,
   "metadata": {
    "execution": {
     "iopub.execute_input": "2025-03-02T17:43:48.749111Z",
     "iopub.status.busy": "2025-03-02T17:43:48.748868Z",
     "iopub.status.idle": "2025-03-02T17:43:49.026092Z",
     "shell.execute_reply": "2025-03-02T17:43:49.025305Z",
     "shell.execute_reply.started": "2025-03-02T17:43:48.749087Z"
    },
    "id": "sd6JtIo5GAeY",
    "outputId": "e0482538-8ebd-4259-919a-5c85fb73fbe7",
    "trusted": true
   },
   "outputs": [
    {
     "data": {
      "image/png": "[encoded data removed]",
      "text/plain": [
       "<Figure size 1000x600 with 1 Axes>"
      ]
     },
     "metadata": {},
     "output_type": "display_data"
    }
   ],
   "source": [
    "plot_learning_curve(abnormalities_trainer)"
   ]
  },
  {
   "cell_type": "markdown",
   "metadata": {
    "id": "Dk79i_8CGAeZ"
   },
   "source": [
    "### Evaluate Model"
   ]
  },
  {
   "cell_type": "code",
   "execution_count": null,
   "metadata": {
    "execution": {
     "iopub.execute_input": "2025-03-02T17:43:49.028707Z",
     "iopub.status.busy": "2025-03-02T17:43:49.028320Z",
     "iopub.status.idle": "2025-03-02T17:43:51.607818Z",
     "shell.execute_reply": "2025-03-02T17:43:51.606922Z",
     "shell.execute_reply.started": "2025-03-02T17:43:49.028667Z"
    },
    "id": "bGjgi2CgGAeZ",
    "outputId": "273b183a-cbea-42dd-87b2-60212da9d057",
    "trusted": true
   },
   "outputs": [
    {
     "data": {
      "text/html": [
       "\n",
       "    <div>\n",
       "      \n",
       "      <progress value='25' max='19' style='width:300px; height:20px; vertical-align: middle;'></progress>\n",
       "      [19/19 00:02]\n",
       "    </div>\n",
       "    "
      ],
      "text/plain": [
       "<IPython.core.display.HTML object>"
      ]
     },
     "metadata": {},
     "output_type": "display_data"
    },
    {
     "name": "stdout",
     "output_type": "stream",
     "text": [
      "***** eval metrics *****\n",
      "  epoch                   =    14.8387\n",
      "  eval_accuracy           =     0.9615\n",
      "  eval_loss               =     0.1184\n",
      "  eval_runtime            = 0:00:02.57\n",
      "  eval_samples_per_second =    231.993\n",
      "  eval_steps_per_second   =      7.383\n"
     ]
    }
   ],
   "source": [
    "abnormalities_metrics = evaluate_model(abnormalities_trainer)"
   ]
  },
  {
   "cell_type": "code",
   "execution_count": null,
   "metadata": {
    "execution": {
     "iopub.execute_input": "2025-03-02T17:43:51.609103Z",
     "iopub.status.busy": "2025-03-02T17:43:51.608835Z",
     "iopub.status.idle": "2025-03-02T17:43:52.467150Z",
     "shell.execute_reply": "2025-03-02T17:43:52.466281Z",
     "shell.execute_reply.started": "2025-03-02T17:43:51.609076Z"
    },
    "id": "a2Dya2QIGAeZ",
    "outputId": "339b6f1d-5b8a-4fea-8fd2-18f67afb90af",
    "trusted": true
   },
   "outputs": [
    {
     "name": "stdout",
     "output_type": "stream",
     "text": [
      "Evaluating model on test dataset...\n",
      "***** test metrics *****\n",
      "  epoch                   =    14.8387\n",
      "  eval_accuracy           =      0.903\n",
      "  eval_loss               =     0.2229\n",
      "  eval_runtime            = 0:00:00.85\n",
      "  eval_samples_per_second =    193.547\n",
      "  eval_steps_per_second   =      7.038\n"
     ]
    }
   ],
   "source": [
    "test_metrics = evaluate_on_test_set(abnormalities_trainer, abnormalities_test_ds)"
   ]
  },
  {
   "cell_type": "code",
   "execution_count": null,
   "metadata": {
    "execution": {
     "iopub.execute_input": "2025-03-02T17:43:52.468433Z",
     "iopub.status.busy": "2025-03-02T17:43:52.468181Z",
     "iopub.status.idle": "2025-03-02T17:43:52.491722Z",
     "shell.execute_reply": "2025-03-02T17:43:52.490906Z",
     "shell.execute_reply.started": "2025-03-02T17:43:52.468408Z"
    },
    "id": "vl9E6VZBGAeZ",
    "outputId": "85fc20d3-f9dc-423a-b06e-b513a67ea109",
    "trusted": true
   },
   "outputs": [
    {
     "name": "stdout",
     "output_type": "stream",
     "text": [
      "['image', 'label']\n",
      "{'image': <PIL.JpegImagePlugin.JpegImageFile image mode=L size=600x656 at 0x7B5E50321AE0>, 'label': 0, 'pixel_values': tensor([[[-1.6384, -1.6384, -1.6555,  ..., -1.6384, -1.6555, -1.6555],\n",
      "         [-1.6555, -1.6555, -1.6555,  ..., -1.6555, -1.6555, -1.6555],\n",
      "         [-1.6555, -1.6555, -1.6555,  ..., -1.6555, -1.6555, -1.6555],\n",
      "         ...,\n",
      "         [-1.8953, -1.8953, -1.8953,  ..., -1.5185, -1.5870, -1.6727],\n",
      "         [-1.9124, -1.9124, -1.8953,  ..., -1.5528, -1.6384, -1.6898],\n",
      "         [-1.9124, -1.8953, -1.8953,  ..., -1.5870, -1.6727, -1.7069]],\n",
      "\n",
      "        [[-1.5455, -1.5455, -1.5630,  ..., -1.5455, -1.5630, -1.5630],\n",
      "         [-1.5630, -1.5630, -1.5630,  ..., -1.5630, -1.5630, -1.5630],\n",
      "         [-1.5630, -1.5630, -1.5630,  ..., -1.5630, -1.5630, -1.5630],\n",
      "         ...,\n",
      "         [-1.8081, -1.8081, -1.8081,  ..., -1.4230, -1.4930, -1.5805],\n",
      "         [-1.8256, -1.8256, -1.8081,  ..., -1.4580, -1.5455, -1.5980],\n",
      "         [-1.8256, -1.8081, -1.8081,  ..., -1.4930, -1.5805, -1.6155]],\n",
      "\n",
      "        [[-1.3164, -1.3164, -1.3339,  ..., -1.3164, -1.3339, -1.3339],\n",
      "         [-1.3339, -1.3339, -1.3339,  ..., -1.3339, -1.3339, -1.3339],\n",
      "         [-1.3339, -1.3339, -1.3339,  ..., -1.3339, -1.3339, -1.3339],\n",
      "         ...,\n",
      "         [-1.5779, -1.5779, -1.5779,  ..., -1.1944, -1.2641, -1.3513],\n",
      "         [-1.5953, -1.5953, -1.5779,  ..., -1.2293, -1.3164, -1.3687],\n",
      "         [-1.5953, -1.5779, -1.5779,  ..., -1.2641, -1.3513, -1.3861]]])}\n"
     ]
    }
   ],
   "source": [
    "print(abnormalities_train_ds.column_names)\n",
    "print(abnormalities_train_ds[0])"
   ]
  },
  {
   "cell_type": "code",
   "execution_count": null,
   "metadata": {
    "execution": {
     "iopub.execute_input": "2025-03-02T17:43:52.493029Z",
     "iopub.status.busy": "2025-03-02T17:43:52.492769Z",
     "iopub.status.idle": "2025-03-02T17:43:52.497575Z",
     "shell.execute_reply": "2025-03-02T17:43:52.496724Z",
     "shell.execute_reply.started": "2025-03-02T17:43:52.493004Z"
    },
    "id": "zG6UDB15GAeZ",
    "trusted": true
   },
   "outputs": [],
   "source": [
    "def create_label_mappings(dataset):\n",
    "    \"\"\"\n",
    "    Create mappings from labels to IDs and vice versa.\n",
    "\n",
    "    Args:\n",
    "        dataset (Dataset): Dataset containing labeled data.\n",
    "\n",
    "    Returns:\n",
    "        tuple: A tuple containing two dictionaries, label2id and id2label.\n",
    "    \"\"\"\n",
    "    labels = dataset.features[\"label\"].names  \n",
    "    label2id = {label: i for i, label in enumerate(labels)}\n",
    "    id2label = {i: label for i, label in enumerate(labels)}\n",
    "\n",
    "    return label2id, id2label"
   ]
  },
  {
   "cell_type": "code",
   "execution_count": null,
   "metadata": {
    "execution": {
     "iopub.execute_input": "2025-03-02T17:43:52.499229Z",
     "iopub.status.busy": "2025-03-02T17:43:52.498711Z",
     "iopub.status.idle": "2025-03-02T17:43:52.506156Z",
     "shell.execute_reply": "2025-03-02T17:43:52.505391Z",
     "shell.execute_reply.started": "2025-03-02T17:43:52.499192Z"
    },
    "id": "asgBGSVtGAeZ",
    "trusted": true
   },
   "outputs": [],
   "source": [
    "# cross_validate_model(\n",
    "#     model_checkpoint=\"microsoft/swin-tiny-patch4-window7-224\",\n",
    "#     dataset=abnormalities_train_ds,  \n",
    "#     batch_size=32,\n",
    "#     num_epochs=15,\n",
    "#     model_name=\"swin-brain-abnormalities-classification\"\n",
    "# )"
   ]
  },
  {
   "cell_type": "code",
   "execution_count": null,
   "metadata": {
    "execution": {
     "iopub.execute_input": "2025-03-02T17:43:52.509105Z",
     "iopub.status.busy": "2025-03-02T17:43:52.508569Z",
     "iopub.status.idle": "2025-03-02T17:43:52.515061Z",
     "shell.execute_reply": "2025-03-02T17:43:52.514249Z",
     "shell.execute_reply.started": "2025-03-02T17:43:52.509079Z"
    },
    "id": "e3VOQoIGGAeZ",
    "trusted": true
   },
   "outputs": [],
   "source": [
    "# push_model_to_hub(abnormalities_trainer)"
   ]
  },
  {
   "cell_type": "code",
   "execution_count": null,
   "metadata": {
    "colab": {
     "referenced_widgets": [
      "325a24206ef14aefac6c3d2f2dd50ef6"
     ]
    },
    "execution": {
     "iopub.execute_input": "2025-03-02T17:43:52.516748Z",
     "iopub.status.busy": "2025-03-02T17:43:52.516051Z",
     "iopub.status.idle": "2025-03-02T17:44:17.393357Z",
     "shell.execute_reply": "2025-03-02T17:44:17.392543Z",
     "shell.execute_reply.started": "2025-03-02T17:43:52.516709Z"
    },
    "id": "rh4ravCGGAeZ",
    "outputId": "1f1aec1c-4c69-4ccc-9585-360724716ab7",
    "trusted": true
   },
   "outputs": [
    {
     "data": {
      "application/vnd.jupyter.widget-view+json": {
       "model_id": "325a24206ef14aefac6c3d2f2dd50ef6",
       "version_major": 2,
       "version_minor": 0
      },
      "text/plain": [
       "model.safetensors:   0%|          | 0.00/110M [00:00<?, ?B/s]"
      ]
     },
     "metadata": {},
     "output_type": "display_data"
    },
    {
     "data": {
      "image/png": "[encoded data removed]",
      "text/plain": [
       "<Figure size 800x600 with 2 Axes>"
      ]
     },
     "metadata": {},
     "output_type": "display_data"
    },
    {
     "name": "stdout",
     "output_type": "stream",
     "text": [
      "----- Classification Metrics -----\n",
      "Precision (%): 91.27\n",
      "Recall (%): 90.91\n",
      "F1-Score (%): 90.83\n",
      "Accuracy (%): 90.91\n"
     ]
    }
   ],
   "source": [
    "plot_conf_matrix_and_metrics(\n",
    "    dataset_name=\"bombshelll/brain_normal_vs_abnormal\",\n",
    "    repo_name=\"bombshelll/swin-brain-abnormalities-classification\"\n",
    ")"
   ]
  },
  {
   "cell_type": "markdown",
   "metadata": {
    "id": "ggkTcPpcGAea"
   },
   "source": [
    "### Inference"
   ]
  },
  {
   "cell_type": "code",
   "execution_count": null,
   "metadata": {
    "execution": {
     "iopub.status.busy": "2025-03-02T17:04:35.916467Z",
     "iopub.status.idle": "2025-03-02T17:04:35.916963Z",
     "shell.execute_reply": "2025-03-02T17:04:35.916734Z",
     "shell.execute_reply.started": "2025-03-02T17:04:35.916710Z"
    },
    "id": "Jde_7SAMGAea",
    "jupyter": {
     "source_hidden": true
    },
    "scrolled": true,
    "trusted": true
   },
   "outputs": [],
   "source": [
    "display_random_samples(abnormalities_dataset_name, repo_name=\"bombshelll/swin-brain-abnormalities-classification\", num_samples=10)"
   ]
  },
  {
   "cell_type": "markdown",
   "metadata": {
    "id": "FZGL1_UHGAea"
   },
   "source": [
    "## Brain Plane Classification"
   ]
  },
  {
   "cell_type": "markdown",
   "metadata": {
    "id": "apt8LbFHGAea"
   },
   "source": [
    "### Load Dataset and Label Mappings"
   ]
  },
  {
   "cell_type": "code",
   "execution_count": null,
   "metadata": {
    "execution": {
     "iopub.execute_input": "2025-03-02T17:57:40.233446Z",
     "iopub.status.busy": "2025-03-02T17:57:40.232984Z",
     "iopub.status.idle": "2025-03-02T17:57:40.244620Z",
     "shell.execute_reply": "2025-03-02T17:57:40.243792Z",
     "shell.execute_reply.started": "2025-03-02T17:57:40.233420Z"
    },
    "id": "NrJW1hbwGAea",
    "trusted": true
   },
   "outputs": [],
   "source": [
    "def create_label_mappings(dataset):\n",
    "    \"\"\"\n",
    "    Create mappings from labels to IDs and vice versa.\n",
    "\n",
    "    Args:\n",
    "        dataset (Dataset or DatasetDict): Dataset containing labeled data.\n",
    "\n",
    "    Returns:\n",
    "        tuple: A tuple containing two dictionaries, label2id and id2label.\n",
    "    \"\"\"\n",
    "    if isinstance(dataset, dict) or isinstance(dataset, DatasetDict):\n",
    "        dataset = dataset[\"train\"]\n",
    "\n",
    "    labels = dataset.features[\"label\"].names\n",
    "    label2id = {label: i for i, label in enumerate(labels)}\n",
    "    id2label = {i: label for i, label in enumerate(labels)}\n",
    "\n",
    "    return label2id, id2label"
   ]
  },
  {
   "cell_type": "code",
   "execution_count": null,
   "metadata": {
    "colab": {
     "referenced_widgets": [
      "c05d048473304d0c84ce30af55a4cf4a",
      "6122e7bbdb22409b98d07622ff7d79fc",
      "4bdb421945c64f6da3a12f0ab6985b4c",
      "5f00ba3ff9984132b1da160f212b492e",
      "26d3d3935fe64453bd639cd8481b5de4",
      "db02ed3e332443338321ccf8f0616253",
      "a29cfe1b49874cac9787989aa9475b74"
     ]
    },
    "execution": {
     "iopub.execute_input": "2025-03-02T17:57:40.245872Z",
     "iopub.status.busy": "2025-03-02T17:57:40.245610Z",
     "iopub.status.idle": "2025-03-02T17:57:43.448151Z",
     "shell.execute_reply": "2025-03-02T17:57:43.447310Z",
     "shell.execute_reply.started": "2025-03-02T17:57:40.245848Z"
    },
    "id": "nmeHsN0NGAea",
    "outputId": "e1781d69-cdbe-477e-ff92-4f0015b9cf79",
    "trusted": true
   },
   "outputs": [
    {
     "data": {
      "application/vnd.jupyter.widget-view+json": {
       "model_id": "c05d048473304d0c84ce30af55a4cf4a",
       "version_major": 2,
       "version_minor": 0
      },
      "text/plain": [
       "README.md:   0%|          | 0.00/627 [00:00<?, ?B/s]"
      ]
     },
     "metadata": {},
     "output_type": "display_data"
    },
    {
     "data": {
      "application/vnd.jupyter.widget-view+json": {
       "model_id": "6122e7bbdb22409b98d07622ff7d79fc",
       "version_major": 2,
       "version_minor": 0
      },
      "text/plain": [
       "train-00000-of-00001.parquet:   0%|          | 0.00/12.6M [00:00<?, ?B/s]"
      ]
     },
     "metadata": {},
     "output_type": "display_data"
    },
    {
     "data": {
      "application/vnd.jupyter.widget-view+json": {
       "model_id": "4bdb421945c64f6da3a12f0ab6985b4c",
       "version_major": 2,
       "version_minor": 0
      },
      "text/plain": [
       "validation-00000-of-00001.parquet:   0%|          | 0.00/2.79M [00:00<?, ?B/s]"
      ]
     },
     "metadata": {},
     "output_type": "display_data"
    },
    {
     "data": {
      "application/vnd.jupyter.widget-view+json": {
       "model_id": "5f00ba3ff9984132b1da160f212b492e",
       "version_major": 2,
       "version_minor": 0
      },
      "text/plain": [
       "test-00000-of-00001.parquet:   0%|          | 0.00/2.53M [00:00<?, ?B/s]"
      ]
     },
     "metadata": {},
     "output_type": "display_data"
    },
    {
     "data": {
      "application/vnd.jupyter.widget-view+json": {
       "model_id": "26d3d3935fe64453bd639cd8481b5de4",
       "version_major": 2,
       "version_minor": 0
      },
      "text/plain": [
       "Generating train split:   0%|          | 0/630 [00:00<?, ? examples/s]"
      ]
     },
     "metadata": {},
     "output_type": "display_data"
    },
    {
     "data": {
      "application/vnd.jupyter.widget-view+json": {
       "model_id": "db02ed3e332443338321ccf8f0616253",
       "version_major": 2,
       "version_minor": 0
      },
      "text/plain": [
       "Generating validation split:   0%|          | 0/135 [00:00<?, ? examples/s]"
      ]
     },
     "metadata": {},
     "output_type": "display_data"
    },
    {
     "data": {
      "application/vnd.jupyter.widget-view+json": {
       "model_id": "a29cfe1b49874cac9787989aa9475b74",
       "version_major": 2,
       "version_minor": 0
      },
      "text/plain": [
       "Generating test split:   0%|          | 0/135 [00:00<?, ? examples/s]"
      ]
     },
     "metadata": {},
     "output_type": "display_data"
    }
   ],
   "source": [
    "plane_dataset_name = \"bombshelll/brain_plane\"\n",
    "plane_model_name = \"swin-brain-plane-classification\"\n",
    "plane_dataset = load_dataset_from_hub(plane_dataset_name)\n",
    "\n",
    "plane_label2id, plane_id2label = create_label_mappings(plane_dataset)"
   ]
  },
  {
   "cell_type": "code",
   "execution_count": null,
   "metadata": {
    "colab": {
     "referenced_widgets": [
      "bf603032298a4688961ff6f382de4f3b"
     ]
    },
    "execution": {
     "iopub.execute_input": "2025-03-02T17:57:43.457190Z",
     "iopub.status.busy": "2025-03-02T17:57:43.456426Z",
     "iopub.status.idle": "2025-03-02T17:57:43.688807Z",
     "shell.execute_reply": "2025-03-02T17:57:43.688203Z",
     "shell.execute_reply.started": "2025-03-02T17:57:43.457149Z"
    },
    "id": "Q2CXq4SOGAea",
    "outputId": "d8aad1c2-b116-432f-f10c-29a71bdc1b69",
    "trusted": true
   },
   "outputs": [
    {
     "data": {
      "application/vnd.jupyter.widget-view+json": {
       "model_id": "bf603032298a4688961ff6f382de4f3b",
       "version_major": 2,
       "version_minor": 0
      },
      "text/plain": [
       "preprocessor_config.json:   0%|          | 0.00/255 [00:00<?, ?B/s]"
      ]
     },
     "metadata": {},
     "output_type": "display_data"
    }
   ],
   "source": [
    "plane_model_checkpoint = \"microsoft/swin-tiny-patch4-window7-224\"\n",
    "plane_image_processor = load_image_processor(plane_model_checkpoint)\n",
    "\n",
    "plane_train_transforms, plane_val_transforms = create_transforms(plane_image_processor)\n",
    "\n",
    "plane_train_ds = plane_dataset[\"train\"]\n",
    "plane_val_ds = plane_dataset[\"validation\"]\n",
    "plane_test_ds = plane_dataset[\"test\"]\n",
    "\n",
    "set_transforms(plane_train_ds, plane_train_ds, plane_train_transforms, plane_train_transforms)\n",
    "set_transforms(plane_val_ds, plane_val_ds, plane_val_transforms, plane_val_transforms)\n",
    "set_transforms(plane_test_ds, plane_test_ds, plane_val_transforms, plane_val_transforms)\n",
    "\n",
    "# fraction = 0.75\n",
    "\n",
    "# plane_train_ds = get_dataset_subset(plane_train_ds, fraction)\n",
    "# plane_val_ds = get_dataset_subset(plane_val_ds, fraction)\n",
    "# plane_test_ds = get_dataset_subset(plane_test_ds, fraction)"
   ]
  },
  {
   "cell_type": "markdown",
   "metadata": {
    "id": "ax4F-GZBGAeb"
   },
   "source": [
    "### Load Model and Set Training Arguments"
   ]
  },
  {
   "cell_type": "code",
   "execution_count": null,
   "metadata": {
    "colab": {
     "referenced_widgets": [
      "b3d1e4aa69114ed38403519e64e0c740",
      "fc7c37e647c34595bb728039ec1d806c"
     ]
    },
    "execution": {
     "iopub.execute_input": "2025-03-02T17:57:43.689975Z",
     "iopub.status.busy": "2025-03-02T17:57:43.689717Z",
     "iopub.status.idle": "2025-03-02T17:57:45.281260Z",
     "shell.execute_reply": "2025-03-02T17:57:45.280285Z",
     "shell.execute_reply.started": "2025-03-02T17:57:43.689949Z"
    },
    "id": "I0uMzlr6GAeb",
    "outputId": "76aa96db-a390-4127-ef82-00e3a8a82cdb",
    "trusted": true
   },
   "outputs": [
    {
     "data": {
      "application/vnd.jupyter.widget-view+json": {
       "model_id": "b3d1e4aa69114ed38403519e64e0c740",
       "version_major": 2,
       "version_minor": 0
      },
      "text/plain": [
       "config.json:   0%|          | 0.00/71.8k [00:00<?, ?B/s]"
      ]
     },
     "metadata": {},
     "output_type": "display_data"
    },
    {
     "data": {
      "application/vnd.jupyter.widget-view+json": {
       "model_id": "fc7c37e647c34595bb728039ec1d806c",
       "version_major": 2,
       "version_minor": 0
      },
      "text/plain": [
       "model.safetensors:   0%|          | 0.00/113M [00:00<?, ?B/s]"
      ]
     },
     "metadata": {},
     "output_type": "display_data"
    },
    {
     "name": "stderr",
     "output_type": "stream",
     "text": [
      "Some weights of SwinForImageClassification were not initialized from the model checkpoint at microsoft/swin-tiny-patch4-window7-224 and are newly initialized because the shapes did not match:\n",
      "- classifier.bias: found shape torch.Size([1000]) in the checkpoint and torch.Size([3]) in the model instantiated\n",
      "- classifier.weight: found shape torch.Size([1000, 768]) in the checkpoint and torch.Size([3, 768]) in the model instantiated\n",
      "You should probably TRAIN this model on a down-stream task to be able to use it for predictions and inference.\n"
     ]
    }
   ],
   "source": [
    "plane_model = load_model(plane_model_checkpoint, plane_label2id, plane_id2label)\n",
    "\n",
    "plane_batch_size = 32\n",
    "num_train_epoch = 10\n",
    "\n",
    "plane_training_args = set_training_arguments(\n",
    "    plane_model_checkpoint,\n",
    "    plane_batch_size,\n",
    "    plane_model_name,\n",
    "    num_train_epoch\n",
    ")"
   ]
  },
  {
   "cell_type": "markdown",
   "metadata": {
    "id": "Iz2e39ugGAeb"
   },
   "source": [
    "### Initialize Trainer and Train Model"
   ]
  },
  {
   "cell_type": "code",
   "execution_count": null,
   "metadata": {
    "execution": {
     "iopub.execute_input": "2025-03-02T17:57:45.282739Z",
     "iopub.status.busy": "2025-03-02T17:57:45.282448Z",
     "iopub.status.idle": "2025-03-02T17:57:45.286942Z",
     "shell.execute_reply": "2025-03-02T17:57:45.286020Z",
     "shell.execute_reply.started": "2025-03-02T17:57:45.282712Z"
    },
    "id": "YNFNyPshGAeb",
    "trusted": true
   },
   "outputs": [],
   "source": [
    "import shutil; shutil.rmtree(\"/kaggle/working/swin-brain-plane-classification\", ignore_errors=True)"
   ]
  },
  {
   "cell_type": "code",
   "execution_count": null,
   "metadata": {
    "colab": {
     "referenced_widgets": [
      "3b6ee0ef2cfa43889f510d4b3df8de3f"
     ]
    },
    "execution": {
     "iopub.execute_input": "2025-03-02T17:57:45.288725Z",
     "iopub.status.busy": "2025-03-02T17:57:45.288054Z",
     "iopub.status.idle": "2025-03-02T18:00:27.316003Z",
     "shell.execute_reply": "2025-03-02T18:00:27.315065Z",
     "shell.execute_reply.started": "2025-03-02T17:57:45.288681Z"
    },
    "id": "pRYsthqHGAeb",
    "outputId": "c1e178d0-4fe1-4c29-c959-381061a6e8cf",
    "trusted": true
   },
   "outputs": [
    {
     "data": {
      "text/html": [
       "\n",
       "    <div>\n",
       "      \n",
       "      <progress value='50' max='50' style='width:300px; height:20px; vertical-align: middle;'></progress>\n",
       "      [50/50 01:19, Epoch 10/10]\n",
       "    </div>\n",
       "    <table border=\"1\" class=\"dataframe\">\n",
       "  <thead>\n",
       " <tr style=\"text-align: left;\">\n",
       "      <th>Epoch</th>\n",
       "      <th>Training Loss</th>\n",
       "      <th>Validation Loss</th>\n",
       "      <th>Accuracy</th>\n",
       "    </tr>\n",
       "  </thead>\n",
       "  <tbody>\n",
       "    <tr>\n",
       "      <td>1</td>\n",
       "      <td>1.060600</td>\n",
       "      <td>0.788663</td>\n",
       "      <td>0.874074</td>\n",
       "    </tr>\n",
       "    <tr>\n",
       "      <td>2</td>\n",
       "      <td>0.725600</td>\n",
       "      <td>0.394940</td>\n",
       "      <td>0.911111</td>\n",
       "    </tr>\n",
       "    <tr>\n",
       "      <td>3</td>\n",
       "      <td>0.433100</td>\n",
       "      <td>0.173064</td>\n",
       "      <td>0.970370</td>\n",
       "    </tr>\n",
       "    <tr>\n",
       "      <td>4</td>\n",
       "      <td>0.316500</td>\n",
       "      <td>0.124958</td>\n",
       "      <td>0.962963</td>\n",
       "    </tr>\n",
       "    <tr>\n",
       "      <td>5</td>\n",
       "      <td>0.182700</td>\n",
       "      <td>0.084743</td>\n",
       "      <td>0.970370</td>\n",
       "    </tr>\n",
       "    <tr>\n",
       "      <td>6</td>\n",
       "      <td>0.148800</td>\n",
       "      <td>0.091894</td>\n",
       "      <td>0.962963</td>\n",
       "    </tr>\n",
       "    <tr>\n",
       "      <td>7</td>\n",
       "      <td>0.142500</td>\n",
       "      <td>0.060407</td>\n",
       "      <td>0.977778</td>\n",
       "    </tr>\n",
       "    <tr>\n",
       "      <td>8</td>\n",
       "      <td>0.148700</td>\n",
       "      <td>0.071781</td>\n",
       "      <td>0.977778</td>\n",
       "    </tr>\n",
       "    <tr>\n",
       "      <td>9</td>\n",
       "      <td>0.118000</td>\n",
       "      <td>0.057757</td>\n",
       "      <td>0.977778</td>\n",
       "    </tr>\n",
       "    <tr>\n",
       "      <td>10</td>\n",
       "      <td>0.127800</td>\n",
       "      <td>0.055641</td>\n",
       "      <td>0.977778</td>\n",
       "    </tr>\n",
       "  </tbody>\n",
       "</table><p>"
      ],
      "text/plain": [
       "<IPython.core.display.HTML object>"
      ]
     },
     "metadata": {},
     "output_type": "display_data"
    },
    {
     "data": {
      "application/vnd.jupyter.widget-view+json": {
       "model_id": "3b6ee0ef2cfa43889f510d4b3df8de3f",
       "version_major": 2,
       "version_minor": 0
      },
      "text/plain": [
       "model.safetensors:   0%|          | 0.00/110M [00:00<?, ?B/s]"
      ]
     },
     "metadata": {},
     "output_type": "display_data"
    },
    {
     "name": "stdout",
     "output_type": "stream",
     "text": [
      "***** train metrics *****\n",
      "  epoch                    =        10.0\n",
      "  total_flos               = 145842420GF\n",
      "  train_loss               =      0.3404\n",
      "  train_runtime            =  0:01:22.61\n",
      "  train_samples_per_second =      76.253\n",
      "  train_steps_per_second   =       0.605\n"
     ]
    }
   ],
   "source": [
    "plane_trainer = initialize_trainer(\n",
    "    plane_model,\n",
    "    plane_training_args,\n",
    "    plane_train_ds,\n",
    "    plane_val_ds,\n",
    "    plane_image_processor\n",
    ")\n",
    "\n",
    "plane_train_results = train_model(plane_trainer)"
   ]
  },
  {
   "cell_type": "code",
   "execution_count": null,
   "metadata": {
    "execution": {
     "iopub.execute_input": "2025-03-02T18:00:27.317962Z",
     "iopub.status.busy": "2025-03-02T18:00:27.317301Z",
     "iopub.status.idle": "2025-03-02T18:00:27.590787Z",
     "shell.execute_reply": "2025-03-02T18:00:27.589928Z",
     "shell.execute_reply.started": "2025-03-02T18:00:27.317920Z"
    },
    "id": "_XnTtOHyGAeb",
    "outputId": "5be6074d-e8aa-462a-f4ab-c6bbe6df5c3b",
    "trusted": true
   },
   "outputs": [
    {
     "data": {
      "image/png": "[encoded data removed]",
      "text/plain": [
       "<Figure size 1000x600 with 1 Axes>"
      ]
     },
     "metadata": {},
     "output_type": "display_data"
    }
   ],
   "source": [
    "plot_learning_curve(plane_trainer)"
   ]
  },
  {
   "cell_type": "markdown",
   "metadata": {
    "id": "ACYGkVhFGAeb"
   },
   "source": [
    "### Evaluate Model"
   ]
  },
  {
   "cell_type": "code",
   "execution_count": null,
   "metadata": {
    "execution": {
     "iopub.execute_input": "2025-03-02T18:00:27.592150Z",
     "iopub.status.busy": "2025-03-02T18:00:27.591896Z",
     "iopub.status.idle": "2025-03-02T18:00:28.335755Z",
     "shell.execute_reply": "2025-03-02T18:00:28.334969Z",
     "shell.execute_reply.started": "2025-03-02T18:00:27.592124Z"
    },
    "id": "OTewFii2GAec",
    "outputId": "cc6ffbff-be42-456c-d231-65c899fa1699",
    "trusted": true
   },
   "outputs": [
    {
     "data": {
      "text/html": [
       "\n",
       "    <div>\n",
       "      \n",
       "      <progress value='10' max='5' style='width:300px; height:20px; vertical-align: middle;'></progress>\n",
       "      [5/5 00:01]\n",
       "    </div>\n",
       "    "
      ],
      "text/plain": [
       "<IPython.core.display.HTML object>"
      ]
     },
     "metadata": {},
     "output_type": "display_data"
    },
    {
     "name": "stdout",
     "output_type": "stream",
     "text": [
      "***** eval metrics *****\n",
      "  epoch                   =       10.0\n",
      "  eval_accuracy           =     0.9778\n",
      "  eval_loss               =     0.0604\n",
      "  eval_runtime            = 0:00:00.73\n",
      "  eval_samples_per_second =    183.043\n",
      "  eval_steps_per_second   =      6.779\n"
     ]
    }
   ],
   "source": [
    "plane_metrics = evaluate_model(plane_trainer)"
   ]
  },
  {
   "cell_type": "code",
   "execution_count": null,
   "metadata": {
    "execution": {
     "iopub.execute_input": "2025-03-02T18:00:28.337166Z",
     "iopub.status.busy": "2025-03-02T18:00:28.336860Z",
     "iopub.status.idle": "2025-03-02T18:00:29.036927Z",
     "shell.execute_reply": "2025-03-02T18:00:29.036035Z",
     "shell.execute_reply.started": "2025-03-02T18:00:28.337134Z"
    },
    "id": "Q9vuxY-YGAec",
    "outputId": "edc813a9-fe87-4692-fc74-1648c1bdfbc7",
    "trusted": true
   },
   "outputs": [
    {
     "name": "stdout",
     "output_type": "stream",
     "text": [
      "Evaluating model on test dataset...\n",
      "***** test metrics *****\n",
      "  epoch                   =       10.0\n",
      "  eval_accuracy           =     0.9778\n",
      "  eval_loss               =     0.0583\n",
      "  eval_runtime            = 0:00:00.69\n",
      "  eval_samples_per_second =    194.827\n",
      "  eval_steps_per_second   =      7.216\n"
     ]
    }
   ],
   "source": [
    "test_metrics = evaluate_on_test_set(plane_trainer, plane_test_ds)"
   ]
  },
  {
   "cell_type": "code",
   "execution_count": null,
   "metadata": {
    "execution": {
     "iopub.execute_input": "2025-03-02T18:00:29.038609Z",
     "iopub.status.busy": "2025-03-02T18:00:29.038222Z",
     "iopub.status.idle": "2025-03-02T18:00:29.043309Z",
     "shell.execute_reply": "2025-03-02T18:00:29.042298Z",
     "shell.execute_reply.started": "2025-03-02T18:00:29.038569Z"
    },
    "id": "Xmi6yT5vGAec",
    "trusted": true
   },
   "outputs": [],
   "source": [
    "# from datasets import DatasetDict\n",
    "\n",
    "# cross_validate_model(\n",
    "#     model_checkpoint=\"microsoft/swin-tiny-patch4-window7-224\",\n",
    "#     dataset=plane_train_ds,\n",
    "#     batch_size=32,\n",
    "#     num_epochs=10,\n",
    "#     model_name=\"swin-brain-plane-classification\"\n",
    "# )"
   ]
  },
  {
   "cell_type": "code",
   "execution_count": null,
   "metadata": {
    "execution": {
     "iopub.execute_input": "2025-03-02T18:00:29.044769Z",
     "iopub.status.busy": "2025-03-02T18:00:29.044487Z",
     "iopub.status.idle": "2025-03-02T18:00:29.055261Z",
     "shell.execute_reply": "2025-03-02T18:00:29.054278Z",
     "shell.execute_reply.started": "2025-03-02T18:00:29.044742Z"
    },
    "id": "4GeJ9YgsGAec",
    "trusted": true
   },
   "outputs": [],
   "source": [
    "# push_model_to_hub(plane_trainer)"
   ]
  },
  {
   "cell_type": "code",
   "execution_count": null,
   "metadata": {
    "execution": {
     "iopub.execute_input": "2025-03-02T18:00:29.056635Z",
     "iopub.status.busy": "2025-03-02T18:00:29.056348Z",
     "iopub.status.idle": "2025-03-02T18:00:29.070881Z",
     "shell.execute_reply": "2025-03-02T18:00:29.070077Z",
     "shell.execute_reply.started": "2025-03-02T18:00:29.056605Z"
    },
    "id": "JgSwUd_9GAec",
    "trusted": true
   },
   "outputs": [],
   "source": [
    "# plot_loss(training_metrics=plane_trainer.state.log_history, title=\"Plane Classification Loss\")"
   ]
  },
  {
   "cell_type": "code",
   "execution_count": null,
   "metadata": {
    "colab": {
     "referenced_widgets": [
      "95e36b77a5a640b090cb67b962939032",
      "34ea3e705e70479b88781ded0985d092",
      "d7d32fe9f8994508b15c0f2313528e2e"
     ]
    },
    "execution": {
     "iopub.execute_input": "2025-03-02T18:00:29.072157Z",
     "iopub.status.busy": "2025-03-02T18:00:29.071880Z",
     "iopub.status.idle": "2025-03-02T18:00:46.674050Z",
     "shell.execute_reply": "2025-03-02T18:00:46.673151Z",
     "shell.execute_reply.started": "2025-03-02T18:00:29.072127Z"
    },
    "id": "hCA79aVoGAec",
    "outputId": "2a3ef718-c601-4a64-f109-2cdc8176cee3",
    "trusted": true
   },
   "outputs": [
    {
     "data": {
      "application/vnd.jupyter.widget-view+json": {
       "model_id": "95e36b77a5a640b090cb67b962939032",
       "version_major": 2,
       "version_minor": 0
      },
      "text/plain": [
       "preprocessor_config.json:   0%|          | 0.00/337 [00:00<?, ?B/s]"
      ]
     },
     "metadata": {},
     "output_type": "display_data"
    },
    {
     "data": {
      "application/vnd.jupyter.widget-view+json": {
       "model_id": "34ea3e705e70479b88781ded0985d092",
       "version_major": 2,
       "version_minor": 0
      },
      "text/plain": [
       "config.json:   0%|          | 0.00/1.10k [00:00<?, ?B/s]"
      ]
     },
     "metadata": {},
     "output_type": "display_data"
    },
    {
     "data": {
      "application/vnd.jupyter.widget-view+json": {
       "model_id": "d7d32fe9f8994508b15c0f2313528e2e",
       "version_major": 2,
       "version_minor": 0
      },
      "text/plain": [
       "model.safetensors:   0%|          | 0.00/110M [00:00<?, ?B/s]"
      ]
     },
     "metadata": {},
     "output_type": "display_data"
    },
    {
     "data": {
      "image/png": "[encoded data removed]",
      "text/plain": [
       "<Figure size 800x600 with 2 Axes>"
      ]
     },
     "metadata": {},
     "output_type": "display_data"
    },
    {
     "name": "stdout",
     "output_type": "stream",
     "text": [
      "----- Classification Metrics -----\n",
      "Precision (%): 97.81\n",
      "Recall (%): 97.78\n",
      "F1-Score (%): 97.79\n",
      "Accuracy (%): 97.78\n"
     ]
    }
   ],
   "source": [
    "plot_conf_matrix_and_metrics(\n",
    "    dataset_name=\"bombshelll/brain_plane\",\n",
    "    repo_name=\"bombshelll/swin-brain-plane-classification\"\n",
    ")"
   ]
  },
  {
   "cell_type": "code",
   "execution_count": null,
   "metadata": {
    "execution": {
     "iopub.status.busy": "2025-03-02T17:04:35.944145Z",
     "iopub.status.idle": "2025-03-02T17:04:35.944479Z",
     "shell.execute_reply": "2025-03-02T17:04:35.944325Z",
     "shell.execute_reply.started": "2025-03-02T17:04:35.944309Z"
    },
    "id": "OnfvHj-EGAec",
    "jupyter": {
     "source_hidden": true
    },
    "trusted": true
   },
   "outputs": [],
   "source": [
    "display_metrics(plane_metrics, plane_training_accuracy, title=\"Plane Classification Metrics\")"
   ]
  },
  {
   "cell_type": "markdown",
   "metadata": {
    "id": "u2BwGlKCGAec"
   },
   "source": [
    "### Display Random Samples"
   ]
  },
  {
   "cell_type": "code",
   "execution_count": null,
   "metadata": {
    "execution": {
     "iopub.status.busy": "2025-03-02T17:04:35.945443Z",
     "iopub.status.idle": "2025-03-02T17:04:35.945792Z",
     "shell.execute_reply": "2025-03-02T17:04:35.945660Z",
     "shell.execute_reply.started": "2025-03-02T17:04:35.945643Z"
    },
    "id": "ndMeyw0eGAec",
    "jupyter": {
     "source_hidden": true
    },
    "scrolled": true,
    "trusted": true
   },
   "outputs": [],
   "source": [
    "display_random_samples(plane_dataset_name, repo_name=\"bombshelll/swin-brain-plane-classification\", num_samples=10)"
   ]
  },
  {
   "cell_type": "markdown",
   "metadata": {
    "id": "Ad9qZHFPGAed"
   },
   "source": [
    "## Brain Modality Classification"
   ]
  },
  {
   "cell_type": "markdown",
   "metadata": {
    "id": "LgVkZjIJGAed"
   },
   "source": [
    "### Load Dataset and Label Mappings"
   ]
  },
  {
   "cell_type": "code",
   "execution_count": null,
   "metadata": {
    "colab": {
     "referenced_widgets": [
      "282d0e98a0d143fca30e7680377d7881",
      "ef7a4530fd9244b0a6e4810faa5ff62b",
      "0ef81242b6204bbfb84bdef486a28f98",
      "bb2a571f1889476da6b021f5e998a18f",
      "40e98e7952194d8495f32514f819f9f6",
      "b5b4b557442e430c930e8b7972d5e980",
      "cfeddc5a995d4e98b237534a24f2c8dd"
     ]
    },
    "execution": {
     "iopub.execute_input": "2025-03-02T18:02:05.318532Z",
     "iopub.status.busy": "2025-03-02T18:02:05.318106Z",
     "iopub.status.idle": "2025-03-02T18:02:09.805970Z",
     "shell.execute_reply": "2025-03-02T18:02:09.805081Z",
     "shell.execute_reply.started": "2025-03-02T18:02:05.318501Z"
    },
    "id": "a_EdtVFWGAed",
    "outputId": "a36d9077-aa27-43a8-f61f-4295d8663b97",
    "trusted": true
   },
   "outputs": [
    {
     "data": {
      "application/vnd.jupyter.widget-view+json": {
       "model_id": "282d0e98a0d143fca30e7680377d7881",
       "version_major": 2,
       "version_minor": 0
      },
      "text/plain": [
       "README.md:   0%|          | 0.00/659 [00:00<?, ?B/s]"
      ]
     },
     "metadata": {},
     "output_type": "display_data"
    },
    {
     "data": {
      "application/vnd.jupyter.widget-view+json": {
       "model_id": "ef7a4530fd9244b0a6e4810faa5ff62b",
       "version_major": 2,
       "version_minor": 0
      },
      "text/plain": [
       "train-00000-of-00001.parquet:   0%|          | 0.00/114M [00:00<?, ?B/s]"
      ]
     },
     "metadata": {},
     "output_type": "display_data"
    },
    {
     "data": {
      "application/vnd.jupyter.widget-view+json": {
       "model_id": "0ef81242b6204bbfb84bdef486a28f98",
       "version_major": 2,
       "version_minor": 0
      },
      "text/plain": [
       "validation-00000-of-00001.parquet:   0%|          | 0.00/23.5M [00:00<?, ?B/s]"
      ]
     },
     "metadata": {},
     "output_type": "display_data"
    },
    {
     "data": {
      "application/vnd.jupyter.widget-view+json": {
       "model_id": "bb2a571f1889476da6b021f5e998a18f",
       "version_major": 2,
       "version_minor": 0
      },
      "text/plain": [
       "test-00000-of-00001.parquet:   0%|          | 0.00/24.0M [00:00<?, ?B/s]"
      ]
     },
     "metadata": {},
     "output_type": "display_data"
    },
    {
     "data": {
      "application/vnd.jupyter.widget-view+json": {
       "model_id": "40e98e7952194d8495f32514f819f9f6",
       "version_major": 2,
       "version_minor": 0
      },
      "text/plain": [
       "Generating train split:   0%|          | 0/2243 [00:00<?, ? examples/s]"
      ]
     },
     "metadata": {},
     "output_type": "display_data"
    },
    {
     "data": {
      "application/vnd.jupyter.widget-view+json": {
       "model_id": "b5b4b557442e430c930e8b7972d5e980",
       "version_major": 2,
       "version_minor": 0
      },
      "text/plain": [
       "Generating validation split:   0%|          | 0/468 [00:00<?, ? examples/s]"
      ]
     },
     "metadata": {},
     "output_type": "display_data"
    },
    {
     "data": {
      "application/vnd.jupyter.widget-view+json": {
       "model_id": "cfeddc5a995d4e98b237534a24f2c8dd",
       "version_major": 2,
       "version_minor": 0
      },
      "text/plain": [
       "Generating test split:   0%|          | 0/470 [00:00<?, ? examples/s]"
      ]
     },
     "metadata": {},
     "output_type": "display_data"
    }
   ],
   "source": [
    "modality_dataset_name = \"bombshelll/brain_modality\"\n",
    "modality_model_name = \"swin-brain-modality-classification\"\n",
    "modality_dataset = load_dataset_from_hub(modality_dataset_name)\n",
    "\n",
    "modality_label2id, modality_id2label = create_label_mappings(modality_dataset)"
   ]
  },
  {
   "cell_type": "markdown",
   "metadata": {
    "id": "1Eha1oFkGAed"
   },
   "source": [
    "### Load Image Processor and Create Transforms"
   ]
  },
  {
   "cell_type": "code",
   "execution_count": null,
   "metadata": {
    "execution": {
     "iopub.execute_input": "2025-03-02T18:17:50.229689Z",
     "iopub.status.busy": "2025-03-02T18:17:50.229002Z",
     "iopub.status.idle": "2025-03-02T18:17:50.342742Z",
     "shell.execute_reply": "2025-03-02T18:17:50.341825Z",
     "shell.execute_reply.started": "2025-03-02T18:17:50.229655Z"
    },
    "id": "I4bh5IJ5GAed",
    "outputId": "a6e5e52d-04f5-49ed-b0cb-c98be075f070",
    "trusted": true
   },
   "outputs": [
    {
     "name": "stdout",
     "output_type": "stream",
     "text": [
      "Total samples in Train Dataset: 2018\n",
      "Total samples in Validation Dataset: 225\n"
     ]
    }
   ],
   "source": [
    "modality_model_checkpoint = \"microsoft/swin-tiny-patch4-window7-224\"\n",
    "modality_image_processor = load_image_processor(modality_model_checkpoint)\n",
    "\n",
    "modality_train_transforms, modality_val_transforms = create_transforms(modality_image_processor)\n",
    "\n",
    "modality_train_ds, modality_val_ds = split_dataset(modality_dataset)\n",
    "\n",
    "set_transforms(modality_train_ds, modality_val_ds, modality_train_transforms, modality_val_transforms)\n",
    "\n",
    "# fraction = 0.75\n",
    "\n",
    "# modality_train_ds = get_dataset_subset(modality_train_ds, fraction)\n",
    "# modality_val_ds = get_dataset_subset(modality_val_ds, fraction)\n",
    "\n",
    "print(f\"Total samples in Train Dataset: {len(modality_train_ds)}\")\n",
    "print(f\"Total samples in Validation Dataset: {len(modality_val_ds)}\")"
   ]
  },
  {
   "cell_type": "code",
   "execution_count": null,
   "metadata": {
    "execution": {
     "iopub.execute_input": "2025-03-02T18:20:14.912221Z",
     "iopub.status.busy": "2025-03-02T18:20:14.911956Z",
     "iopub.status.idle": "2025-03-02T18:20:15.025253Z",
     "shell.execute_reply": "2025-03-02T18:20:15.024498Z",
     "shell.execute_reply.started": "2025-03-02T18:20:14.912195Z"
    },
    "id": "3U5HeOT-GAed",
    "outputId": "bd7ef534-9b5c-4324-9778-26fbd822f7c3",
    "trusted": true
   },
   "outputs": [
    {
     "name": "stdout",
     "output_type": "stream",
     "text": [
      "Total samples in Train Dataset: 2243\n",
      "Total samples in Validation Dataset: 468\n"
     ]
    }
   ],
   "source": [
    "modality_model_checkpoint = \"microsoft/swin-tiny-patch4-window7-224\"\n",
    "modality_image_processor = load_image_processor(modality_model_checkpoint)\n",
    "\n",
    "modality_train_transforms, modality_val_transforms = create_transforms(modality_image_processor)\n",
    "\n",
    "modality_train_ds = modality_dataset[\"train\"]\n",
    "modality_val_ds = modality_dataset[\"validation\"]\n",
    "modality_test_ds = modality_dataset[\"test\"]\n",
    "\n",
    "set_transforms(modality_train_ds, modality_train_ds, modality_train_transforms, modality_train_transforms)\n",
    "set_transforms(modality_val_ds, modality_val_ds, modality_val_transforms, modality_val_transforms)\n",
    "set_transforms(modality_test_ds, modality_test_ds, modality_val_transforms, modality_val_transforms)\n",
    "\n",
    "# fraction = 0.75\n",
    "\n",
    "# modality_train_ds = get_dataset_subset(modality_train_ds, fraction)\n",
    "# modality_val_ds = get_dataset_subset(modality_val_ds, fraction)\n",
    "# modality_test_ds = get_dataset_subset(modality_test_ds, fraction)\n",
    "\n",
    "print(f\"Total samples in Train Dataset: {len(modality_train_ds)}\")\n",
    "print(f\"Total samples in Validation Dataset: {len(modality_val_ds)}\")"
   ]
  },
  {
   "cell_type": "markdown",
   "metadata": {
    "id": "BCmXgHNoGAed"
   },
   "source": [
    "### Load Model and Set Training Arguments"
   ]
  },
  {
   "cell_type": "code",
   "execution_count": null,
   "metadata": {
    "execution": {
     "iopub.execute_input": "2025-03-02T18:17:52.948203Z",
     "iopub.status.busy": "2025-03-02T18:17:52.947513Z",
     "iopub.status.idle": "2025-03-02T18:17:53.363783Z",
     "shell.execute_reply": "2025-03-02T18:17:53.362871Z",
     "shell.execute_reply.started": "2025-03-02T18:17:52.948170Z"
    },
    "id": "6k9lHZ0bGAed",
    "outputId": "14c9dd96-a00c-4d50-ccaa-035ce9070f03",
    "trusted": true
   },
   "outputs": [
    {
     "name": "stderr",
     "output_type": "stream",
     "text": [
      "Some weights of SwinForImageClassification were not initialized from the model checkpoint at microsoft/swin-tiny-patch4-window7-224 and are newly initialized because the shapes did not match:\n",
      "- classifier.bias: found shape torch.Size([1000]) in the checkpoint and torch.Size([4]) in the model instantiated\n",
      "- classifier.weight: found shape torch.Size([1000, 768]) in the checkpoint and torch.Size([4, 768]) in the model instantiated\n",
      "You should probably TRAIN this model on a down-stream task to be able to use it for predictions and inference.\n"
     ]
    }
   ],
   "source": [
    "modality_model = load_model(modality_model_checkpoint, modality_label2id, modality_id2label)\n",
    "\n",
    "modality_batch_size = 32\n",
    "num_train_epoch = 3\n",
    "\n",
    "modality_training_args = set_training_arguments(\n",
    "    modality_model_checkpoint,\n",
    "    modality_batch_size,\n",
    "    modality_model_name,\n",
    "    num_train_epoch\n",
    ")"
   ]
  },
  {
   "cell_type": "markdown",
   "metadata": {
    "id": "AzEVrJj7GAee"
   },
   "source": [
    "### Initialize Trainer and Train Model"
   ]
  },
  {
   "cell_type": "code",
   "execution_count": null,
   "metadata": {
    "execution": {
     "iopub.execute_input": "2025-03-02T18:17:53.424273Z",
     "iopub.status.busy": "2025-03-02T18:17:53.423936Z",
     "iopub.status.idle": "2025-03-02T18:17:53.637930Z",
     "shell.execute_reply": "2025-03-02T18:17:53.637268Z",
     "shell.execute_reply.started": "2025-03-02T18:17:53.424210Z"
    },
    "id": "WG50OJSeGAee",
    "trusted": true
   },
   "outputs": [],
   "source": [
    "import shutil; shutil.rmtree(\"/kaggle/working/swin-brain-modality-classification\", ignore_errors=True)"
   ]
  },
  {
   "cell_type": "code",
   "execution_count": null,
   "metadata": {
    "execution": {
     "iopub.execute_input": "2025-03-02T18:17:53.733139Z",
     "iopub.status.busy": "2025-03-02T18:17:53.732827Z",
     "iopub.status.idle": "2025-03-02T18:19:22.365010Z",
     "shell.execute_reply": "2025-03-02T18:19:22.364079Z",
     "shell.execute_reply.started": "2025-03-02T18:17:53.733111Z"
    },
    "id": "JJnriT1LGAee",
    "outputId": "64d467ef-0806-412f-8a90-914d8a40321c",
    "trusted": true
   },
   "outputs": [
    {
     "data": {
      "text/html": [
       "\n",
       "    <div>\n",
       "      \n",
       "      <progress value='48' max='48' style='width:300px; height:20px; vertical-align: middle;'></progress>\n",
       "      [48/48 01:21, Epoch 3/3]\n",
       "    </div>\n",
       "    <table border=\"1\" class=\"dataframe\">\n",
       "  <thead>\n",
       " <tr style=\"text-align: left;\">\n",
       "      <th>Epoch</th>\n",
       "      <th>Training Loss</th>\n",
       "      <th>Validation Loss</th>\n",
       "      <th>Accuracy</th>\n",
       "    </tr>\n",
       "  </thead>\n",
       "  <tbody>\n",
       "    <tr>\n",
       "      <td>1</td>\n",
       "      <td>0.711600</td>\n",
       "      <td>0.146567</td>\n",
       "      <td>0.933333</td>\n",
       "    </tr>\n",
       "    <tr>\n",
       "      <td>2</td>\n",
       "      <td>0.095500</td>\n",
       "      <td>0.032321</td>\n",
       "      <td>0.991111</td>\n",
       "    </tr>\n",
       "    <tr>\n",
       "      <td>3</td>\n",
       "      <td>0.046400</td>\n",
       "      <td>0.019727</td>\n",
       "      <td>0.995556</td>\n",
       "    </tr>\n",
       "  </tbody>\n",
       "</table><p>"
      ],
      "text/plain": [
       "<IPython.core.display.HTML object>"
      ]
     },
     "metadata": {},
     "output_type": "display_data"
    },
    {
     "name": "stdout",
     "output_type": "stream",
     "text": [
      "***** train metrics *****\n",
      "  epoch                    =         3.0\n",
      "  total_flos               = 140151536GF\n",
      "  train_loss               =      0.2845\n",
      "  train_runtime            =  0:01:23.05\n",
      "  train_samples_per_second =      72.893\n",
      "  train_steps_per_second   =       0.578\n"
     ]
    }
   ],
   "source": [
    "modality_trainer = initialize_trainer(\n",
    "    modality_model,\n",
    "    modality_training_args,\n",
    "    modality_train_ds,\n",
    "    modality_val_ds,\n",
    "    modality_image_processor\n",
    ")\n",
    "\n",
    "modality_train_results = train_model(modality_trainer)"
   ]
  },
  {
   "cell_type": "code",
   "execution_count": null,
   "metadata": {
    "execution": {
     "iopub.execute_input": "2025-03-02T18:19:22.366725Z",
     "iopub.status.busy": "2025-03-02T18:19:22.366442Z",
     "iopub.status.idle": "2025-03-02T18:19:22.650345Z",
     "shell.execute_reply": "2025-03-02T18:19:22.649538Z",
     "shell.execute_reply.started": "2025-03-02T18:19:22.366698Z"
    },
    "id": "pqTtly6TGAee",
    "outputId": "7510be0a-757d-4e76-b8ad-93eea424099d",
    "trusted": true
   },
   "outputs": [
    {
     "data": {
      "image/png": "[encoded data removed]",
      "text/plain": [
       "<Figure size 1000x600 with 1 Axes>"
      ]
     },
     "metadata": {},
     "output_type": "display_data"
    }
   ],
   "source": [
    "plot_learning_curve(modality_trainer)"
   ]
  },
  {
   "cell_type": "markdown",
   "metadata": {
    "id": "rjLiZ8YzGAee"
   },
   "source": [
    "### Evaluate Model"
   ]
  },
  {
   "cell_type": "code",
   "execution_count": null,
   "metadata": {
    "execution": {
     "iopub.execute_input": "2025-03-02T18:19:22.651943Z",
     "iopub.status.busy": "2025-03-02T18:19:22.651569Z",
     "iopub.status.idle": "2025-03-02T18:19:24.496043Z",
     "shell.execute_reply": "2025-03-02T18:19:24.495174Z",
     "shell.execute_reply.started": "2025-03-02T18:19:22.651903Z"
    },
    "id": "aePafLYtGAee",
    "outputId": "9d4a5450-af8d-41e2-b9c8-c83f6ce8c3bf",
    "trusted": true
   },
   "outputs": [
    {
     "data": {
      "text/html": [
       "\n",
       "    <div>\n",
       "      \n",
       "      <progress value='23' max='8' style='width:300px; height:20px; vertical-align: middle;'></progress>\n",
       "      [8/8 00:55]\n",
       "    </div>\n",
       "    "
      ],
      "text/plain": [
       "<IPython.core.display.HTML object>"
      ]
     },
     "metadata": {},
     "output_type": "display_data"
    },
    {
     "name": "stdout",
     "output_type": "stream",
     "text": [
      "***** eval metrics *****\n",
      "  epoch                   =        3.0\n",
      "  eval_accuracy           =     0.9956\n",
      "  eval_loss               =     0.0197\n",
      "  eval_runtime            = 0:00:01.83\n",
      "  eval_samples_per_second =    122.421\n",
      "  eval_steps_per_second   =      4.353\n"
     ]
    }
   ],
   "source": [
    "modality_metrics = evaluate_model(modality_trainer)"
   ]
  },
  {
   "cell_type": "code",
   "execution_count": null,
   "metadata": {
    "execution": {
     "iopub.execute_input": "2025-03-02T18:20:15.026354Z",
     "iopub.status.busy": "2025-03-02T18:20:15.026103Z",
     "iopub.status.idle": "2025-03-02T18:20:18.694972Z",
     "shell.execute_reply": "2025-03-02T18:20:18.693951Z",
     "shell.execute_reply.started": "2025-03-02T18:20:15.026329Z"
    },
    "id": "HhT0mMvsGAee",
    "outputId": "73bc0cf4-e058-449c-bb80-720f47b3f8a1",
    "trusted": true
   },
   "outputs": [
    {
     "name": "stdout",
     "output_type": "stream",
     "text": [
      "Evaluating model on test dataset...\n",
      "***** test metrics *****\n",
      "  epoch                   =        3.0\n",
      "  eval_accuracy           =     0.9979\n",
      "  eval_loss               =     0.0156\n",
      "  eval_runtime            = 0:00:03.66\n",
      "  eval_samples_per_second =    128.337\n",
      "  eval_steps_per_second   =      4.096\n"
     ]
    }
   ],
   "source": [
    "test_metrics = evaluate_on_test_set(modality_trainer, modality_test_ds)"
   ]
  },
  {
   "cell_type": "code",
   "execution_count": null,
   "metadata": {
    "execution": {
     "iopub.execute_input": "2025-03-02T18:04:20.478454Z",
     "iopub.status.busy": "2025-03-02T18:04:20.478167Z",
     "iopub.status.idle": "2025-03-02T18:04:20.482782Z",
     "shell.execute_reply": "2025-03-02T18:04:20.481806Z",
     "shell.execute_reply.started": "2025-03-02T18:04:20.478426Z"
    },
    "id": "udpc_xJuGAee",
    "trusted": true
   },
   "outputs": [],
   "source": [
    "# cross_validate_model(\n",
    "#     model_checkpoint=\"microsoft/swin-tiny-patch4-window7-224\",\n",
    "#     dataset=modality_train_ds,\n",
    "#     batch_size=32,\n",
    "#     num_epochs=3,\n",
    "#     model_name=\"swin-brain-modality-classification\"\n",
    "# )"
   ]
  },
  {
   "cell_type": "code",
   "execution_count": null,
   "metadata": {
    "execution": {
     "iopub.execute_input": "2025-03-02T18:04:20.484137Z",
     "iopub.status.busy": "2025-03-02T18:04:20.483860Z",
     "iopub.status.idle": "2025-03-02T18:04:20.493308Z",
     "shell.execute_reply": "2025-03-02T18:04:20.492404Z",
     "shell.execute_reply.started": "2025-03-02T18:04:20.484107Z"
    },
    "id": "CIAQ1NWqGAee",
    "trusted": true
   },
   "outputs": [],
   "source": [
    "# push_model_to_hub(modality_trainer)"
   ]
  },
  {
   "cell_type": "code",
   "execution_count": null,
   "metadata": {
    "colab": {
     "referenced_widgets": [
      "eb79b5766389481aa80bed6c55892156"
     ]
    },
    "execution": {
     "iopub.execute_input": "2025-03-02T18:19:24.499007Z",
     "iopub.status.busy": "2025-03-02T18:19:24.498221Z",
     "iopub.status.idle": "2025-03-02T18:20:14.910925Z",
     "shell.execute_reply": "2025-03-02T18:20:14.910172Z",
     "shell.execute_reply.started": "2025-03-02T18:19:24.498965Z"
    },
    "id": "fkZqehCbGAee",
    "outputId": "ee1a4525-fe65-4b3d-d1c0-5cd35d504376",
    "trusted": true
   },
   "outputs": [
    {
     "data": {
      "application/vnd.jupyter.widget-view+json": {
       "model_id": "eb79b5766389481aa80bed6c55892156",
       "version_major": 2,
       "version_minor": 0
      },
      "text/plain": [
       "model.safetensors:   0%|          | 0.00/110M [00:00<?, ?B/s]"
      ]
     },
     "metadata": {},
     "output_type": "display_data"
    },
    {
     "data": {
      "image/png": "[encoded data removed]",
      "text/plain": [
       "<Figure size 800x600 with 2 Axes>"
      ]
     },
     "metadata": {},
     "output_type": "display_data"
    },
    {
     "name": "stdout",
     "output_type": "stream",
     "text": [
      "----- Classification Metrics -----\n",
      "Precision (%): 99.79\n",
      "Recall (%): 99.79\n",
      "F1-Score (%): 99.79\n",
      "Accuracy (%): 99.79\n"
     ]
    }
   ],
   "source": [
    "plot_conf_matrix_and_metrics(\n",
    "    dataset_name=\"bombshelll/brain_modality\",\n",
    "    repo_name=\"bombshelll/swin-brain-modality-classification\"\n",
    ")"
   ]
  },
  {
   "cell_type": "markdown",
   "metadata": {
    "id": "zRA0JDh_GAef"
   },
   "source": [
    "### Display Random Samples"
   ]
  },
  {
   "cell_type": "code",
   "execution_count": null,
   "metadata": {
    "execution": {
     "iopub.status.busy": "2025-03-02T17:04:35.966446Z",
     "iopub.status.idle": "2025-03-02T17:04:35.966932Z",
     "shell.execute_reply": "2025-03-02T17:04:35.966703Z",
     "shell.execute_reply.started": "2025-03-02T17:04:35.966678Z"
    },
    "id": "4xlSumlKGAef",
    "scrolled": true,
    "trusted": true
   },
   "outputs": [],
   "source": [
    "display_random_samples(modality_dataset_name, repo_name=\"bombshelll/swin-brain-modality-classification\", num_samples=10)"
   ]
  },
  {
   "cell_type": "markdown",
   "metadata": {
    "id": "dtvbAbVbGAef"
   },
   "source": [
    "## Brain Tumor Type Classification"
   ]
  },
  {
   "cell_type": "markdown",
   "metadata": {
    "id": "Kx28MRoUGAef"
   },
   "source": [
    "### Load Dataset and Label Mappings"
   ]
  },
  {
   "cell_type": "code",
   "execution_count": null,
   "metadata": {
    "colab": {
     "referenced_widgets": [
      "4348d8d81fb14d0489026bed668af4e5",
      "9082e8cc72594ab09c9eb28f4259f7cd",
      "eb992ee87f6e4b74bceedbd705ca2cfa",
      "dd1d66b294f5406ba0ef6aeec012783c",
      "883abdcd0a84460eb6beafdd31648d95",
      "4126cde4922b4e868342a3f503647166",
      "8b240df2792444a8b56391959737f067"
     ]
    },
    "execution": {
     "iopub.execute_input": "2025-03-02T18:21:00.440847Z",
     "iopub.status.busy": "2025-03-02T18:21:00.440427Z",
     "iopub.status.idle": "2025-03-02T18:21:04.279662Z",
     "shell.execute_reply": "2025-03-02T18:21:04.278956Z",
     "shell.execute_reply.started": "2025-03-02T18:21:00.440806Z"
    },
    "id": "7SMGMjciGAef",
    "outputId": "1b6a0bc4-95e3-4acf-8065-a0f004f52793",
    "scrolled": true,
    "trusted": true
   },
   "outputs": [
    {
     "data": {
      "application/vnd.jupyter.widget-view+json": {
       "model_id": "4348d8d81fb14d0489026bed668af4e5",
       "version_major": 2,
       "version_minor": 0
      },
      "text/plain": [
       "README.md:   0%|          | 0.00/951 [00:00<?, ?B/s]"
      ]
     },
     "metadata": {},
     "output_type": "display_data"
    },
    {
     "data": {
      "application/vnd.jupyter.widget-view+json": {
       "model_id": "9082e8cc72594ab09c9eb28f4259f7cd",
       "version_major": 2,
       "version_minor": 0
      },
      "text/plain": [
       "train-00000-of-00001.parquet:   0%|          | 0.00/116M [00:00<?, ?B/s]"
      ]
     },
     "metadata": {},
     "output_type": "display_data"
    },
    {
     "data": {
      "application/vnd.jupyter.widget-view+json": {
       "model_id": "eb992ee87f6e4b74bceedbd705ca2cfa",
       "version_major": 2,
       "version_minor": 0
      },
      "text/plain": [
       "validation-00000-of-00001.parquet:   0%|          | 0.00/25.6M [00:00<?, ?B/s]"
      ]
     },
     "metadata": {},
     "output_type": "display_data"
    },
    {
     "data": {
      "application/vnd.jupyter.widget-view+json": {
       "model_id": "dd1d66b294f5406ba0ef6aeec012783c",
       "version_major": 2,
       "version_minor": 0
      },
      "text/plain": [
       "test-00000-of-00001.parquet:   0%|          | 0.00/25.6M [00:00<?, ?B/s]"
      ]
     },
     "metadata": {},
     "output_type": "display_data"
    },
    {
     "data": {
      "application/vnd.jupyter.widget-view+json": {
       "model_id": "883abdcd0a84460eb6beafdd31648d95",
       "version_major": 2,
       "version_minor": 0
      },
      "text/plain": [
       "Generating train split:   0%|          | 0/2672 [00:00<?, ? examples/s]"
      ]
     },
     "metadata": {},
     "output_type": "display_data"
    },
    {
     "data": {
      "application/vnd.jupyter.widget-view+json": {
       "model_id": "4126cde4922b4e868342a3f503647166",
       "version_major": 2,
       "version_minor": 0
      },
      "text/plain": [
       "Generating validation split:   0%|          | 0/566 [00:00<?, ? examples/s]"
      ]
     },
     "metadata": {},
     "output_type": "display_data"
    },
    {
     "data": {
      "application/vnd.jupyter.widget-view+json": {
       "model_id": "8b240df2792444a8b56391959737f067",
       "version_major": 2,
       "version_minor": 0
      },
      "text/plain": [
       "Generating test split:   0%|          | 0/589 [00:00<?, ? examples/s]"
      ]
     },
     "metadata": {},
     "output_type": "display_data"
    }
   ],
   "source": [
    "tumor_type_dataset_name = \"bombshelll/brain_14_tumor_classes\"\n",
    "tumor_type_model_name = \"swin-brain-tumor-type-classification\"\n",
    "tumor_type_dataset = load_dataset_from_hub(tumor_type_dataset_name)\n",
    "\n",
    "tumor_type_label2id, tumor_type_id2label = create_label_mappings(tumor_type_dataset)"
   ]
  },
  {
   "cell_type": "markdown",
   "metadata": {
    "id": "1caGTOLtGAef"
   },
   "source": [
    "### Load Image Processor and Create Transforms"
   ]
  },
  {
   "cell_type": "code",
   "execution_count": null,
   "metadata": {
    "execution": {
     "iopub.execute_input": "2025-03-02T18:54:09.030432Z",
     "iopub.status.busy": "2025-03-02T18:54:09.029747Z",
     "iopub.status.idle": "2025-03-02T18:54:09.146445Z",
     "shell.execute_reply": "2025-03-02T18:54:09.145691Z",
     "shell.execute_reply.started": "2025-03-02T18:54:09.030394Z"
    },
    "id": "qmPf4DCfGAef",
    "trusted": true
   },
   "outputs": [],
   "source": [
    "tumor_type_model_checkpoint = \"microsoft/swin-tiny-patch4-window7-224\"\n",
    "tumor_type_image_processor = load_image_processor(tumor_type_model_checkpoint)\n",
    "\n",
    "tumor_type_train_transforms, tumor_type_val_transforms = create_transforms(tumor_type_image_processor)\n",
    "\n",
    "tumor_type_train_ds = tumor_type_dataset[\"train\"]\n",
    "tumor_type_val_ds = tumor_type_dataset[\"validation\"]\n",
    "tumor_type_test_ds = tumor_type_dataset[\"test\"]\n",
    "\n",
    "set_transforms(tumor_type_train_ds, tumor_type_train_ds, tumor_type_train_transforms, tumor_type_train_transforms)\n",
    "set_transforms(tumor_type_val_ds, tumor_type_val_ds, tumor_type_val_transforms, tumor_type_val_transforms)\n",
    "set_transforms(tumor_type_test_ds, tumor_type_test_ds, tumor_type_val_transforms, tumor_type_val_transforms)\n",
    "\n",
    "# fraction = 0.75\n",
    "\n",
    "# tumor_type_train_ds = get_dataset_subset(tumor_type_train_ds, fraction)\n",
    "# tumor_type_val_ds = get_dataset_subset(tumor_type_val_ds, fraction)\n",
    "# tumor_type_test_ds = get_dataset_subset(tumor_type_test_ds, fraction)"
   ]
  },
  {
   "cell_type": "markdown",
   "metadata": {
    "id": "BXcashI_GAef"
   },
   "source": [
    "### Load Model and Set Training Arguments"
   ]
  },
  {
   "cell_type": "code",
   "execution_count": null,
   "metadata": {
    "execution": {
     "iopub.execute_input": "2025-03-02T18:54:09.454673Z",
     "iopub.status.busy": "2025-03-02T18:54:09.454361Z",
     "iopub.status.idle": "2025-03-02T18:54:09.948748Z",
     "shell.execute_reply": "2025-03-02T18:54:09.948036Z",
     "shell.execute_reply.started": "2025-03-02T18:54:09.454645Z"
    },
    "id": "V8JKrRYzGAef",
    "outputId": "ce191885-959d-495e-86a2-22378bad3eb8",
    "trusted": true
   },
   "outputs": [
    {
     "name": "stderr",
     "output_type": "stream",
     "text": [
      "Some weights of SwinForImageClassification were not initialized from the model checkpoint at microsoft/swin-tiny-patch4-window7-224 and are newly initialized because the shapes did not match:\n",
      "- classifier.bias: found shape torch.Size([1000]) in the checkpoint and torch.Size([14]) in the model instantiated\n",
      "- classifier.weight: found shape torch.Size([1000, 768]) in the checkpoint and torch.Size([14, 768]) in the model instantiated\n",
      "You should probably TRAIN this model on a down-stream task to be able to use it for predictions and inference.\n"
     ]
    }
   ],
   "source": [
    "tumor_type_model = load_model(tumor_type_model_checkpoint, tumor_type_label2id, tumor_type_id2label)\n",
    "\n",
    "tumor_type_batch_size = 32\n",
    "num_train_epoch = 25\n",
    "\n",
    "tumor_type_training_args = set_training_arguments(\n",
    "    tumor_type_model_checkpoint,\n",
    "    tumor_type_batch_size,\n",
    "    tumor_type_model_name,\n",
    "    num_train_epoch\n",
    ")"
   ]
  },
  {
   "cell_type": "markdown",
   "metadata": {
    "id": "6amhdqweGAeg"
   },
   "source": [
    "### Initialize Trainer and Train Model"
   ]
  },
  {
   "cell_type": "code",
   "execution_count": null,
   "metadata": {
    "execution": {
     "iopub.execute_input": "2025-03-02T18:54:09.951063Z",
     "iopub.status.busy": "2025-03-02T18:54:09.950400Z",
     "iopub.status.idle": "2025-03-02T18:54:11.501259Z",
     "shell.execute_reply": "2025-03-02T18:54:11.500225Z",
     "shell.execute_reply.started": "2025-03-02T18:54:09.951021Z"
    },
    "id": "cddPSwhXGAeg",
    "trusted": true
   },
   "outputs": [],
   "source": [
    "import shutil; shutil.rmtree(\"/kaggle/working/swin-brain-tumor-type-classification\", ignore_errors=True)"
   ]
  },
  {
   "cell_type": "code",
   "execution_count": null,
   "metadata": {
    "execution": {
     "iopub.execute_input": "2025-03-02T18:54:11.502699Z",
     "iopub.status.busy": "2025-03-02T18:54:11.502422Z",
     "iopub.status.idle": "2025-03-02T19:10:46.568949Z",
     "shell.execute_reply": "2025-03-02T19:10:46.568018Z",
     "shell.execute_reply.started": "2025-03-02T18:54:11.502672Z"
    },
    "id": "1HWN9QgjGAeg",
    "outputId": "7737f687-8f0e-4ee2-aa8f-1d4da0b53139",
    "trusted": true
   },
   "outputs": [
    {
     "data": {
      "text/html": [
       "\n",
       "    <div>\n",
       "      \n",
       "      <progress value='525' max='525' style='width:300px; height:20px; vertical-align: middle;'></progress>\n",
       "      [525/525 15:15, Epoch 25/25]\n",
       "    </div>\n",
       "    <table border=\"1\" class=\"dataframe\">\n",
       "  <thead>\n",
       " <tr style=\"text-align: left;\">\n",
       "      <th>Epoch</th>\n",
       "      <th>Training Loss</th>\n",
       "      <th>Validation Loss</th>\n",
       "      <th>Accuracy</th>\n",
       "    </tr>\n",
       "  </thead>\n",
       "  <tbody>\n",
       "    <tr>\n",
       "      <td>1</td>\n",
       "      <td>2.482400</td>\n",
       "      <td>2.255820</td>\n",
       "      <td>0.242049</td>\n",
       "    </tr>\n",
       "    <tr>\n",
       "      <td>2</td>\n",
       "      <td>2.121300</td>\n",
       "      <td>1.816519</td>\n",
       "      <td>0.416961</td>\n",
       "    </tr>\n",
       "    <tr>\n",
       "      <td>3</td>\n",
       "      <td>1.661300</td>\n",
       "      <td>1.367764</td>\n",
       "      <td>0.567138</td>\n",
       "    </tr>\n",
       "    <tr>\n",
       "      <td>4</td>\n",
       "      <td>1.323700</td>\n",
       "      <td>1.193950</td>\n",
       "      <td>0.606007</td>\n",
       "    </tr>\n",
       "    <tr>\n",
       "      <td>5</td>\n",
       "      <td>1.154300</td>\n",
       "      <td>0.920513</td>\n",
       "      <td>0.704947</td>\n",
       "    </tr>\n",
       "    <tr>\n",
       "      <td>6</td>\n",
       "      <td>0.931700</td>\n",
       "      <td>0.812103</td>\n",
       "      <td>0.731449</td>\n",
       "    </tr>\n",
       "    <tr>\n",
       "      <td>7</td>\n",
       "      <td>0.789100</td>\n",
       "      <td>0.655286</td>\n",
       "      <td>0.798587</td>\n",
       "    </tr>\n",
       "    <tr>\n",
       "      <td>8</td>\n",
       "      <td>0.681200</td>\n",
       "      <td>0.571959</td>\n",
       "      <td>0.818021</td>\n",
       "    </tr>\n",
       "    <tr>\n",
       "      <td>9</td>\n",
       "      <td>0.634800</td>\n",
       "      <td>0.536394</td>\n",
       "      <td>0.818021</td>\n",
       "    </tr>\n",
       "    <tr>\n",
       "      <td>10</td>\n",
       "      <td>0.548800</td>\n",
       "      <td>0.478043</td>\n",
       "      <td>0.842756</td>\n",
       "    </tr>\n",
       "    <tr>\n",
       "      <td>11</td>\n",
       "      <td>0.505000</td>\n",
       "      <td>0.454020</td>\n",
       "      <td>0.856890</td>\n",
       "    </tr>\n",
       "    <tr>\n",
       "      <td>12</td>\n",
       "      <td>0.475800</td>\n",
       "      <td>0.399210</td>\n",
       "      <td>0.885159</td>\n",
       "    </tr>\n",
       "    <tr>\n",
       "      <td>13</td>\n",
       "      <td>0.430600</td>\n",
       "      <td>0.428018</td>\n",
       "      <td>0.867491</td>\n",
       "    </tr>\n",
       "    <tr>\n",
       "      <td>14</td>\n",
       "      <td>0.395200</td>\n",
       "      <td>0.401927</td>\n",
       "      <td>0.878092</td>\n",
       "    </tr>\n",
       "    <tr>\n",
       "      <td>15</td>\n",
       "      <td>0.372600</td>\n",
       "      <td>0.379355</td>\n",
       "      <td>0.876325</td>\n",
       "    </tr>\n",
       "    <tr>\n",
       "      <td>16</td>\n",
       "      <td>0.319100</td>\n",
       "      <td>0.348165</td>\n",
       "      <td>0.895760</td>\n",
       "    </tr>\n",
       "    <tr>\n",
       "      <td>17</td>\n",
       "      <td>0.301400</td>\n",
       "      <td>0.337163</td>\n",
       "      <td>0.893993</td>\n",
       "    </tr>\n",
       "    <tr>\n",
       "      <td>18</td>\n",
       "      <td>0.278500</td>\n",
       "      <td>0.347161</td>\n",
       "      <td>0.899293</td>\n",
       "    </tr>\n",
       "    <tr>\n",
       "      <td>19</td>\n",
       "      <td>0.294800</td>\n",
       "      <td>0.324578</td>\n",
       "      <td>0.906360</td>\n",
       "    </tr>\n",
       "    <tr>\n",
       "      <td>20</td>\n",
       "      <td>0.261800</td>\n",
       "      <td>0.306012</td>\n",
       "      <td>0.908127</td>\n",
       "    </tr>\n",
       "    <tr>\n",
       "      <td>21</td>\n",
       "      <td>0.270500</td>\n",
       "      <td>0.312162</td>\n",
       "      <td>0.904594</td>\n",
       "    </tr>\n",
       "    <tr>\n",
       "      <td>22</td>\n",
       "      <td>0.247900</td>\n",
       "      <td>0.306063</td>\n",
       "      <td>0.902827</td>\n",
       "    </tr>\n",
       "    <tr>\n",
       "      <td>23</td>\n",
       "      <td>0.241100</td>\n",
       "      <td>0.303986</td>\n",
       "      <td>0.909894</td>\n",
       "    </tr>\n",
       "    <tr>\n",
       "      <td>24</td>\n",
       "      <td>0.255600</td>\n",
       "      <td>0.298967</td>\n",
       "      <td>0.909894</td>\n",
       "    </tr>\n",
       "    <tr>\n",
       "      <td>25</td>\n",
       "      <td>0.241300</td>\n",
       "      <td>0.297799</td>\n",
       "      <td>0.908127</td>\n",
       "    </tr>\n",
       "  </tbody>\n",
       "</table><p>"
      ],
      "text/plain": [
       "<IPython.core.display.HTML object>"
      ]
     },
     "metadata": {},
     "output_type": "display_data"
    },
    {
     "name": "stdout",
     "output_type": "stream",
     "text": [
      "***** train metrics *****\n",
      "  epoch                    =         25.0\n",
      "  total_flos               = 1546867941GF\n",
      "  train_loss               =       0.6888\n",
      "  train_runtime            =   0:15:17.18\n",
      "  train_samples_per_second =       72.832\n",
      "  train_steps_per_second   =        0.572\n"
     ]
    }
   ],
   "source": [
    "tumor_type_trainer = initialize_trainer(\n",
    "    tumor_type_model,\n",
    "    tumor_type_training_args,\n",
    "    tumor_type_train_ds,\n",
    "    tumor_type_val_ds,\n",
    "    tumor_type_image_processor\n",
    ")\n",
    "\n",
    "tumor_type_train_results = train_model(tumor_type_trainer)"
   ]
  },
  {
   "cell_type": "code",
   "execution_count": null,
   "metadata": {
    "execution": {
     "iopub.execute_input": "2025-03-02T19:10:46.571188Z",
     "iopub.status.busy": "2025-03-02T19:10:46.570900Z",
     "iopub.status.idle": "2025-03-02T19:10:46.829353Z",
     "shell.execute_reply": "2025-03-02T19:10:46.828517Z",
     "shell.execute_reply.started": "2025-03-02T19:10:46.571159Z"
    },
    "id": "Be1JqZVnGAeg",
    "outputId": "32a9edaf-901c-4cc9-a0f8-bc04bc94ddd4",
    "trusted": true
   },
   "outputs": [
    {
     "data": {
      "image/png": "[encoded data removed]",
      "text/plain": [
       "<Figure size 1000x600 with 1 Axes>"
      ]
     },
     "metadata": {},
     "output_type": "display_data"
    }
   ],
   "source": [
    "plot_learning_curve(tumor_type_trainer)"
   ]
  },
  {
   "cell_type": "markdown",
   "metadata": {
    "id": "PNCA-92rGAeg"
   },
   "source": [
    "### Evaluate Model"
   ]
  },
  {
   "cell_type": "code",
   "execution_count": null,
   "metadata": {
    "execution": {
     "iopub.execute_input": "2025-03-02T19:10:46.830649Z",
     "iopub.status.busy": "2025-03-02T19:10:46.830385Z",
     "iopub.status.idle": "2025-03-02T19:10:50.988180Z",
     "shell.execute_reply": "2025-03-02T19:10:50.987308Z",
     "shell.execute_reply.started": "2025-03-02T19:10:46.830614Z"
    },
    "id": "BZsCTAdUGAeg",
    "outputId": "c3484908-383a-4bde-8934-ed2074256f12",
    "trusted": true
   },
   "outputs": [
    {
     "data": {
      "text/html": [
       "\n",
       "    <div>\n",
       "      \n",
       "      <progress value='37' max='18' style='width:300px; height:20px; vertical-align: middle;'></progress>\n",
       "      [18/18 00:08]\n",
       "    </div>\n",
       "    "
      ],
      "text/plain": [
       "<IPython.core.display.HTML object>"
      ]
     },
     "metadata": {},
     "output_type": "display_data"
    },
    {
     "name": "stdout",
     "output_type": "stream",
     "text": [
      "***** eval metrics *****\n",
      "  epoch                   =       25.0\n",
      "  eval_accuracy           =     0.9099\n",
      "  eval_loss               =      0.304\n",
      "  eval_runtime            = 0:00:04.15\n",
      "  eval_samples_per_second =    136.331\n",
      "  eval_steps_per_second   =      4.336\n"
     ]
    }
   ],
   "source": [
    "tumor_type_metrics = evaluate_model(tumor_type_trainer)"
   ]
  },
  {
   "cell_type": "code",
   "execution_count": null,
   "metadata": {
    "execution": {
     "iopub.execute_input": "2025-03-02T19:10:50.989811Z",
     "iopub.status.busy": "2025-03-02T19:10:50.989494Z",
     "iopub.status.idle": "2025-03-02T19:10:55.369176Z",
     "shell.execute_reply": "2025-03-02T19:10:55.368150Z",
     "shell.execute_reply.started": "2025-03-02T19:10:50.989782Z"
    },
    "id": "rGHGlmhKGAeg",
    "outputId": "56c1764d-2588-4d49-f255-2a74b032aa57",
    "trusted": true
   },
   "outputs": [
    {
     "name": "stdout",
     "output_type": "stream",
     "text": [
      "Evaluating model on test dataset...\n",
      "***** test metrics *****\n",
      "  epoch                   =       25.0\n",
      "  eval_accuracy           =     0.9083\n",
      "  eval_loss               =     0.2876\n",
      "  eval_runtime            = 0:00:04.37\n",
      "  eval_samples_per_second =    134.686\n",
      "  eval_steps_per_second   =      4.345\n"
     ]
    }
   ],
   "source": [
    "test_metrics = evaluate_on_test_set(tumor_type_trainer, tumor_type_test_ds)"
   ]
  },
  {
   "cell_type": "code",
   "execution_count": null,
   "metadata": {
    "execution": {
     "iopub.execute_input": "2025-03-02T19:10:55.370740Z",
     "iopub.status.busy": "2025-03-02T19:10:55.370170Z",
     "iopub.status.idle": "2025-03-02T19:10:55.374744Z",
     "shell.execute_reply": "2025-03-02T19:10:55.373767Z",
     "shell.execute_reply.started": "2025-03-02T19:10:55.370703Z"
    },
    "id": "5uGF_nrMGAeg",
    "trusted": true
   },
   "outputs": [],
   "source": [
    "# cross_validate_model(\n",
    "#     model_checkpoint=\"microsoft/swin-tiny-patch4-window7-224\",\n",
    "#     dataset=tumor_type_train_ds,\n",
    "#     batch_size=32,\n",
    "#     num_epochs=25,\n",
    "#     model_name=\"swin-brain-tumor-classification\"\n",
    "# )"
   ]
  },
  {
   "cell_type": "code",
   "execution_count": null,
   "metadata": {
    "execution": {
     "iopub.execute_input": "2025-03-02T19:10:55.376666Z",
     "iopub.status.busy": "2025-03-02T19:10:55.375963Z",
     "iopub.status.idle": "2025-03-02T19:10:55.389940Z",
     "shell.execute_reply": "2025-03-02T19:10:55.389155Z",
     "shell.execute_reply.started": "2025-03-02T19:10:55.376626Z"
    },
    "id": "K6xgHelRGAeg",
    "trusted": true
   },
   "outputs": [],
   "source": [
    "# push_model_to_hub(tumor_type_trainer)"
   ]
  },
  {
   "cell_type": "code",
   "execution_count": null,
   "metadata": {
    "colab": {
     "referenced_widgets": [
      "4dc141e4651d4d2d9a8d0345c92527a9"
     ]
    },
    "execution": {
     "iopub.execute_input": "2025-03-02T19:10:55.391910Z",
     "iopub.status.busy": "2025-03-02T19:10:55.391648Z",
     "iopub.status.idle": "2025-03-02T19:12:03.833551Z",
     "shell.execute_reply": "2025-03-02T19:12:03.832508Z",
     "shell.execute_reply.started": "2025-03-02T19:10:55.391878Z"
    },
    "id": "ru1sqAnRGAeh",
    "outputId": "d147ad4e-ec1a-4126-f034-f2b0c2790b6b",
    "trusted": true
   },
   "outputs": [
    {
     "data": {
      "application/vnd.jupyter.widget-view+json": {
       "model_id": "4dc141e4651d4d2d9a8d0345c92527a9",
       "version_major": 2,
       "version_minor": 0
      },
      "text/plain": [
       "model.safetensors:   0%|          | 0.00/110M [00:00<?, ?B/s]"
      ]
     },
     "metadata": {},
     "output_type": "display_data"
    },
    {
     "data": {
      "image/png": "[encoded data removed]",
      "text/plain": [
       "<Figure size 800x600 with 2 Axes>"
      ]
     },
     "metadata": {},
     "output_type": "display_data"
    },
    {
     "name": "stdout",
     "output_type": "stream",
     "text": [
      "----- Classification Metrics -----\n",
      "Precision (%): 90.01\n",
      "Recall (%): 89.47\n",
      "F1-Score (%): 89.40\n",
      "Accuracy (%): 89.47\n"
     ]
    }
   ],
   "source": [
    "plot_conf_matrix_and_metrics(\n",
    "    dataset_name=\"bombshelll/brain_14_tumor_classes\",\n",
    "    repo_name=\"bombshelll/swin-brain-tumor-type-classification\"\n",
    ")"
   ]
  },
  {
   "cell_type": "markdown",
   "metadata": {
    "id": "wQIJNbFPGAeh"
   },
   "source": [
    "### Display Random Samples"
   ]
  },
  {
   "cell_type": "code",
   "execution_count": null,
   "metadata": {
    "execution": {
     "iopub.status.busy": "2025-03-02T17:04:35.988177Z",
     "iopub.status.idle": "2025-03-02T17:04:35.988644Z",
     "shell.execute_reply": "2025-03-02T17:04:35.988407Z",
     "shell.execute_reply.started": "2025-03-02T17:04:35.988384Z"
    },
    "id": "vPrPqqueGAeh",
    "jupyter": {
     "source_hidden": true
    },
    "scrolled": true,
    "trusted": true
   },
   "outputs": [],
   "source": [
    "display_random_samples(tumor_type_dataset_name, repo_name=\"bombshelll/swin-brain-tumor-type-classification\", num_samples=10)"
   ]
  }
 ],
 "metadata": {
  "colab": {
   "provenance": []
  },
  "kaggle": {
   "accelerator": "gpu",
   "dataSources": [
    {
     "datasetId": 3505991,
     "sourceId": 6145850,
     "sourceType": "datasetVersion"
    },
    {
     "datasetId": 4026473,
     "sourceId": 7003943,
     "sourceType": "datasetVersion"
    }
   ],
   "dockerImageVersionId": 30787,
   "isGpuEnabled": true,
   "isInternetEnabled": true,
   "language": "python",
   "sourceType": "notebook"
  },
  "kernelspec": {
   "display_name": "Python 3",
   "language": "python",
   "name": "python3"
  },
  "language_info": {
   "codemirror_mode": {
    "name": "ipython",
    "version": 3
   },
   "file_extension": ".py",
   "mimetype": "text/x-python",
   "name": "python",
   "nbconvert_exporter": "python",
   "pygments_lexer": "ipython3",
   "version": "3.10.14"
  }
 },
 "nbformat": 4,
 "nbformat_minor": 0
}
