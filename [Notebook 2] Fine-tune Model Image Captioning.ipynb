{
 "cells": [
  {
   "cell_type": "markdown",
   "id": "oOz2ufI5FFjJ",
   "metadata": {
    "id": "oOz2ufI5FFjJ"
   },
   "source": [
    "# Fine-tuning Model Image Captioning (VIT + BioMedBERT)"
   ]
  },
  {
   "cell_type": "markdown",
   "id": "7133819e",
   "metadata": {
    "id": "7133819e",
    "papermill": {
     "duration": 0.006514,
     "end_time": "2025-05-07T02:29:00.853513",
     "exception": false,
     "start_time": "2025-05-07T02:29:00.846999",
     "status": "completed"
    },
    "tags": []
   },
   "source": [
    "## Install and Import Libraries"
   ]
  },
  {
   "cell_type": "code",
   "execution_count": null,
   "id": "dfd5972f",
   "metadata": {
    "_cell_guid": "b1076dfc-b9ad-4769-8c92-a6c4dae69d19",
    "_uuid": "8f2839f25d086af736a60e9eeb907d3b93b6e0e5",
    "execution": {
     "iopub.execute_input": "2025-05-07T02:29:00.869491Z",
     "iopub.status.busy": "2025-05-07T02:29:00.868895Z",
     "iopub.status.idle": "2025-05-07T02:29:39.142614Z",
     "shell.execute_reply": "2025-05-07T02:29:39.141765Z"
    },
    "id": "dfd5972f",
    "outputId": "e8e7206b-fbd3-44fb-819a-863087aa1e3b",
    "papermill": {
     "duration": 38.285265,
     "end_time": "2025-05-07T02:29:39.144713",
     "exception": false,
     "start_time": "2025-05-07T02:29:00.859448",
     "status": "completed"
    },
    "scrolled": true,
    "tags": []
   },
   "outputs": [
    {
     "name": "stdout",
     "output_type": "stream",
     "text": [
      "Requirement already satisfied: sentencepiece in /opt/conda/lib/python3.10/site-packages (0.2.0)\r\n",
      "Requirement already satisfied: transformers in /opt/conda/lib/python3.10/site-packages (4.44.0)\r\n",
      "Requirement already satisfied: filelock in /opt/conda/lib/python3.10/site-packages (from transformers) (3.15.1)\r\n",
      "Requirement already satisfied: huggingface-hub<1.0,>=0.23.2 in /opt/conda/lib/python3.10/site-packages (from transformers) (0.24.6)\r\n",
      "Requirement already satisfied: numpy>=1.17 in /opt/conda/lib/python3.10/site-packages (from transformers) (1.26.4)\r\n",
      "Requirement already satisfied: packaging>=20.0 in /opt/conda/lib/python3.10/site-packages (from transformers) (21.3)\r\n",
      "Requirement already satisfied: pyyaml>=5.1 in /opt/conda/lib/python3.10/site-packages (from transformers) (6.0.2)\r\n",
      "Requirement already satisfied: regex!=2019.12.17 in /opt/conda/lib/python3.10/site-packages (from transformers) (2024.5.15)\r\n",
      "Requirement already satisfied: requests in /opt/conda/lib/python3.10/site-packages (from transformers) (2.32.3)\r\n",
      "Requirement already satisfied: safetensors>=0.4.1 in /opt/conda/lib/python3.10/site-packages (from transformers) (0.4.4)\r\n",
      "Requirement already satisfied: tokenizers<0.20,>=0.19 in /opt/conda/lib/python3.10/site-packages (from transformers) (0.19.1)\r\n",
      "Requirement already satisfied: tqdm>=4.27 in /opt/conda/lib/python3.10/site-packages (from transformers) (4.66.4)\r\n",
      "Requirement already satisfied: fsspec>=2023.5.0 in /opt/conda/lib/python3.10/site-packages (from huggingface-hub<1.0,>=0.23.2->transformers) (2024.6.1)\r\n",
      "Requirement already satisfied: typing-extensions>=3.7.4.3 in /opt/conda/lib/python3.10/site-packages (from huggingface-hub<1.0,>=0.23.2->transformers) (4.12.2)\r\n",
      "Requirement already satisfied: pyparsing!=3.0.5,>=2.0.2 in /opt/conda/lib/python3.10/site-packages (from packaging>=20.0->transformers) (3.1.2)\r\n",
      "Requirement already satisfied: charset-normalizer<4,>=2 in /opt/conda/lib/python3.10/site-packages (from requests->transformers) (3.3.2)\r\n",
      "Requirement already satisfied: idna<4,>=2.5 in /opt/conda/lib/python3.10/site-packages (from requests->transformers) (3.7)\r\n",
      "Requirement already satisfied: urllib3<3,>=1.21.1 in /opt/conda/lib/python3.10/site-packages (from requests->transformers) (1.26.18)\r\n",
      "Requirement already satisfied: certifi>=2017.4.17 in /opt/conda/lib/python3.10/site-packages (from requests->transformers) (2024.7.4)\r\n",
      "Requirement already satisfied: datasets in /opt/conda/lib/python3.10/site-packages (2.21.0)\r\n",
      "Requirement already satisfied: filelock in /opt/conda/lib/python3.10/site-packages (from datasets) (3.15.1)\r\n",
      "Requirement already satisfied: numpy>=1.17 in /opt/conda/lib/python3.10/site-packages (from datasets) (1.26.4)\r\n",
      "Requirement already satisfied: pyarrow>=15.0.0 in /opt/conda/lib/python3.10/site-packages (from datasets) (16.1.0)\r\n",
      "Requirement already satisfied: dill<0.3.9,>=0.3.0 in /opt/conda/lib/python3.10/site-packages (from datasets) (0.3.8)\r\n",
      "Requirement already satisfied: pandas in /opt/conda/lib/python3.10/site-packages (from datasets) (2.2.2)\r\n",
      "Requirement already satisfied: requests>=2.32.2 in /opt/conda/lib/python3.10/site-packages (from datasets) (2.32.3)\r\n",
      "Requirement already satisfied: tqdm>=4.66.3 in /opt/conda/lib/python3.10/site-packages (from datasets) (4.66.4)\r\n",
      "Requirement already satisfied: xxhash in /opt/conda/lib/python3.10/site-packages (from datasets) (3.4.1)\r\n",
      "Requirement already satisfied: multiprocess in /opt/conda/lib/python3.10/site-packages (from datasets) (0.70.16)\r\n",
      "Requirement already satisfied: fsspec<=2024.6.1,>=2023.1.0 in /opt/conda/lib/python3.10/site-packages (from fsspec[http]<=2024.6.1,>=2023.1.0->datasets) (2024.6.1)\r\n",
      "Requirement already satisfied: aiohttp in /opt/conda/lib/python3.10/site-packages (from datasets) (3.9.5)\r\n",
      "Requirement already satisfied: huggingface-hub>=0.21.2 in /opt/conda/lib/python3.10/site-packages (from datasets) (0.24.6)\r\n",
      "Requirement already satisfied: packaging in /opt/conda/lib/python3.10/site-packages (from datasets) (21.3)\r\n",
      "Requirement already satisfied: pyyaml>=5.1 in /opt/conda/lib/python3.10/site-packages (from datasets) (6.0.2)\r\n",
      "Requirement already satisfied: aiosignal>=1.1.2 in /opt/conda/lib/python3.10/site-packages (from aiohttp->datasets) (1.3.1)\r\n",
      "Requirement already satisfied: attrs>=17.3.0 in /opt/conda/lib/python3.10/site-packages (from aiohttp->datasets) (23.2.0)\r\n",
      "Requirement already satisfied: frozenlist>=1.1.1 in /opt/conda/lib/python3.10/site-packages (from aiohttp->datasets) (1.4.1)\r\n",
      "Requirement already satisfied: multidict<7.0,>=4.5 in /opt/conda/lib/python3.10/site-packages (from aiohttp->datasets) (6.0.5)\r\n",
      "Requirement already satisfied: yarl<2.0,>=1.0 in /opt/conda/lib/python3.10/site-packages (from aiohttp->datasets) (1.9.4)\r\n",
      "Requirement already satisfied: async-timeout<5.0,>=4.0 in /opt/conda/lib/python3.10/site-packages (from aiohttp->datasets) (4.0.3)\r\n",
      "Requirement already satisfied: typing-extensions>=3.7.4.3 in /opt/conda/lib/python3.10/site-packages (from huggingface-hub>=0.21.2->datasets) (4.12.2)\r\n",
      "Requirement already satisfied: pyparsing!=3.0.5,>=2.0.2 in /opt/conda/lib/python3.10/site-packages (from packaging->datasets) (3.1.2)\r\n",
      "Requirement already satisfied: charset-normalizer<4,>=2 in /opt/conda/lib/python3.10/site-packages (from requests>=2.32.2->datasets) (3.3.2)\r\n",
      "Requirement already satisfied: idna<4,>=2.5 in /opt/conda/lib/python3.10/site-packages (from requests>=2.32.2->datasets) (3.7)\r\n",
      "Requirement already satisfied: urllib3<3,>=1.21.1 in /opt/conda/lib/python3.10/site-packages (from requests>=2.32.2->datasets) (1.26.18)\r\n",
      "Requirement already satisfied: certifi>=2017.4.17 in /opt/conda/lib/python3.10/site-packages (from requests>=2.32.2->datasets) (2024.7.4)\r\n",
      "Requirement already satisfied: python-dateutil>=2.8.2 in /opt/conda/lib/python3.10/site-packages (from pandas->datasets) (2.9.0.post0)\r\n",
      "Requirement already satisfied: pytz>=2020.1 in /opt/conda/lib/python3.10/site-packages (from pandas->datasets) (2024.1)\r\n",
      "Requirement already satisfied: tzdata>=2022.7 in /opt/conda/lib/python3.10/site-packages (from pandas->datasets) (2024.1)\r\n",
      "Requirement already satisfied: six>=1.5 in /opt/conda/lib/python3.10/site-packages (from python-dateutil>=2.8.2->pandas->datasets) (1.16.0)\r\n",
      "Collecting sacremoses\r\n",
      "  Downloading sacremoses-0.1.1-py3-none-any.whl.metadata (8.3 kB)\r\n",
      "Requirement already satisfied: regex in /opt/conda/lib/python3.10/site-packages (from sacremoses) (2024.5.15)\r\n",
      "Requirement already satisfied: click in /opt/conda/lib/python3.10/site-packages (from sacremoses) (8.1.7)\r\n",
      "Requirement already satisfied: joblib in /opt/conda/lib/python3.10/site-packages (from sacremoses) (1.4.2)\r\n",
      "Requirement already satisfied: tqdm in /opt/conda/lib/python3.10/site-packages (from sacremoses) (4.66.4)\r\n",
      "Downloading sacremoses-0.1.1-py3-none-any.whl (897 kB)\r\n",
      "\u001b[2K   \u001b[90m━━━━━━━━━━━━━━━━━━━━━━━━━━━━━━━━━━━━━━━━\u001b[0m \u001b[32m897.5/897.5 kB\u001b[0m \u001b[31m12.7 MB/s\u001b[0m eta \u001b[36m0:00:00\u001b[0m\r\n",
      "\u001b[?25hInstalling collected packages: sacremoses\r\n",
      "Successfully installed sacremoses-0.1.1\r\n"
     ]
    }
   ],
   "source": [
    "! pip install sentencepiece\n",
    "! pip install transformers\n",
    "! pip install datasets\n",
    "! pip install sacremoses"
   ]
  },
  {
   "cell_type": "code",
   "execution_count": null,
   "id": "0cc914c1",
   "metadata": {
    "execution": {
     "iopub.execute_input": "2025-05-07T02:29:39.159384Z",
     "iopub.status.busy": "2025-05-07T02:29:39.159087Z",
     "iopub.status.idle": "2025-05-07T02:30:01.142902Z",
     "shell.execute_reply": "2025-05-07T02:30:01.141828Z"
    },
    "id": "0cc914c1",
    "outputId": "3c064c83-ad3c-4e34-c51a-28c47b64661d",
    "papermill": {
     "duration": 21.99416,
     "end_time": "2025-05-07T02:30:01.145603",
     "exception": false,
     "start_time": "2025-05-07T02:29:39.151443",
     "status": "completed"
    },
    "tags": []
   },
   "outputs": [
    {
     "name": "stdout",
     "output_type": "stream",
     "text": [
      "[nltk_data] Downloading package stopwords to /usr/share/nltk_data...\n",
      "[nltk_data]   Unzipping corpora/stopwords.zip.\n"
     ]
    }
   ],
   "source": [
    "import datasets\n",
    "import transformers\n",
    "import pandas as pd\n",
    "import torch\n",
    "from torch.utils.data.dataset import Dataset\n",
    "from pathlib import Path\n",
    "from transformers import TrainerCallback\n",
    "from copy import deepcopy\n",
    "from PIL import Image\n",
    "import cv2\n",
    "import numpy as np\n",
    "import math\n",
    "from tokenizers import ByteLevelBPETokenizer\n",
    "from transformers import BertConfig\n",
    "from transformers import BertForMaskedLM\n",
    "from transformers import BertTokenizerFast\n",
    "from transformers import Seq2SeqTrainer\n",
    "from transformers import Seq2SeqTrainingArguments\n",
    "from transformers import Trainer, TrainingArguments\n",
    "from transformers import AutoTokenizer\n",
    "from transformers import BertTokenizer\n",
    "from transformers import DataCollatorForLanguageModeling\n",
    "from transformers import default_data_collator\n",
    "from transformers import ViTFeatureExtractor, ViTModel\n",
    "from transformers import VisionEncoderDecoderModel\n",
    "import matplotlib.pyplot as plt\n",
    "import seaborn as sns\n",
    "import re\n",
    "import random\n",
    "import tensorflow as tf\n",
    "from tqdm import tqdm\n",
    "from tensorflow.keras.preprocessing.image import ImageDataGenerator, load_img, img_to_array\n",
    "from tensorflow.keras.preprocessing.text import Tokenizer\n",
    "from tensorflow.keras.preprocessing.sequence import pad_sequences\n",
    "from tensorflow.keras.utils import Sequence\n",
    "from tensorflow.keras.utils import to_categorical\n",
    "from tensorflow.keras.models import Sequential, Model\n",
    "from tensorflow.keras.layers import Conv2D, MaxPooling2D, GlobalAveragePooling2D, Activation, Dropout, Flatten, Dense, Input, Layer\n",
    "from tensorflow.keras.layers import Embedding, LSTM, add, Concatenate, Reshape, concatenate, Bidirectional\n",
    "from tensorflow.keras.applications import VGG16, ResNet50, DenseNet201\n",
    "from tensorflow.keras.optimizers import Adam\n",
    "from tensorflow.keras.callbacks import ModelCheckpoint, EarlyStopping, ReduceLROnPlateau\n",
    "import warnings\n",
    "import matplotlib.pyplot as plt\n",
    "from textwrap import wrap\n",
    "from wordcloud import WordCloud, STOPWORDS\n",
    "from sklearn.feature_extraction.text import CountVectorizer\n",
    "from transformers import pipeline\n",
    "import datetime\n",
    "import numpy as np\n",
    "from torch.utils.data import random_split\n",
    "from torch.utils.data import DataLoader, RandomSampler, SequentialSampler\n",
    "from transformers import GPT2LMHeadModel, GPT2Tokenizer, GPT2Config\n",
    "import unicodedata\n",
    "import json\n",
    "import nltk\n",
    "from tensorflow.keras.utils import plot_model\n",
    "import textwrap\n",
    "\n",
    "nltk.download('stopwords')\n",
    "\n",
    "plt.rcParams['font.size'] = 12\n",
    "sns.set_style(\"dark\")\n",
    "warnings.filterwarnings('ignore')"
   ]
  },
  {
   "cell_type": "code",
   "execution_count": null,
   "id": "e6ab96dd",
   "metadata": {
    "execution": {
     "iopub.execute_input": "2025-05-07T02:30:01.173815Z",
     "iopub.status.busy": "2025-05-07T02:30:01.172945Z",
     "iopub.status.idle": "2025-05-07T02:30:01.277163Z",
     "shell.execute_reply": "2025-05-07T02:30:01.276263Z"
    },
    "id": "e6ab96dd",
    "outputId": "de1f9ccd-3773-494d-cf53-381ba5cf8cd3",
    "papermill": {
     "duration": 0.119508,
     "end_time": "2025-05-07T02:30:01.278930",
     "exception": false,
     "start_time": "2025-05-07T02:30:01.159422",
     "status": "completed"
    },
    "tags": []
   },
   "outputs": [
    {
     "name": "stdout",
     "output_type": "stream",
     "text": [
      "The token has not been saved to the git credentials helper. Pass `add_to_git_credential=True` in this function directly or `--add-to-git-credential` if using via `huggingface-cli` if you want to set the git credential as well.\n",
      "Token is valid (permission: fineGrained).\n",
      "Your token has been saved to /root/.cache/huggingface/token\n",
      "Login successful\n"
     ]
    }
   ],
   "source": [
    "from huggingface_hub import login\n",
    "\n",
    "login(\"[TOKEN]\")"
   ]
  },
  {
   "cell_type": "markdown",
   "id": "0826d185",
   "metadata": {
    "id": "0826d185",
    "papermill": {
     "duration": 0.006477,
     "end_time": "2025-05-07T02:30:01.292122",
     "exception": false,
     "start_time": "2025-05-07T02:30:01.285645",
     "status": "completed"
    },
    "tags": []
   },
   "source": [
    "## Utility Functions"
   ]
  },
  {
   "cell_type": "code",
   "execution_count": null,
   "id": "0a789b34",
   "metadata": {
    "execution": {
     "iopub.execute_input": "2025-05-07T02:30:01.307046Z",
     "iopub.status.busy": "2025-05-07T02:30:01.306757Z",
     "iopub.status.idle": "2025-05-07T02:30:01.338397Z",
     "shell.execute_reply": "2025-05-07T02:30:01.337526Z"
    },
    "id": "0a789b34",
    "jupyter": {
     "source_hidden": true
    },
    "papermill": {
     "duration": 0.041346,
     "end_time": "2025-05-07T02:30:01.340109",
     "exception": false,
     "start_time": "2025-05-07T02:30:01.298763",
     "status": "completed"
    },
    "tags": []
   },
   "outputs": [],
   "source": [
    "def tokenize_seq(sent,tokenizer,max_length):\n",
    "  '''\n",
    "    Tokenize the sentence with respect to the sent argument and the tokenizer\n",
    "  '''\n",
    "  return tokenizer('<sos>'+ sent + '<eos>', truncation=True, max_length=max_length, padding=\"max_length\")\n",
    "\n",
    "def format_time(elapsed):\n",
    "    '''\n",
    "      Calculate the time difference\n",
    "    '''\n",
    "    return str(datetime.timedelta(seconds=int(round((elapsed)))))\n",
    "\n",
    "def model_prediction(my_model, image, max_length=50):\n",
    "    '''\n",
    "    Return the estimation of the model with respect of the feature extractor and the tokenizer\n",
    "    '''\n",
    "    result = tokenizer.decode(\n",
    "        my_model.generate(\n",
    "            feature_extractor(image, return_tensors=\"pt\", do_normalize=True, image_mean=[0.5, 0.5, 0.5]).pixel_values,\n",
    "            max_length=max_length \n",
    "        )[0]\n",
    "    )\n",
    "    result = result.replace(\"<s>\", \"\").replace(\"</s>\", \"\").replace(\"<unk>\", \"\").replace(\"<pad>\", \"\").strip()\n",
    "    return result\n",
    "\n",
    "\n",
    "def display_score_images(df,my_model,n_limit=3):\n",
    "  '''\n",
    "    Return n original images & titles as well as the predictions with respect to the model and the dataframe\n",
    "  '''\n",
    "  temp_index_list = df.index.tolist()\n",
    "  rnumbers = random.sample(range(0,len(temp_index_list)), n_limit)\n",
    "  my_images = []\n",
    "  my_titles = []\n",
    "  my_predictions = []\n",
    "  for r in rnumbers:\n",
    "    image = cv2.imread(df.iloc[r]['images'],1)\n",
    "    image = cv2.cvtColor(image, cv2.COLOR_BGR2RGB)\n",
    "    image = cv2.resize(image, (image_target_size,image_target_size))\n",
    "    my_images.append(image)\n",
    "    my_images.append(image)\n",
    "    my_titles.append(test_df.iloc[r]['captions'])\n",
    "    my_predictions.append(model_prediction(my_model,image))\n",
    "\n",
    "  return my_images , my_titles , my_predictions\n",
    "\n",
    "def display_n_images(im_list, im_title, im_suptitle, n_rows, n_columns):\n",
    "    '''\n",
    "    Custom function for displaying images with their titles, adjusted for larger images and wrapped text.\n",
    "    '''\n",
    "    fig = plt.figure(figsize=(20, 12 * n_rows))\n",
    "\n",
    "    plt.subplots_adjust(hspace=0.8)\n",
    "\n",
    "    for i in range(1, n_columns * n_rows + 1):\n",
    "        ax = fig.add_subplot(n_rows, n_columns, i)\n",
    "        ax.imshow(im_list[i - 1])\n",
    "        if (i - 1) % 2 == 0:\n",
    "            title = textwrap.fill(im_title[(i - 1) // 2], width=30)\n",
    "            ax.set_title(title, color='green', fontsize=14, pad=20)\n",
    "        else:\n",
    "            cleaned_subtitle = im_suptitle[(i - 1) // 2].replace('[CLS]', '').strip()\n",
    "            subtitle = textwrap.fill(cleaned_subtitle, width=50)\n",
    "            ax.set_title(subtitle, color='blue', fontsize=14, pad=20)\n",
    "        ax.axis('off')\n",
    "\n",
    "    plt.suptitle('Actual vs Predictions', fontsize=18)\n",
    "    plt.show()\n",
    "\n",
    "def display_image(img,my_title=None):\n",
    "  '''\n",
    "  Custom function to display single image with its title\n",
    "  '''\n",
    "  fig, axes = plt.subplots(1, figsize=(15,15))\n",
    "  if len(img.shape) == 2 :\n",
    "    plt.imshow(img,cmap='gray')\n",
    "  else:\n",
    "    plt.imshow(img)\n",
    "  if my_title is not None:\n",
    "    plt.title(my_title)\n",
    "  plt.axis('off');\n",
    "\n",
    "def rmv_empty_images(temp_df,temp_list):\n",
    "  '''\n",
    "      According to the list of values and the dataframe,\n",
    "      remove all the rows within the dataframe\n",
    "  '''\n",
    "  if temp_list is None:\n",
    "    temp_list =  []\n",
    "    for i,t in enumerate(temp_df['images'].tolist()):\n",
    "      image = cv2.imread(t)\n",
    "      try:\n",
    "          temp_shape = image.shape\n",
    "      except Exception:\n",
    "        temp_list.append(t)\n",
    "        continue\n",
    "    temp_df = temp_df[~temp_df.images.isin(temp_list)]\n",
    "    return temp_df\n",
    "  else:\n",
    "    temp_df = temp_df[~temp_df.images.isin(temp_list)]\n",
    "    return temp_df\n",
    "\n",
    "def find_metrics_history(trainer):\n",
    "  '''\n",
    "     According the history of the trainer model, fetch the training as well the validation loss\n",
    "  '''\n",
    "  train_loss_list = []\n",
    "  train_perplexity_list = []\n",
    "  val_loss_list = []\n",
    "  val_perplexity_list = []\n",
    "  for i,t in enumerate(trainer.state.log_history):\n",
    "    if t.get('train_runtime') == trainer.state.log_history[-1].get('train_runtime'):\n",
    "      break\n",
    "    if 'train_loss' in t.keys():\n",
    "      train_loss_list.append(t.get('train_loss'))\n",
    "      train_perplexity_list.append(math.exp(t['train_loss']))\n",
    "    elif 'eval_loss' in t.keys():\n",
    "      val_loss_list.append(t.get('eval_loss'))\n",
    "      val_perplexity_list.append(math.exp(t['eval_loss']))\n",
    "  return train_loss_list , train_perplexity_list , val_loss_list , val_perplexity_list\n",
    "\n",
    "def transform_df(df):\n",
    "  '''\n",
    "    This is the main transformation function of the process.\n",
    "    First step is to lowercase all the strings, remove punctioations as well\n",
    "    as the values within the parenthesis\n",
    "  '''\n",
    "  df['captions'] = df['captions'].str.lower()\n",
    "  df['captions'] = df['captions'].apply(\n",
    "      lambda elem: elem.replace('\\n','').strip())\n",
    "  df['captions'] = df['captions'].apply(\n",
    "      lambda elem: re.sub(\"\\(.*?\\)\",\"()\",elem))\n",
    "  df['captions'] = df['captions'].apply(\n",
    "      lambda elem:  re.sub(\"[\\(\\[].*?[\\)\\]]\", \"\", elem))\n",
    "  df['captions'] = df['captions'].apply(\n",
    "      lambda elem: re.sub(r'[^\\w\\s]', \"\", elem))\n",
    "  return df\n",
    "\n",
    "def get_ngrams(review, n, g):\n",
    "    '''\n",
    "    Return the Top n words according to the size of the n-gram\n",
    "    '''\n",
    "    vec = CountVectorizer(ngram_range=(g, g)).fit(review)\n",
    "    bag_of_words = vec.transform(review)\n",
    "    sum_words = bag_of_words.sum(axis=0)\n",
    "    sum_words = np.array(sum_words)[0].tolist()\n",
    "    words_freq = [(word, sum_words[idx]) for word, idx in vec.vocabulary_.items()]\n",
    "    words_freq =sorted(words_freq, key = lambda x: x[1], reverse=True)\n",
    "    return words_freq[:n]\n",
    "\n",
    "def display_score_images_gr(df,my_model,n_limit=3):\n",
    "  '''\n",
    "    Return n original images & titles as well as the predictions with respect to the model and the dataframe\n",
    "    that contains the gr translations of the original captions.\n",
    "  '''\n",
    "  temp_index_list = df.index.tolist()\n",
    "  rnumbers = random.sample(range(0,len(temp_index_list)), n_limit)\n",
    "  my_images = []\n",
    "  my_titles = []\n",
    "  my_predictions = []\n",
    "  for r in rnumbers:\n",
    "    image = cv2.imread(df.iloc[r]['images'],1)\n",
    "    image = cv2.cvtColor(image, cv2.COLOR_BGR2RGB)\n",
    "    image = cv2.resize(image, (IMAGE_TARGET_SIZE,IMAGE_TARGET_SIZE))\n",
    "    my_images.append(image)\n",
    "    my_images.append(image)\n",
    "    my_titles.append(df.iloc[r]['captions_gr'] +'\\n'+(df.iloc[r]['captions']))\n",
    "    my_predictions.append(model_prediction(my_model,image))\n",
    "\n",
    "def create_gr_stopwords(stopwords):\n",
    "  '''\n",
    "    Update the nltk greek stopwords with certain words\n",
    "  '''\n",
    "  stopwords = set(stopwords.words('greek'))\n",
    "  new_stopwords = []\n",
    "  for s in stopwords:\n",
    "    new_stopwords.append(strip_accents_and_lowercase(s))\n",
    "  new_stopwords.append('μια')\n",
    "  new_stopwords.append('μιας')\n",
    "  new_stopwords.append('μου')\n",
    "  new_stopwords.append('ενα')\n",
    "  new_stopwords.append('σας')\n",
    "  return new_stopwords\n",
    "\n",
    "def strip_accents_and_lowercase(s):\n",
    "   return ''.join(c for c in unicodedata.normalize('NFD', s)\n",
    "                  if unicodedata.category(c) != 'Mn').lower()\n",
    "\n",
    "def cleansing_col(main_df):\n",
    "  '''\n",
    "  invoke the strip_accents_and_lowercase function and\n",
    "  cleanse the captions_gr column that contains the gr translations\n",
    "  of the original caption column\n",
    "  '''\n",
    "  cleansed_data = []\n",
    "  for v in main_df['captions_gr'].values:\n",
    "    new_string = re.sub(r'http\\S+', '', v)\n",
    "    new_string = strip_accents_and_lowercase(new_string)\n",
    "    new_string = new_string.split(' ')\n",
    "    new_string = ' '.join(new_string)\n",
    "    cleansed_data.append(new_string)\n",
    "  main_df['captions_gr'] = cleansed_data\n",
    "  return main_df\n",
    "\n",
    "\n",
    "def validation_score(df):\n",
    "  '''\n",
    "   With respect of the dataframe and the model\n",
    "   return the original captions and the predicted captions\n",
    "  '''\n",
    "  true_labels = []\n",
    "  predicted_labels = []\n",
    "  for index,record in df.iterrows():\n",
    "      caption = predict_caption(caption_model, record['images'], tokenizer, max_length, val_features)\n",
    "      true_labels.append(manipulate_str(record['captions']))\n",
    "      predicted_labels.append(manipulate_str(caption))\n",
    "  return predicted_labels , true_labels\n",
    "\n",
    "def display_score_images_dense(df,my_model,n_limit=3):\n",
    "  '''\n",
    "    Return n original images & titles as well as the predictions\n",
    "    with respect to the model of the Dense + LSTM architecture\n",
    "  '''\n",
    "  temp_index_list = df.index.tolist()\n",
    "  rnumbers = random.sample(range(0,len(temp_index_list)), n_limit)\n",
    "  my_images = []\n",
    "  true_labels = []\n",
    "  predicted_labels = []\n",
    "  for r in rnumbers:\n",
    "    image = cv2.imread(df.iloc[r]['images'],1)\n",
    "    image = cv2.cvtColor(image, cv2.COLOR_BGR2RGB)\n",
    "    image = cv2.resize(image, (image_target_size,image_target_size))\n",
    "    my_images.append(image)\n",
    "    my_images.append(image)\n",
    "    true_labels.append(manipulate_str (df.iloc[r]['captions']))\n",
    "    caption = predict_caption(my_model,df.iloc[r]['images'], tokenizer, max_length, val_features)\n",
    "    predicted_labels.append(manipulate_str(caption))\n",
    "  return my_images , true_labels , predicted_labels\n",
    "\n",
    "def predict_caption(model, image, tokenizer, max_length, features):\n",
    "    '''\n",
    "    With respect to the Dense+LSTM architecture\n",
    "    return the predicted caption of the model\n",
    "    '''\n",
    "    feature = features[image]\n",
    "    in_text = \"startseq\"\n",
    "    for i in range(max_length):\n",
    "        sequence = tokenizer.texts_to_sequences([in_text])[0]\n",
    "        sequence = pad_sequences([sequence], max_length)\n",
    "        y_pred = model.predict([feature,sequence])\n",
    "        y_pred = np.argmax(y_pred)\n",
    "        word = idx_to_word(y_pred, tokenizer)\n",
    "        if word is None:\n",
    "            break\n",
    "        in_text+= \" \" + word\n",
    "        if word == 'endseq':\n",
    "            break\n",
    "    return in_text\n",
    "\n",
    "def manipulate_str(my_str):\n",
    "  '''\n",
    "  Remove special charactes\n",
    "  from the my_str argument\n",
    "  '''\n",
    "  temp_str = my_str.replace('startseq',\"\").replace('\\n',\"\").replace('endseq',\"\")\n",
    "  temp_str = temp_str.split(' ')\n",
    "  return (' '.join(temp_str)).strip()\n",
    "\n",
    "def idx_to_word(integer,tokenizer):\n",
    "    '''\n",
    "    With respect to the tokenizer and the token id\n",
    "    return the respective word\n",
    "    '''\n",
    "    for word, index in tokenizer.word_index.items():\n",
    "        if index==integer:\n",
    "            return word\n",
    "    return None\n",
    "def make_model_tensors_contiguous(model):\n",
    "    for name, param in model.named_parameters():\n",
    "        if not param.data.is_contiguous():\n",
    "            param.data = param.data.contiguous()\n",
    "\n",
    "class CustomCallback(TrainerCallback):\n",
    "    def __init__(self, trainer) -> None:\n",
    "        super().__init__()\n",
    "        self._trainer = trainer\n",
    "\n",
    "    def on_epoch_end(self, args, state, control, **kwargs):\n",
    "        if control.should_evaluate:\n",
    "            control_copy = deepcopy(control)\n",
    "            self._trainer.evaluate(eval_dataset=self._trainer.train_dataset, metric_key_prefix=\"train\")\n",
    "            return control_copy"
   ]
  },
  {
   "cell_type": "markdown",
   "id": "8c20c569",
   "metadata": {
    "id": "8c20c569",
    "papermill": {
     "duration": 0.006256,
     "end_time": "2025-05-07T02:30:01.353369",
     "exception": false,
     "start_time": "2025-05-07T02:30:01.347113",
     "status": "completed"
    },
    "tags": []
   },
   "source": [
    "### Hyperparameters"
   ]
  },
  {
   "cell_type": "code",
   "execution_count": null,
   "id": "da90f865",
   "metadata": {
    "execution": {
     "iopub.execute_input": "2025-05-07T02:30:01.367678Z",
     "iopub.status.busy": "2025-05-07T02:30:01.367120Z",
     "iopub.status.idle": "2025-05-07T02:30:01.371482Z",
     "shell.execute_reply": "2025-05-07T02:30:01.370651Z"
    },
    "id": "da90f865",
    "papermill": {
     "duration": 0.013103,
     "end_time": "2025-05-07T02:30:01.373010",
     "exception": false,
     "start_time": "2025-05-07T02:30:01.359907",
     "status": "completed"
    },
    "tags": []
   },
   "outputs": [],
   "source": [
    "TRAIN_BATCH_SIZE = 64\n",
    "VALID_BATCH_SIZE = 5\n",
    "VAL_EPOCHS = 1\n",
    "LEARNING_RATE = 1e-4\n",
    "SEED = 42\n",
    "MAX_LEN = 128\n",
    "SUMMARY_LEN = 20\n",
    "TRAIN_EPOCHS = 5\n",
    "WEIGHT_DECAY = 0.01\n",
    "SEED = 42\n",
    "MAX_LEN = 128\n",
    "SUMMARY_LEN = 20\n",
    "BATCH_SIZE= 32\n",
    "IMAGE_TARGET_SIZE = 224"
   ]
  },
  {
   "cell_type": "markdown",
   "id": "94c6a8db",
   "metadata": {
    "id": "94c6a8db",
    "papermill": {
     "duration": 0.006361,
     "end_time": "2025-05-07T02:30:01.385975",
     "exception": false,
     "start_time": "2025-05-07T02:30:01.379614",
     "status": "completed"
    },
    "tags": []
   },
   "source": [
    "## Dataset Preparation"
   ]
  },
  {
   "cell_type": "code",
   "execution_count": null,
   "id": "ad5e7105",
   "metadata": {
    "execution": {
     "iopub.execute_input": "2025-05-07T02:30:01.401154Z",
     "iopub.status.busy": "2025-05-07T02:30:01.400575Z",
     "iopub.status.idle": "2025-05-07T02:30:01.475087Z",
     "shell.execute_reply": "2025-05-07T02:30:01.474089Z"
    },
    "id": "ad5e7105",
    "outputId": "924aeb06-56bf-434c-cba8-779ea0aa8fe8",
    "papermill": {
     "duration": 0.083552,
     "end_time": "2025-05-07T02:30:01.476779",
     "exception": false,
     "start_time": "2025-05-07T02:30:01.393227",
     "status": "completed"
    },
    "tags": []
   },
   "outputs": [
    {
     "name": "stdout",
     "output_type": "stream",
     "text": [
      "Train DataFrame shape (ROCO Brain): (2874, 3)\n"
     ]
    }
   ],
   "source": [
    "import os\n",
    "import pandas as pd\n",
    "\n",
    "dataset_paths = {\n",
    "    'train': '/kaggle/input/roco-brain/train/kaggle/working/traindata.csv',\n",
    "    'test': '/kaggle/input/roco-brain/test/kaggle/working/testdata.csv',\n",
    "    'validation': '/kaggle/input/roco-brain/validation/kaggle/working/validationdata.csv'\n",
    "}\n",
    "\n",
    "dfs = {}\n",
    "\n",
    "for key, path in dataset_paths.items():\n",
    "    df = pd.read_csv(path)\n",
    "    df.drop(columns=['Unnamed: 0'], inplace=True)\n",
    "    df.rename(columns={'name': 'images', 'caption': 'captions'}, inplace=True)\n",
    "    data_dir = f\"/kaggle/input/roco-brain/{key}/kaggle/working/{key}_images/\"\n",
    "    df['images'] = data_dir + df['images']\n",
    "    dfs[key] = df\n",
    "\n",
    "train_df = dfs['train']\n",
    "test_df = dfs['test']\n",
    "validation_df = dfs['validation']\n",
    "\n",
    "print(\"Train DataFrame shape (ROCO Brain):\", train_df.shape)"
   ]
  },
  {
   "cell_type": "code",
   "execution_count": null,
   "id": "6ea692ec",
   "metadata": {
    "execution": {
     "iopub.execute_input": "2025-05-07T02:30:01.491826Z",
     "iopub.status.busy": "2025-05-07T02:30:01.491537Z",
     "iopub.status.idle": "2025-05-07T02:30:01.498162Z",
     "shell.execute_reply": "2025-05-07T02:30:01.497469Z"
    },
    "id": "6ea692ec",
    "papermill": {
     "duration": 0.015715,
     "end_time": "2025-05-07T02:30:01.499652",
     "exception": false,
     "start_time": "2025-05-07T02:30:01.483937",
     "status": "completed"
    },
    "tags": []
   },
   "outputs": [],
   "source": [
    "class ROCO_Dataset(Dataset):\n",
    "    def __init__(self, df, tokenizer,feature_extractor, decoder_max_length=31):\n",
    "        self.df = df\n",
    "        self.tokenizer = tokenizer\n",
    "        self.feature_extractor = feature_extractor\n",
    "        self.decoder_max_length = decoder_max_length\n",
    "\n",
    "    def __len__(self):\n",
    "        return len(self.df)\n",
    "\n",
    "    def __getitem__(self, idx):\n",
    "        img_path = self.df['images'][idx]\n",
    "        caption = self.df['captions'][idx]\n",
    "\n",
    "        image = cv2.imread(img_path,1)\n",
    "        image = cv2.cvtColor(image, cv2.COLOR_BGR2RGB)\n",
    "        image = cv2.resize(image, (IMAGE_TARGET_SIZE,IMAGE_TARGET_SIZE))\n",
    "\n",
    "        pixel_values = self.feature_extractor(image, return_tensors=\"pt\",do_normalize = True,\n",
    "                                              image_mean =[0.5, 0.5, 0.5]).pixel_values\n",
    "\n",
    "        labels = self.tokenizer(caption, truncation = True,\n",
    "                                          padding=\"max_length\",\n",
    "                                          max_length=self.decoder_max_length).input_ids\n",
    "\n",
    "        labels = [label if label != self.tokenizer.pad_token_id else -100 for label in labels]\n",
    "\n",
    "        encoding = {\"pixel_values\": pixel_values.squeeze(), \"labels\": torch.tensor(labels)}\n",
    "        return encoding"
   ]
  },
  {
   "cell_type": "markdown",
   "id": "c447ba0e",
   "metadata": {
    "id": "c447ba0e",
    "papermill": {
     "duration": 0.006472,
     "end_time": "2025-05-07T02:30:01.512781",
     "exception": false,
     "start_time": "2025-05-07T02:30:01.506309",
     "status": "completed"
    },
    "tags": []
   },
   "source": [
    "## Fine-tuning Decoder BioMedBert"
   ]
  },
  {
   "cell_type": "code",
   "execution_count": null,
   "id": "897616ac",
   "metadata": {
    "colab": {
     "referenced_widgets": [
      "1fcb8c33d67a425e9335b7eb44ac2cd0",
      "5b80b860cd764d5898334dd29bbea0f1",
      "362edcdbe18d4e25ae7666bb79c5a441",
      "b0581064e08343e3a084bcb2deaac7e6"
     ]
    },
    "execution": {
     "iopub.execute_input": "2025-05-07T02:30:01.527249Z",
     "iopub.status.busy": "2025-05-07T02:30:01.526680Z",
     "iopub.status.idle": "2025-05-07T02:30:05.643774Z",
     "shell.execute_reply": "2025-05-07T02:30:05.643008Z"
    },
    "id": "897616ac",
    "outputId": "ebfa23e4-13e1-446d-a4c1-9c8d7db2c375",
    "papermill": {
     "duration": 4.126393,
     "end_time": "2025-05-07T02:30:05.645760",
     "exception": false,
     "start_time": "2025-05-07T02:30:01.519367",
     "status": "completed"
    },
    "tags": []
   },
   "outputs": [
    {
     "data": {
      "application/vnd.jupyter.widget-view+json": {
       "model_id": "1fcb8c33d67a425e9335b7eb44ac2cd0",
       "version_major": 2,
       "version_minor": 0
      },
      "text/plain": [
       "config.json:   0%|          | 0.00/385 [00:00<?, ?B/s]"
      ]
     },
     "metadata": {},
     "output_type": "display_data"
    },
    {
     "data": {
      "application/vnd.jupyter.widget-view+json": {
       "model_id": "5b80b860cd764d5898334dd29bbea0f1",
       "version_major": 2,
       "version_minor": 0
      },
      "text/plain": [
       "pytorch_model.bin:   0%|          | 0.00/440M [00:00<?, ?B/s]"
      ]
     },
     "metadata": {},
     "output_type": "display_data"
    },
    {
     "name": "stderr",
     "output_type": "stream",
     "text": [
      "Some weights of the model checkpoint at microsoft/BiomedNLP-BiomedBERT-base-uncased-abstract were not used when initializing BertForMaskedLM: ['bert.pooler.dense.bias', 'bert.pooler.dense.weight', 'cls.seq_relationship.bias', 'cls.seq_relationship.weight']\n",
      "- This IS expected if you are initializing BertForMaskedLM from the checkpoint of a model trained on another task or with another architecture (e.g. initializing a BertForSequenceClassification model from a BertForPreTraining model).\n",
      "- This IS NOT expected if you are initializing BertForMaskedLM from the checkpoint of a model that you expect to be exactly identical (initializing a BertForSequenceClassification model from a BertForSequenceClassification model).\n"
     ]
    },
    {
     "data": {
      "application/vnd.jupyter.widget-view+json": {
       "model_id": "362edcdbe18d4e25ae7666bb79c5a441",
       "version_major": 2,
       "version_minor": 0
      },
      "text/plain": [
       "tokenizer_config.json:   0%|          | 0.00/28.0 [00:00<?, ?B/s]"
      ]
     },
     "metadata": {},
     "output_type": "display_data"
    },
    {
     "data": {
      "application/vnd.jupyter.widget-view+json": {
       "model_id": "b0581064e08343e3a084bcb2deaac7e6",
       "version_major": 2,
       "version_minor": 0
      },
      "text/plain": [
       "vocab.txt:   0%|          | 0.00/225k [00:00<?, ?B/s]"
      ]
     },
     "metadata": {},
     "output_type": "display_data"
    }
   ],
   "source": [
    "model = BertForMaskedLM.from_pretrained('microsoft/BiomedNLP-BiomedBERT-base-uncased-abstract')\n",
    "tokenizer = AutoTokenizer.from_pretrained('microsoft/BiomedNLP-BiomedBERT-base-uncased-abstract', max_len=MAX_LEN)"
   ]
  },
  {
   "cell_type": "code",
   "execution_count": null,
   "id": "685c4c05",
   "metadata": {
    "execution": {
     "iopub.execute_input": "2025-05-07T02:30:05.661573Z",
     "iopub.status.busy": "2025-05-07T02:30:05.661276Z",
     "iopub.status.idle": "2025-05-07T02:30:05.666291Z",
     "shell.execute_reply": "2025-05-07T02:30:05.665516Z"
    },
    "id": "685c4c05",
    "papermill": {
     "duration": 0.014558,
     "end_time": "2025-05-07T02:30:05.667885",
     "exception": false,
     "start_time": "2025-05-07T02:30:05.653327",
     "status": "completed"
    },
    "tags": []
   },
   "outputs": [],
   "source": [
    "class CustomDataset(Dataset):\n",
    "    def __init__(self, df, tokenizer):\n",
    "        self.examples = []\n",
    "\n",
    "        for example in df.values:\n",
    "            x=tokenizer.encode_plus(example, max_length = MAX_LEN, truncation=True, padding=True)\n",
    "            self.examples += [x.input_ids]\n",
    "\n",
    "    def __len__(self):\n",
    "        return len(self.examples)\n",
    "\n",
    "    def __getitem__(self, i):\n",
    "        return torch.tensor(self.examples[i])"
   ]
  },
  {
   "cell_type": "code",
   "execution_count": null,
   "id": "98804ef1",
   "metadata": {
    "execution": {
     "iopub.execute_input": "2025-05-07T02:30:05.683604Z",
     "iopub.status.busy": "2025-05-07T02:30:05.682688Z",
     "iopub.status.idle": "2025-05-07T02:30:06.229069Z",
     "shell.execute_reply": "2025-05-07T02:30:06.228320Z"
    },
    "id": "98804ef1",
    "papermill": {
     "duration": 0.556127,
     "end_time": "2025-05-07T02:30:06.231068",
     "exception": false,
     "start_time": "2025-05-07T02:30:05.674941",
     "status": "completed"
    },
    "tags": []
   },
   "outputs": [],
   "source": [
    "train_dataset = CustomDataset(train_df['captions'], tokenizer)\n",
    "eval_dataset = CustomDataset(validation_df['captions'], tokenizer)\n",
    "\n",
    "data_collator = DataCollatorForLanguageModeling(tokenizer=tokenizer, mlm=True, mlm_probability=0.15)"
   ]
  },
  {
   "cell_type": "code",
   "execution_count": null,
   "id": "9f57f48c",
   "metadata": {
    "execution": {
     "iopub.execute_input": "2025-05-07T02:30:06.248192Z",
     "iopub.status.busy": "2025-05-07T02:30:06.247886Z",
     "iopub.status.idle": "2025-05-07T02:30:06.958886Z",
     "shell.execute_reply": "2025-05-07T02:30:06.958127Z"
    },
    "id": "9f57f48c",
    "papermill": {
     "duration": 0.722096,
     "end_time": "2025-05-07T02:30:06.960899",
     "exception": false,
     "start_time": "2025-05-07T02:30:06.238803",
     "status": "completed"
    },
    "tags": []
   },
   "outputs": [],
   "source": [
    "model_folder = \"BioMedBert\"\n",
    "make_model_tensors_contiguous(model)\n",
    "\n",
    "training_args = TrainingArguments(\n",
    "    output_dir=model_folder,\n",
    "    overwrite_output_dir=True,\n",
    "    logging_dir=\"/kaggle/working/BioMedBert/logs\",\n",
    "    logging_strategy=\"epoch\",\n",
    "    evaluation_strategy=\"epoch\",\n",
    "    num_train_epochs=50,\n",
    "    learning_rate=LEARNING_RATE,\n",
    "    weight_decay=WEIGHT_DECAY,\n",
    "    per_device_train_batch_size=TRAIN_BATCH_SIZE,\n",
    "    per_device_eval_batch_size=VALID_BATCH_SIZE,\n",
    "    report_to=\"none\",\n",
    "    push_to_hub=False,\n",
    ")\n",
    "\n",
    "trainer = Trainer(\n",
    "    model=model,\n",
    "    args=training_args,\n",
    "    data_collator=data_collator,\n",
    "    train_dataset=train_dataset,\n",
    "    eval_dataset=eval_dataset,\n",
    ")\n",
    "\n",
    "trainer.add_callback(CustomCallback(trainer))"
   ]
  },
  {
   "cell_type": "code",
   "execution_count": null,
   "id": "163021a0",
   "metadata": {
    "execution": {
     "iopub.execute_input": "2025-05-07T02:30:06.977062Z",
     "iopub.status.busy": "2025-05-07T02:30:06.976778Z",
     "iopub.status.idle": "2025-05-07T03:13:13.118397Z",
     "shell.execute_reply": "2025-05-07T03:13:13.117276Z"
    },
    "id": "163021a0",
    "outputId": "6b53ad93-61b6-4ad1-a951-93be25346c15",
    "papermill": {
     "duration": 2586.152822,
     "end_time": "2025-05-07T03:13:13.121258",
     "exception": false,
     "start_time": "2025-05-07T02:30:06.968436",
     "status": "completed"
    },
    "tags": []
   },
   "outputs": [
    {
     "name": "stderr",
     "output_type": "stream",
     "text": [
      "We strongly recommend passing in an `attention_mask` since your input_ids may be padded. See https://huggingface.co/docs/transformers/troubleshooting#incorrect-output-when-padding-tokens-arent-masked.\n"
     ]
    },
    {
     "data": {
      "text/html": [
       "\n",
       "    <div>\n",
       "      \n",
       "      <progress value='2250' max='2250' style='width:300px; height:20px; vertical-align: middle;'></progress>\n",
       "      [2250/2250 43:04, Epoch 50/50]\n",
       "    </div>\n",
       "    <table border=\"1\" class=\"dataframe\">\n",
       "  <thead>\n",
       " <tr style=\"text-align: left;\">\n",
       "      <th>Epoch</th>\n",
       "      <th>Training Loss</th>\n",
       "      <th>Validation Loss</th>\n",
       "    </tr>\n",
       "  </thead>\n",
       "  <tbody>\n",
       "    <tr>\n",
       "      <td>1</td>\n",
       "      <td>2.031200</td>\n",
       "      <td>1.660071</td>\n",
       "    </tr>\n",
       "    <tr>\n",
       "      <td>2</td>\n",
       "      <td>1.722300</td>\n",
       "      <td>1.523096</td>\n",
       "    </tr>\n",
       "    <tr>\n",
       "      <td>3</td>\n",
       "      <td>1.600500</td>\n",
       "      <td>1.493353</td>\n",
       "    </tr>\n",
       "    <tr>\n",
       "      <td>4</td>\n",
       "      <td>1.562000</td>\n",
       "      <td>1.543188</td>\n",
       "    </tr>\n",
       "    <tr>\n",
       "      <td>5</td>\n",
       "      <td>1.437400</td>\n",
       "      <td>1.595295</td>\n",
       "    </tr>\n",
       "    <tr>\n",
       "      <td>6</td>\n",
       "      <td>1.406300</td>\n",
       "      <td>1.526935</td>\n",
       "    </tr>\n",
       "    <tr>\n",
       "      <td>7</td>\n",
       "      <td>1.348500</td>\n",
       "      <td>1.493650</td>\n",
       "    </tr>\n",
       "    <tr>\n",
       "      <td>8</td>\n",
       "      <td>1.283800</td>\n",
       "      <td>1.566600</td>\n",
       "    </tr>\n",
       "    <tr>\n",
       "      <td>9</td>\n",
       "      <td>1.279700</td>\n",
       "      <td>1.542701</td>\n",
       "    </tr>\n",
       "    <tr>\n",
       "      <td>10</td>\n",
       "      <td>1.205700</td>\n",
       "      <td>1.420798</td>\n",
       "    </tr>\n",
       "    <tr>\n",
       "      <td>11</td>\n",
       "      <td>1.186800</td>\n",
       "      <td>1.431421</td>\n",
       "    </tr>\n",
       "    <tr>\n",
       "      <td>12</td>\n",
       "      <td>1.151700</td>\n",
       "      <td>1.492051</td>\n",
       "    </tr>\n",
       "    <tr>\n",
       "      <td>13</td>\n",
       "      <td>1.103600</td>\n",
       "      <td>1.529546</td>\n",
       "    </tr>\n",
       "    <tr>\n",
       "      <td>14</td>\n",
       "      <td>1.069700</td>\n",
       "      <td>1.529356</td>\n",
       "    </tr>\n",
       "    <tr>\n",
       "      <td>15</td>\n",
       "      <td>1.006600</td>\n",
       "      <td>1.437578</td>\n",
       "    </tr>\n",
       "    <tr>\n",
       "      <td>16</td>\n",
       "      <td>1.022300</td>\n",
       "      <td>1.523660</td>\n",
       "    </tr>\n",
       "    <tr>\n",
       "      <td>17</td>\n",
       "      <td>0.989500</td>\n",
       "      <td>1.568738</td>\n",
       "    </tr>\n",
       "    <tr>\n",
       "      <td>18</td>\n",
       "      <td>1.008400</td>\n",
       "      <td>1.448771</td>\n",
       "    </tr>\n",
       "    <tr>\n",
       "      <td>19</td>\n",
       "      <td>0.949400</td>\n",
       "      <td>1.510235</td>\n",
       "    </tr>\n",
       "    <tr>\n",
       "      <td>20</td>\n",
       "      <td>0.926200</td>\n",
       "      <td>1.439691</td>\n",
       "    </tr>\n",
       "    <tr>\n",
       "      <td>21</td>\n",
       "      <td>0.908800</td>\n",
       "      <td>1.518095</td>\n",
       "    </tr>\n",
       "    <tr>\n",
       "      <td>22</td>\n",
       "      <td>0.829700</td>\n",
       "      <td>1.468240</td>\n",
       "    </tr>\n",
       "    <tr>\n",
       "      <td>23</td>\n",
       "      <td>0.845500</td>\n",
       "      <td>1.555407</td>\n",
       "    </tr>\n",
       "    <tr>\n",
       "      <td>24</td>\n",
       "      <td>0.796300</td>\n",
       "      <td>1.434248</td>\n",
       "    </tr>\n",
       "    <tr>\n",
       "      <td>25</td>\n",
       "      <td>0.809000</td>\n",
       "      <td>1.464853</td>\n",
       "    </tr>\n",
       "    <tr>\n",
       "      <td>26</td>\n",
       "      <td>0.755600</td>\n",
       "      <td>1.536960</td>\n",
       "    </tr>\n",
       "    <tr>\n",
       "      <td>27</td>\n",
       "      <td>0.760600</td>\n",
       "      <td>1.388991</td>\n",
       "    </tr>\n",
       "    <tr>\n",
       "      <td>28</td>\n",
       "      <td>0.735300</td>\n",
       "      <td>1.512135</td>\n",
       "    </tr>\n",
       "    <tr>\n",
       "      <td>29</td>\n",
       "      <td>0.713600</td>\n",
       "      <td>1.537431</td>\n",
       "    </tr>\n",
       "    <tr>\n",
       "      <td>30</td>\n",
       "      <td>0.713300</td>\n",
       "      <td>1.498996</td>\n",
       "    </tr>\n",
       "    <tr>\n",
       "      <td>31</td>\n",
       "      <td>0.652400</td>\n",
       "      <td>1.486469</td>\n",
       "    </tr>\n",
       "    <tr>\n",
       "      <td>32</td>\n",
       "      <td>0.671800</td>\n",
       "      <td>1.470987</td>\n",
       "    </tr>\n",
       "    <tr>\n",
       "      <td>33</td>\n",
       "      <td>0.624500</td>\n",
       "      <td>1.737562</td>\n",
       "    </tr>\n",
       "    <tr>\n",
       "      <td>34</td>\n",
       "      <td>0.650700</td>\n",
       "      <td>1.643548</td>\n",
       "    </tr>\n",
       "    <tr>\n",
       "      <td>35</td>\n",
       "      <td>0.618600</td>\n",
       "      <td>1.411611</td>\n",
       "    </tr>\n",
       "    <tr>\n",
       "      <td>36</td>\n",
       "      <td>0.622300</td>\n",
       "      <td>1.408623</td>\n",
       "    </tr>\n",
       "    <tr>\n",
       "      <td>37</td>\n",
       "      <td>0.611600</td>\n",
       "      <td>1.629512</td>\n",
       "    </tr>\n",
       "    <tr>\n",
       "      <td>38</td>\n",
       "      <td>0.609500</td>\n",
       "      <td>1.529696</td>\n",
       "    </tr>\n",
       "    <tr>\n",
       "      <td>39</td>\n",
       "      <td>0.549100</td>\n",
       "      <td>1.369714</td>\n",
       "    </tr>\n",
       "    <tr>\n",
       "      <td>40</td>\n",
       "      <td>0.554400</td>\n",
       "      <td>1.578490</td>\n",
       "    </tr>\n",
       "    <tr>\n",
       "      <td>41</td>\n",
       "      <td>0.542100</td>\n",
       "      <td>1.549888</td>\n",
       "    </tr>\n",
       "    <tr>\n",
       "      <td>42</td>\n",
       "      <td>0.564500</td>\n",
       "      <td>1.600309</td>\n",
       "    </tr>\n",
       "    <tr>\n",
       "      <td>43</td>\n",
       "      <td>0.533500</td>\n",
       "      <td>1.578981</td>\n",
       "    </tr>\n",
       "    <tr>\n",
       "      <td>44</td>\n",
       "      <td>0.529500</td>\n",
       "      <td>1.699283</td>\n",
       "    </tr>\n",
       "    <tr>\n",
       "      <td>45</td>\n",
       "      <td>0.535300</td>\n",
       "      <td>1.534175</td>\n",
       "    </tr>\n",
       "    <tr>\n",
       "      <td>46</td>\n",
       "      <td>0.507700</td>\n",
       "      <td>1.575429</td>\n",
       "    </tr>\n",
       "    <tr>\n",
       "      <td>47</td>\n",
       "      <td>0.503000</td>\n",
       "      <td>1.534126</td>\n",
       "    </tr>\n",
       "    <tr>\n",
       "      <td>48</td>\n",
       "      <td>0.492900</td>\n",
       "      <td>1.516434</td>\n",
       "    </tr>\n",
       "    <tr>\n",
       "      <td>49</td>\n",
       "      <td>0.492300</td>\n",
       "      <td>1.641586</td>\n",
       "    </tr>\n",
       "    <tr>\n",
       "      <td>50</td>\n",
       "      <td>0.493900</td>\n",
       "      <td>1.638856</td>\n",
       "    </tr>\n",
       "  </tbody>\n",
       "</table><p>"
      ],
      "text/plain": [
       "<IPython.core.display.HTML object>"
      ]
     },
     "metadata": {},
     "output_type": "display_data"
    },
    {
     "data": {
      "text/plain": [
       "TrainOutput(global_step=2250, training_loss=0.8903774651421441, metrics={'train_runtime': 2585.5759, 'train_samples_per_second': 55.578, 'train_steps_per_second': 0.87, 'total_flos': 8901236171860200.0, 'train_loss': 0.8903774651421441, 'epoch': 50.0})"
      ]
     },
     "execution_count": 12,
     "metadata": {},
     "output_type": "execute_result"
    }
   ],
   "source": [
    "trainer.train()"
   ]
  },
  {
   "cell_type": "code",
   "execution_count": null,
   "id": "3cb56f60",
   "metadata": {
    "execution": {
     "iopub.execute_input": "2025-05-07T03:13:13.138631Z",
     "iopub.status.busy": "2025-05-07T03:13:13.137782Z",
     "iopub.status.idle": "2025-05-07T03:13:13.143411Z",
     "shell.execute_reply": "2025-05-07T03:13:13.142607Z"
    },
    "id": "3cb56f60",
    "papermill": {
     "duration": 0.016076,
     "end_time": "2025-05-07T03:13:13.145129",
     "exception": false,
     "start_time": "2025-05-07T03:13:13.129053",
     "status": "completed"
    },
    "tags": []
   },
   "outputs": [],
   "source": [
    "train_loss_list , train_perplexity_list , val_loss_list , val_perplexity_list = find_metrics_history(trainer)"
   ]
  },
  {
   "cell_type": "code",
   "execution_count": null,
   "id": "2405abc1",
   "metadata": {
    "execution": {
     "iopub.execute_input": "2025-05-07T03:13:13.165572Z",
     "iopub.status.busy": "2025-05-07T03:13:13.165259Z",
     "iopub.status.idle": "2025-05-07T03:13:13.588339Z",
     "shell.execute_reply": "2025-05-07T03:13:13.587412Z"
    },
    "id": "2405abc1",
    "outputId": "4f525765-8fa4-4195-e3ac-95def361e087",
    "papermill": {
     "duration": 0.434818,
     "end_time": "2025-05-07T03:13:13.591256",
     "exception": false,
     "start_time": "2025-05-07T03:13:13.156438",
     "status": "completed"
    },
    "tags": []
   },
   "outputs": [
    {
     "data": {
      "image/png": "[encoded data removed]",
      "text/plain": [
       "<Figure size 640x480 with 1 Axes>"
      ]
     },
     "metadata": {},
     "output_type": "display_data"
    },
    {
     "data": {
      "text/plain": [
       "<Figure size 1000x1000 with 0 Axes>"
      ]
     },
     "metadata": {},
     "output_type": "display_data"
    }
   ],
   "source": [
    "N = len(train_loss_list)\n",
    "\n",
    "plt.style.use(\"ggplot\")\n",
    "plt.figure()\n",
    "plt.plot(np.arange(0, N), train_loss_list, label=\"train_loss\")\n",
    "plt.plot(np.arange(0, N), train_perplexity_list, label=\"train_perplexity\")\n",
    "plt.plot(np.arange(0, N), val_loss_list, label=\"val_loss\")\n",
    "plt.plot(np.arange(0, N), val_perplexity_list, label=\"val_perplexity\")\n",
    "plt.title(\"Training Loss and Perplexity\")\n",
    "plt.xlabel(\"Epoch #\")\n",
    "plt.ylabel(\"Loss/Perplexity\")\n",
    "plt.legend(loc=\"upper right\")\n",
    "plt.figure(figsize = (10,10))\n",
    "plt.show()"
   ]
  },
  {
   "cell_type": "code",
   "execution_count": null,
   "id": "ce0e8297",
   "metadata": {
    "colab": {
     "referenced_widgets": [
      "fe8488dcd73c4976a51fc8c98acdaf7e"
     ]
    },
    "execution": {
     "iopub.execute_input": "2025-05-07T03:13:13.618290Z",
     "iopub.status.busy": "2025-05-07T03:13:13.617987Z",
     "iopub.status.idle": "2025-05-07T03:13:18.069972Z",
     "shell.execute_reply": "2025-05-07T03:13:18.069036Z"
    },
    "id": "ce0e8297",
    "outputId": "39f7b03f-4396-4b40-aaec-4d76441c53cb",
    "papermill": {
     "duration": 4.463602,
     "end_time": "2025-05-07T03:13:18.071630",
     "exception": false,
     "start_time": "2025-05-07T03:13:13.608028",
     "status": "completed"
    },
    "tags": []
   },
   "outputs": [
    {
     "name": "stdout",
     "output_type": "stream",
     "text": [
      "Saving model and tokenizer locally...\n"
     ]
    },
    {
     "name": "stderr",
     "output_type": "stream",
     "text": [
      "If you want to use `BertLMHeadModel` as a standalone, add `is_decoder=True.`\n"
     ]
    },
    {
     "name": "stdout",
     "output_type": "stream",
     "text": [
      "Model and tokenizer saved successfully!\n",
      "Pushing model to bombshelll/BioMedBert-finetuned-050525...\n"
     ]
    },
    {
     "data": {
      "application/vnd.jupyter.widget-view+json": {
       "model_id": "fe8488dcd73c4976a51fc8c98acdaf7e",
       "version_major": 2,
       "version_minor": 0
      },
      "text/plain": [
       "README.md:   0%|          | 0.00/5.17k [00:00<?, ?B/s]"
      ]
     },
     "metadata": {},
     "output_type": "display_data"
    },
    {
     "name": "stderr",
     "output_type": "stream",
     "text": [
      "No files have been modified since last commit. Skipping to prevent empty commit.\n"
     ]
    },
    {
     "name": "stdout",
     "output_type": "stream",
     "text": [
      "Model and tokenizer successfully pushed to bombshelll/BioMedBert-finetuned-050525 on Hugging Face Hub!\n"
     ]
    }
   ],
   "source": [
    "from transformers import AutoTokenizer, AutoModelForCausalLM\n",
    "import os\n",
    "\n",
    "model_path = \"/kaggle/working/BioMedBert/model\"\n",
    "tokenizer_path = \"/kaggle/working/BioMedBert/tokenizer\"\n",
    "hub_model_id = \"bombshelll/BioMedBert-finetuned-050525\"\n",
    "\n",
    "os.makedirs(model_path, exist_ok=True)\n",
    "os.makedirs(tokenizer_path, exist_ok=True)\n",
    "\n",
    "print(\"Saving model and tokenizer locally...\")\n",
    "trainer.save_model(model_path)\n",
    "tokenizer.save_pretrained(tokenizer_path)\n",
    "print(\"Model and tokenizer saved successfully!\")\n",
    "\n",
    "if not os.path.exists(model_path) or not os.path.exists(tokenizer_path):\n",
    "    raise FileNotFoundError(\"Model or tokenizer not found in local path!\")\n",
    "\n",
    "print(f\"Pushing model to {hub_model_id}...\")\n",
    "model = AutoModelForCausalLM.from_pretrained(model_path)\n",
    "tokenizer = AutoTokenizer.from_pretrained(tokenizer_path)\n",
    "model.push_to_hub(hub_model_id)\n",
    "tokenizer.push_to_hub(hub_model_id)\n",
    "print(f\"Model and tokenizer successfully pushed to {hub_model_id} on Hugging Face Hub!\")"
   ]
  },
  {
   "cell_type": "markdown",
   "id": "17b3a221",
   "metadata": {
    "id": "17b3a221",
    "papermill": {
     "duration": 0.00844,
     "end_time": "2025-05-07T03:13:18.089049",
     "exception": false,
     "start_time": "2025-05-07T03:13:18.080609",
     "status": "completed"
    },
    "tags": []
   },
   "source": [
    "## Fine-tuning VisionEncoderDecoder BioMedBert + Encoder ViT"
   ]
  },
  {
   "cell_type": "code",
   "execution_count": null,
   "id": "c2df3365",
   "metadata": {
    "colab": {
     "referenced_widgets": [
      "dec933048c414ff68cfc86b4686ff81b",
      "5053ed9e4c49442aa0011df323d49ae0",
      "af20ed631fdf4a4e9117020c6e7491b6",
      "4d1026d0b1354f74a872e6d1cbb3f6ba",
      "3db87cd9f5504f3db8800ecfaa5cd1e7"
     ]
    },
    "execution": {
     "iopub.execute_input": "2025-05-07T03:13:18.107286Z",
     "iopub.status.busy": "2025-05-07T03:13:18.106951Z",
     "iopub.status.idle": "2025-05-07T03:13:18.772846Z",
     "shell.execute_reply": "2025-05-07T03:13:18.771893Z"
    },
    "id": "c2df3365",
    "outputId": "1487b102-a031-48ae-bf6c-66640fb30ce2",
    "papermill": {
     "duration": 0.677084,
     "end_time": "2025-05-07T03:13:18.774639",
     "exception": false,
     "start_time": "2025-05-07T03:13:18.097555",
     "status": "completed"
    },
    "tags": []
   },
   "outputs": [
    {
     "data": {
      "application/vnd.jupyter.widget-view+json": {
       "model_id": "dec933048c414ff68cfc86b4686ff81b",
       "version_major": 2,
       "version_minor": 0
      },
      "text/plain": [
       "preprocessor_config.json:   0%|          | 0.00/160 [00:00<?, ?B/s]"
      ]
     },
     "metadata": {},
     "output_type": "display_data"
    },
    {
     "data": {
      "application/vnd.jupyter.widget-view+json": {
       "model_id": "5053ed9e4c49442aa0011df323d49ae0",
       "version_major": 2,
       "version_minor": 0
      },
      "text/plain": [
       "tokenizer_config.json:   0%|          | 0.00/1.44k [00:00<?, ?B/s]"
      ]
     },
     "metadata": {},
     "output_type": "display_data"
    },
    {
     "data": {
      "application/vnd.jupyter.widget-view+json": {
       "model_id": "af20ed631fdf4a4e9117020c6e7491b6",
       "version_major": 2,
       "version_minor": 0
      },
      "text/plain": [
       "vocab.txt:   0%|          | 0.00/225k [00:00<?, ?B/s]"
      ]
     },
     "metadata": {},
     "output_type": "display_data"
    },
    {
     "data": {
      "application/vnd.jupyter.widget-view+json": {
       "model_id": "4d1026d0b1354f74a872e6d1cbb3f6ba",
       "version_major": 2,
       "version_minor": 0
      },
      "text/plain": [
       "tokenizer.json:   0%|          | 0.00/679k [00:00<?, ?B/s]"
      ]
     },
     "metadata": {},
     "output_type": "display_data"
    },
    {
     "data": {
      "application/vnd.jupyter.widget-view+json": {
       "model_id": "3db87cd9f5504f3db8800ecfaa5cd1e7",
       "version_major": 2,
       "version_minor": 0
      },
      "text/plain": [
       "special_tokens_map.json:   0%|          | 0.00/695 [00:00<?, ?B/s]"
      ]
     },
     "metadata": {},
     "output_type": "display_data"
    }
   ],
   "source": [
    "feature_extractor = ViTFeatureExtractor.from_pretrained(\"google/vit-base-patch16-224-in21k\")\n",
    "tokenizer = AutoTokenizer.from_pretrained(\"bombshelll/BioMedBert-finetuned-050525\")"
   ]
  },
  {
   "cell_type": "code",
   "execution_count": null,
   "id": "99aa0669",
   "metadata": {
    "execution": {
     "iopub.execute_input": "2025-05-07T03:13:18.796212Z",
     "iopub.status.busy": "2025-05-07T03:13:18.795872Z",
     "iopub.status.idle": "2025-05-07T03:13:18.805366Z",
     "shell.execute_reply": "2025-05-07T03:13:18.804737Z"
    },
    "id": "99aa0669",
    "papermill": {
     "duration": 0.02206,
     "end_time": "2025-05-07T03:13:18.806918",
     "exception": false,
     "start_time": "2025-05-07T03:13:18.784858",
     "status": "completed"
    },
    "tags": []
   },
   "outputs": [],
   "source": [
    "train_dataset = ROCO_Dataset(df=train_df.reset_index().drop('index',axis =1),\n",
    "                           tokenizer=tokenizer,feature_extractor= feature_extractor)\n",
    "eval_dataset = ROCO_Dataset(df=validation_df.reset_index().drop('index',axis =1),\n",
    "                           tokenizer=tokenizer,feature_extractor= feature_extractor)"
   ]
  },
  {
   "cell_type": "code",
   "execution_count": null,
   "id": "41dce9d6",
   "metadata": {
    "colab": {
     "referenced_widgets": [
      "2a298dac1d9948348c68d0873ada7b2d",
      "6183198008fd4520a87393cbcc379b41",
      "bba9bedeebdb4897bf9523fa2222ff29",
      "9dab10cd3dc4419799339d25783ae74f",
      "c7010686c0254d7e9c5aa72dc15a9e2b"
     ]
    },
    "execution": {
     "iopub.execute_input": "2025-05-07T03:13:18.826564Z",
     "iopub.status.busy": "2025-05-07T03:13:18.825861Z",
     "iopub.status.idle": "2025-05-07T03:13:26.522993Z",
     "shell.execute_reply": "2025-05-07T03:13:26.522275Z"
    },
    "id": "41dce9d6",
    "outputId": "cf290ad2-1ce6-4c7f-a2d2-74a94014b7dc",
    "papermill": {
     "duration": 7.708654,
     "end_time": "2025-05-07T03:13:26.524644",
     "exception": false,
     "start_time": "2025-05-07T03:13:18.815990",
     "status": "completed"
    },
    "tags": []
   },
   "outputs": [
    {
     "data": {
      "application/vnd.jupyter.widget-view+json": {
       "model_id": "2a298dac1d9948348c68d0873ada7b2d",
       "version_major": 2,
       "version_minor": 0
      },
      "text/plain": [
       "config.json:   0%|          | 0.00/502 [00:00<?, ?B/s]"
      ]
     },
     "metadata": {},
     "output_type": "display_data"
    },
    {
     "data": {
      "application/vnd.jupyter.widget-view+json": {
       "model_id": "6183198008fd4520a87393cbcc379b41",
       "version_major": 2,
       "version_minor": 0
      },
      "text/plain": [
       "model.safetensors:   0%|          | 0.00/346M [00:00<?, ?B/s]"
      ]
     },
     "metadata": {},
     "output_type": "display_data"
    },
    {
     "data": {
      "application/vnd.jupyter.widget-view+json": {
       "model_id": "bba9bedeebdb4897bf9523fa2222ff29",
       "version_major": 2,
       "version_minor": 0
      },
      "text/plain": [
       "config.json:   0%|          | 0.00/644 [00:00<?, ?B/s]"
      ]
     },
     "metadata": {},
     "output_type": "display_data"
    },
    {
     "data": {
      "application/vnd.jupyter.widget-view+json": {
       "model_id": "9dab10cd3dc4419799339d25783ae74f",
       "version_major": 2,
       "version_minor": 0
      },
      "text/plain": [
       "model.safetensors:   0%|          | 0.00/438M [00:00<?, ?B/s]"
      ]
     },
     "metadata": {},
     "output_type": "display_data"
    },
    {
     "name": "stderr",
     "output_type": "stream",
     "text": [
      "Some weights of BertLMHeadModel were not initialized from the model checkpoint at bombshelll/BioMedBert-finetuned-050525 and are newly initialized: ['bert.encoder.layer.0.crossattention.output.LayerNorm.bias', 'bert.encoder.layer.0.crossattention.output.LayerNorm.weight', 'bert.encoder.layer.0.crossattention.output.dense.bias', 'bert.encoder.layer.0.crossattention.output.dense.weight', 'bert.encoder.layer.0.crossattention.self.key.bias', 'bert.encoder.layer.0.crossattention.self.key.weight', 'bert.encoder.layer.0.crossattention.self.query.bias', 'bert.encoder.layer.0.crossattention.self.query.weight', 'bert.encoder.layer.0.crossattention.self.value.bias', 'bert.encoder.layer.0.crossattention.self.value.weight', 'bert.encoder.layer.1.crossattention.output.LayerNorm.bias', 'bert.encoder.layer.1.crossattention.output.LayerNorm.weight', 'bert.encoder.layer.1.crossattention.output.dense.bias', 'bert.encoder.layer.1.crossattention.output.dense.weight', 'bert.encoder.layer.1.crossattention.self.key.bias', 'bert.encoder.layer.1.crossattention.self.key.weight', 'bert.encoder.layer.1.crossattention.self.query.bias', 'bert.encoder.layer.1.crossattention.self.query.weight', 'bert.encoder.layer.1.crossattention.self.value.bias', 'bert.encoder.layer.1.crossattention.self.value.weight', 'bert.encoder.layer.10.crossattention.output.LayerNorm.bias', 'bert.encoder.layer.10.crossattention.output.LayerNorm.weight', 'bert.encoder.layer.10.crossattention.output.dense.bias', 'bert.encoder.layer.10.crossattention.output.dense.weight', 'bert.encoder.layer.10.crossattention.self.key.bias', 'bert.encoder.layer.10.crossattention.self.key.weight', 'bert.encoder.layer.10.crossattention.self.query.bias', 'bert.encoder.layer.10.crossattention.self.query.weight', 'bert.encoder.layer.10.crossattention.self.value.bias', 'bert.encoder.layer.10.crossattention.self.value.weight', 'bert.encoder.layer.11.crossattention.output.LayerNorm.bias', 'bert.encoder.layer.11.crossattention.output.LayerNorm.weight', 'bert.encoder.layer.11.crossattention.output.dense.bias', 'bert.encoder.layer.11.crossattention.output.dense.weight', 'bert.encoder.layer.11.crossattention.self.key.bias', 'bert.encoder.layer.11.crossattention.self.key.weight', 'bert.encoder.layer.11.crossattention.self.query.bias', 'bert.encoder.layer.11.crossattention.self.query.weight', 'bert.encoder.layer.11.crossattention.self.value.bias', 'bert.encoder.layer.11.crossattention.self.value.weight', 'bert.encoder.layer.2.crossattention.output.LayerNorm.bias', 'bert.encoder.layer.2.crossattention.output.LayerNorm.weight', 'bert.encoder.layer.2.crossattention.output.dense.bias', 'bert.encoder.layer.2.crossattention.output.dense.weight', 'bert.encoder.layer.2.crossattention.self.key.bias', 'bert.encoder.layer.2.crossattention.self.key.weight', 'bert.encoder.layer.2.crossattention.self.query.bias', 'bert.encoder.layer.2.crossattention.self.query.weight', 'bert.encoder.layer.2.crossattention.self.value.bias', 'bert.encoder.layer.2.crossattention.self.value.weight', 'bert.encoder.layer.3.crossattention.output.LayerNorm.bias', 'bert.encoder.layer.3.crossattention.output.LayerNorm.weight', 'bert.encoder.layer.3.crossattention.output.dense.bias', 'bert.encoder.layer.3.crossattention.output.dense.weight', 'bert.encoder.layer.3.crossattention.self.key.bias', 'bert.encoder.layer.3.crossattention.self.key.weight', 'bert.encoder.layer.3.crossattention.self.query.bias', 'bert.encoder.layer.3.crossattention.self.query.weight', 'bert.encoder.layer.3.crossattention.self.value.bias', 'bert.encoder.layer.3.crossattention.self.value.weight', 'bert.encoder.layer.4.crossattention.output.LayerNorm.bias', 'bert.encoder.layer.4.crossattention.output.LayerNorm.weight', 'bert.encoder.layer.4.crossattention.output.dense.bias', 'bert.encoder.layer.4.crossattention.output.dense.weight', 'bert.encoder.layer.4.crossattention.self.key.bias', 'bert.encoder.layer.4.crossattention.self.key.weight', 'bert.encoder.layer.4.crossattention.self.query.bias', 'bert.encoder.layer.4.crossattention.self.query.weight', 'bert.encoder.layer.4.crossattention.self.value.bias', 'bert.encoder.layer.4.crossattention.self.value.weight', 'bert.encoder.layer.5.crossattention.output.LayerNorm.bias', 'bert.encoder.layer.5.crossattention.output.LayerNorm.weight', 'bert.encoder.layer.5.crossattention.output.dense.bias', 'bert.encoder.layer.5.crossattention.output.dense.weight', 'bert.encoder.layer.5.crossattention.self.key.bias', 'bert.encoder.layer.5.crossattention.self.key.weight', 'bert.encoder.layer.5.crossattention.self.query.bias', 'bert.encoder.layer.5.crossattention.self.query.weight', 'bert.encoder.layer.5.crossattention.self.value.bias', 'bert.encoder.layer.5.crossattention.self.value.weight', 'bert.encoder.layer.6.crossattention.output.LayerNorm.bias', 'bert.encoder.layer.6.crossattention.output.LayerNorm.weight', 'bert.encoder.layer.6.crossattention.output.dense.bias', 'bert.encoder.layer.6.crossattention.output.dense.weight', 'bert.encoder.layer.6.crossattention.self.key.bias', 'bert.encoder.layer.6.crossattention.self.key.weight', 'bert.encoder.layer.6.crossattention.self.query.bias', 'bert.encoder.layer.6.crossattention.self.query.weight', 'bert.encoder.layer.6.crossattention.self.value.bias', 'bert.encoder.layer.6.crossattention.self.value.weight', 'bert.encoder.layer.7.crossattention.output.LayerNorm.bias', 'bert.encoder.layer.7.crossattention.output.LayerNorm.weight', 'bert.encoder.layer.7.crossattention.output.dense.bias', 'bert.encoder.layer.7.crossattention.output.dense.weight', 'bert.encoder.layer.7.crossattention.self.key.bias', 'bert.encoder.layer.7.crossattention.self.key.weight', 'bert.encoder.layer.7.crossattention.self.query.bias', 'bert.encoder.layer.7.crossattention.self.query.weight', 'bert.encoder.layer.7.crossattention.self.value.bias', 'bert.encoder.layer.7.crossattention.self.value.weight', 'bert.encoder.layer.8.crossattention.output.LayerNorm.bias', 'bert.encoder.layer.8.crossattention.output.LayerNorm.weight', 'bert.encoder.layer.8.crossattention.output.dense.bias', 'bert.encoder.layer.8.crossattention.output.dense.weight', 'bert.encoder.layer.8.crossattention.self.key.bias', 'bert.encoder.layer.8.crossattention.self.key.weight', 'bert.encoder.layer.8.crossattention.self.query.bias', 'bert.encoder.layer.8.crossattention.self.query.weight', 'bert.encoder.layer.8.crossattention.self.value.bias', 'bert.encoder.layer.8.crossattention.self.value.weight', 'bert.encoder.layer.9.crossattention.output.LayerNorm.bias', 'bert.encoder.layer.9.crossattention.output.LayerNorm.weight', 'bert.encoder.layer.9.crossattention.output.dense.bias', 'bert.encoder.layer.9.crossattention.output.dense.weight', 'bert.encoder.layer.9.crossattention.self.key.bias', 'bert.encoder.layer.9.crossattention.self.key.weight', 'bert.encoder.layer.9.crossattention.self.query.bias', 'bert.encoder.layer.9.crossattention.self.query.weight', 'bert.encoder.layer.9.crossattention.self.value.bias', 'bert.encoder.layer.9.crossattention.self.value.weight']\n",
      "You should probably TRAIN this model on a down-stream task to be able to use it for predictions and inference.\n"
     ]
    },
    {
     "data": {
      "application/vnd.jupyter.widget-view+json": {
       "model_id": "c7010686c0254d7e9c5aa72dc15a9e2b",
       "version_major": 2,
       "version_minor": 0
      },
      "text/plain": [
       "generation_config.json:   0%|          | 0.00/90.0 [00:00<?, ?B/s]"
      ]
     },
     "metadata": {},
     "output_type": "display_data"
    }
   ],
   "source": [
    "import warnings\n",
    "\n",
    "warnings.filterwarnings(\"ignore\")\n",
    "\n",
    "from transformers import VisionEncoderDecoderModel\n",
    "\n",
    "model = VisionEncoderDecoderModel.from_encoder_decoder_pretrained(\n",
    "    \"google/vit-base-patch16-224-in21k\",\n",
    "    \"bombshelll/BioMedBert-finetuned-050525\",\n",
    "    tie_encoder_decoder=True\n",
    ")"
   ]
  },
  {
   "cell_type": "code",
   "execution_count": null,
   "id": "c1efcd26",
   "metadata": {
    "execution": {
     "iopub.execute_input": "2025-05-07T03:13:26.585056Z",
     "iopub.status.busy": "2025-05-07T03:13:26.584269Z",
     "iopub.status.idle": "2025-05-07T03:13:26.589220Z",
     "shell.execute_reply": "2025-05-07T03:13:26.588445Z"
    },
    "id": "c1efcd26",
    "papermill": {
     "duration": 0.055631,
     "end_time": "2025-05-07T03:13:26.590813",
     "exception": false,
     "start_time": "2025-05-07T03:13:26.535182",
     "status": "completed"
    },
    "tags": []
   },
   "outputs": [],
   "source": [
    "model.config.decoder_start_token_id = tokenizer.cls_token_id\n",
    "model.config.pad_token_id = tokenizer.pad_token_id\n",
    "model.config.vocab_size = model.config.decoder.vocab_size\n",
    "\n",
    "model.config.eos_token_id = tokenizer.sep_token_id\n",
    "model.config.max_length = 80\n",
    "model.config.early_stopping = True\n",
    "model.config.no_repeat_ngram_size = 3\n",
    "model.config.length_penalty = 2.0\n",
    "model.config.num_beams = 4"
   ]
  },
  {
   "cell_type": "code",
   "execution_count": null,
   "id": "d8a4a983",
   "metadata": {
    "execution": {
     "iopub.execute_input": "2025-05-07T03:13:26.611598Z",
     "iopub.status.busy": "2025-05-07T03:13:26.611162Z",
     "iopub.status.idle": "2025-05-07T03:13:26.949596Z",
     "shell.execute_reply": "2025-05-07T03:13:26.948902Z"
    },
    "id": "d8a4a983",
    "papermill": {
     "duration": 0.350744,
     "end_time": "2025-05-07T03:13:26.951571",
     "exception": false,
     "start_time": "2025-05-07T03:13:26.600827",
     "status": "completed"
    },
    "tags": []
   },
   "outputs": [],
   "source": [
    "captioning_model = 'ViT_BioMedBert_ImageCaptioning'\n",
    "\n",
    "training_args = Seq2SeqTrainingArguments(\n",
    "    output_dir=captioning_model,\n",
    "    logging_dir=\"/kaggle/working/ViT_BioMedBert_ImageCaptioning/logs\",\n",
    "    per_device_train_batch_size=8,\n",
    "    per_device_eval_batch_size=8,\n",
    "    predict_with_generate=True,\n",
    "    evaluation_strategy=\"epoch\",\n",
    "    logging_strategy=\"steps\",\n",
    "    do_train=True,\n",
    "    do_eval=True,\n",
    "    logging_steps=50,\n",
    "    save_steps=7000,\n",
    "    num_train_epochs=20,\n",
    "    overwrite_output_dir=True,\n",
    "    save_total_limit=2,\n",
    "    report_to=\"none\"\n",
    ")\n",
    "\n",
    "trainer = Seq2SeqTrainer(\n",
    "    tokenizer=feature_extractor,\n",
    "    model=model,\n",
    "    args=training_args,\n",
    "    train_dataset=train_dataset,\n",
    "    eval_dataset=eval_dataset,\n",
    "    data_collator=default_data_collator,\n",
    ")"
   ]
  },
  {
   "cell_type": "code",
   "execution_count": null,
   "id": "5e62a0e3",
   "metadata": {
    "execution": {
     "iopub.execute_input": "2025-05-07T03:13:26.972477Z",
     "iopub.status.busy": "2025-05-07T03:13:26.971793Z",
     "iopub.status.idle": "2025-05-07T03:53:52.863112Z",
     "shell.execute_reply": "2025-05-07T03:53:52.862220Z"
    },
    "id": "5e62a0e3",
    "outputId": "d9cd4fc3-30d6-4332-e6c4-9d58cca92913",
    "papermill": {
     "duration": 2425.903339,
     "end_time": "2025-05-07T03:53:52.864842",
     "exception": false,
     "start_time": "2025-05-07T03:13:26.961503",
     "status": "completed"
    },
    "tags": []
   },
   "outputs": [
    {
     "data": {
      "text/html": [
       "\n",
       "    <div>\n",
       "      \n",
       "      <progress value='7200' max='7200' style='width:300px; height:20px; vertical-align: middle;'></progress>\n",
       "      [7200/7200 40:24, Epoch 20/20]\n",
       "    </div>\n",
       "    <table border=\"1\" class=\"dataframe\">\n",
       "  <thead>\n",
       " <tr style=\"text-align: left;\">\n",
       "      <th>Epoch</th>\n",
       "      <th>Training Loss</th>\n",
       "      <th>Validation Loss</th>\n",
       "    </tr>\n",
       "  </thead>\n",
       "  <tbody>\n",
       "    <tr>\n",
       "      <td>1</td>\n",
       "      <td>5.846500</td>\n",
       "      <td>7.643311</td>\n",
       "    </tr>\n",
       "    <tr>\n",
       "      <td>2</td>\n",
       "      <td>5.579300</td>\n",
       "      <td>9.673631</td>\n",
       "    </tr>\n",
       "    <tr>\n",
       "      <td>3</td>\n",
       "      <td>5.429300</td>\n",
       "      <td>11.878236</td>\n",
       "    </tr>\n",
       "    <tr>\n",
       "      <td>4</td>\n",
       "      <td>5.315500</td>\n",
       "      <td>12.398155</td>\n",
       "    </tr>\n",
       "    <tr>\n",
       "      <td>5</td>\n",
       "      <td>5.137800</td>\n",
       "      <td>14.610497</td>\n",
       "    </tr>\n",
       "    <tr>\n",
       "      <td>6</td>\n",
       "      <td>4.883900</td>\n",
       "      <td>14.840762</td>\n",
       "    </tr>\n",
       "    <tr>\n",
       "      <td>7</td>\n",
       "      <td>4.668000</td>\n",
       "      <td>13.845737</td>\n",
       "    </tr>\n",
       "    <tr>\n",
       "      <td>8</td>\n",
       "      <td>4.455600</td>\n",
       "      <td>15.598330</td>\n",
       "    </tr>\n",
       "    <tr>\n",
       "      <td>9</td>\n",
       "      <td>4.239200</td>\n",
       "      <td>14.777549</td>\n",
       "    </tr>\n",
       "    <tr>\n",
       "      <td>10</td>\n",
       "      <td>4.024600</td>\n",
       "      <td>16.934608</td>\n",
       "    </tr>\n",
       "    <tr>\n",
       "      <td>11</td>\n",
       "      <td>3.908000</td>\n",
       "      <td>18.092285</td>\n",
       "    </tr>\n",
       "    <tr>\n",
       "      <td>12</td>\n",
       "      <td>3.660100</td>\n",
       "      <td>17.541458</td>\n",
       "    </tr>\n",
       "    <tr>\n",
       "      <td>13</td>\n",
       "      <td>3.524500</td>\n",
       "      <td>16.648542</td>\n",
       "    </tr>\n",
       "    <tr>\n",
       "      <td>14</td>\n",
       "      <td>3.425300</td>\n",
       "      <td>18.422028</td>\n",
       "    </tr>\n",
       "    <tr>\n",
       "      <td>15</td>\n",
       "      <td>3.303200</td>\n",
       "      <td>19.137480</td>\n",
       "    </tr>\n",
       "    <tr>\n",
       "      <td>16</td>\n",
       "      <td>3.196700</td>\n",
       "      <td>18.765528</td>\n",
       "    </tr>\n",
       "    <tr>\n",
       "      <td>17</td>\n",
       "      <td>3.076200</td>\n",
       "      <td>19.753275</td>\n",
       "    </tr>\n",
       "    <tr>\n",
       "      <td>18</td>\n",
       "      <td>3.066200</td>\n",
       "      <td>20.520773</td>\n",
       "    </tr>\n",
       "    <tr>\n",
       "      <td>19</td>\n",
       "      <td>3.000400</td>\n",
       "      <td>21.401276</td>\n",
       "    </tr>\n",
       "    <tr>\n",
       "      <td>20</td>\n",
       "      <td>2.983600</td>\n",
       "      <td>21.352465</td>\n",
       "    </tr>\n",
       "  </tbody>\n",
       "</table><p>"
      ],
      "text/plain": [
       "<IPython.core.display.HTML object>"
      ]
     },
     "metadata": {},
     "output_type": "display_data"
    },
    {
     "name": "stderr",
     "output_type": "stream",
     "text": [
      "Some non-default generation parameters are set in the model config. These should go into a GenerationConfig file (https://huggingface.co/docs/transformers/generation_strategies#save-a-custom-decoding-strategy-with-your-model) instead. This warning will be raised to an exception in v4.41.\n",
      "Non-default generation parameters: {'max_length': 80, 'early_stopping': True, 'num_beams': 4, 'length_penalty': 2.0, 'no_repeat_ngram_size': 3}\n",
      "Your generation config was originally created from the model config, but the model config has changed since then. Unless you pass the `generation_config` argument to this model's `generate` calls, they will revert to the legacy behavior where the base `generate` parameterization is loaded from the model config instead. To avoid this behavior and this warning, we recommend you to overwrite the generation config model attribute before calling the model's `save_pretrained`, preferably also removing any generation kwargs from the model config. This warning will be raised to an exception in v4.41.\n",
      "Some non-default generation parameters are set in the model config. These should go into a GenerationConfig file (https://huggingface.co/docs/transformers/generation_strategies#save-a-custom-decoding-strategy-with-your-model) instead. This warning will be raised to an exception in v4.41.\n",
      "Non-default generation parameters: {'max_length': 80, 'early_stopping': True, 'num_beams': 4, 'length_penalty': 2.0, 'no_repeat_ngram_size': 3}\n",
      "Your generation config was originally created from the model config, but the model config has changed since then. Unless you pass the `generation_config` argument to this model's `generate` calls, they will revert to the legacy behavior where the base `generate` parameterization is loaded from the model config instead. To avoid this behavior and this warning, we recommend you to overwrite the generation config model attribute before calling the model's `save_pretrained`, preferably also removing any generation kwargs from the model config. This warning will be raised to an exception in v4.41.\n"
     ]
    },
    {
     "data": {
      "text/plain": [
       "TrainOutput(global_step=7200, training_loss=4.148802157508002, metrics={'train_runtime': 2425.3174, 'train_samples_per_second': 23.7, 'train_steps_per_second': 2.969, 'total_flos': 1.0405388773857853e+19, 'train_loss': 4.148802157508002, 'epoch': 20.0})"
      ]
     },
     "execution_count": 21,
     "metadata": {},
     "output_type": "execute_result"
    }
   ],
   "source": [
    "trainer.train()"
   ]
  },
  {
   "cell_type": "code",
   "execution_count": null,
   "id": "5243b12e",
   "metadata": {
    "execution": {
     "iopub.execute_input": "2025-05-07T03:53:52.887663Z",
     "iopub.status.busy": "2025-05-07T03:53:52.886880Z",
     "iopub.status.idle": "2025-05-07T03:53:53.223188Z",
     "shell.execute_reply": "2025-05-07T03:53:53.222229Z"
    },
    "id": "5243b12e",
    "outputId": "d581f8c6-4de5-4315-d456-77488aaed06f",
    "papermill": {
     "duration": 0.349488,
     "end_time": "2025-05-07T03:53:53.225057",
     "exception": false,
     "start_time": "2025-05-07T03:53:52.875569",
     "status": "completed"
    },
    "tags": []
   },
   "outputs": [
    {
     "data": {
      "image/png": "[encoded data removed]",
      "text/plain": [
       "<Figure size 640x480 with 1 Axes>"
      ]
     },
     "metadata": {},
     "output_type": "display_data"
    },
    {
     "data": {
      "text/plain": [
       "<Figure size 1000x1000 with 0 Axes>"
      ]
     },
     "metadata": {},
     "output_type": "display_data"
    }
   ],
   "source": [
    "train_loss_list = []\n",
    "val_loss_list = []\n",
    "\n",
    "for log in trainer.state.log_history:\n",
    "    if 'loss' in log and 'eval_loss' not in log:\n",
    "        train_loss_list.append(log['loss'])\n",
    "    if 'eval_loss' in log:\n",
    "        val_loss_list.append(log['eval_loss'])\n",
    "\n",
    "N = len(val_loss_list)\n",
    "\n",
    "plt.style.use(\"ggplot\")\n",
    "plt.figure()\n",
    "plt.plot(np.arange(0, N), train_loss_list[:N], label=\"train_loss\")\n",
    "plt.plot(np.arange(0, N), val_loss_list, label=\"val_loss\")\n",
    "plt.title(\"Training & Validation Loss - ViT + BioMedBERT\")\n",
    "plt.xlabel(\"Epoch #\")\n",
    "plt.ylabel(\"Loss\")\n",
    "plt.legend(loc=\"upper right\")\n",
    "plt.figure(figsize=(10,10))\n",
    "plt.show()\n"
   ]
  },
  {
   "cell_type": "code",
   "execution_count": null,
   "id": "999313a0",
   "metadata": {
    "execution": {
     "iopub.execute_input": "2025-05-07T03:53:53.248522Z",
     "iopub.status.busy": "2025-05-07T03:53:53.248228Z",
     "iopub.status.idle": "2025-05-07T03:53:55.264333Z",
     "shell.execute_reply": "2025-05-07T03:53:55.263253Z"
    },
    "id": "999313a0",
    "outputId": "20894b34-c63d-4e34-eb88-bdb0593a959b",
    "papermill": {
     "duration": 2.029843,
     "end_time": "2025-05-07T03:53:55.266139",
     "exception": false,
     "start_time": "2025-05-07T03:53:53.236296",
     "status": "completed"
    },
    "tags": []
   },
   "outputs": [
    {
     "name": "stderr",
     "output_type": "stream",
     "text": [
      "Some non-default generation parameters are set in the model config. These should go into a GenerationConfig file (https://huggingface.co/docs/transformers/generation_strategies#save-a-custom-decoding-strategy-with-your-model) instead. This warning will be raised to an exception in v4.41.\n",
      "Non-default generation parameters: {'max_length': 80, 'early_stopping': True, 'num_beams': 4, 'length_penalty': 2.0, 'no_repeat_ngram_size': 3}\n",
      "Your generation config was originally created from the model config, but the model config has changed since then. Unless you pass the `generation_config` argument to this model's `generate` calls, they will revert to the legacy behavior where the base `generate` parameterization is loaded from the model config instead. To avoid this behavior and this warning, we recommend you to overwrite the generation config model attribute before calling the model's `save_pretrained`, preferably also removing any generation kwargs from the model config. This warning will be raised to an exception in v4.41.\n"
     ]
    },
    {
     "data": {
      "text/plain": [
       "('/kaggle/working/ViT_BioMedBert_ImageCaptioning/tokenizer/tokenizer_config.json',\n",
       " '/kaggle/working/ViT_BioMedBert_ImageCaptioning/tokenizer/special_tokens_map.json',\n",
       " '/kaggle/working/ViT_BioMedBert_ImageCaptioning/tokenizer/vocab.txt',\n",
       " '/kaggle/working/ViT_BioMedBert_ImageCaptioning/tokenizer/added_tokens.json',\n",
       " '/kaggle/working/ViT_BioMedBert_ImageCaptioning/tokenizer/tokenizer.json')"
      ]
     },
     "execution_count": 23,
     "metadata": {},
     "output_type": "execute_result"
    }
   ],
   "source": [
    "trainer.save_model('/kaggle/working/ViT_BioMedBert_ImageCaptioning/model')\n",
    "tokenizer.save_pretrained('/kaggle/working/ViT_BioMedBert_ImageCaptioning/tokenizer')"
   ]
  },
  {
   "cell_type": "markdown",
   "id": "a01f541d",
   "metadata": {
    "id": "a01f541d",
    "papermill": {
     "duration": 0.060267,
     "end_time": "2025-05-07T03:53:55.385322",
     "exception": false,
     "start_time": "2025-05-07T03:53:55.325055",
     "status": "completed"
    },
    "tags": []
   },
   "source": [
    "## Inference"
   ]
  },
  {
   "cell_type": "code",
   "execution_count": null,
   "id": "c1ffe34b",
   "metadata": {
    "execution": {
     "iopub.execute_input": "2025-05-07T03:53:55.509216Z",
     "iopub.status.busy": "2025-05-07T03:53:55.508304Z",
     "iopub.status.idle": "2025-05-07T03:54:02.765650Z",
     "shell.execute_reply": "2025-05-07T03:54:02.764386Z"
    },
    "id": "c1ffe34b",
    "outputId": "499b9031-7c70-4752-9b61-9c47a577cc06",
    "papermill": {
     "duration": 7.322374,
     "end_time": "2025-05-07T03:54:02.769275",
     "exception": false,
     "start_time": "2025-05-07T03:53:55.446901",
     "status": "completed"
    },
    "tags": []
   },
   "outputs": [
    {
     "name": "stderr",
     "output_type": "stream",
     "text": [
      "The following encoder weights were not tied to the decoder ['vision_encoder_decoder/pooler', 'vision_encoder_decoder/embeddings', 'vision_encoder_decoder/layernorm', 'vision_encoder_decoder/encoder']\n",
      "The following encoder weights were not tied to the decoder ['vision_encoder_decoder/pooler', 'vision_encoder_decoder/embeddings', 'vision_encoder_decoder/layernorm', 'vision_encoder_decoder/encoder']\n",
      "The following encoder weights were not tied to the decoder ['vision_encoder_decoder/pooler', 'vision_encoder_decoder/embeddings', 'vision_encoder_decoder/layernorm', 'vision_encoder_decoder/encoder']\n"
     ]
    },
    {
     "data": {
      "image/png": "[encoded data removed]",
      "text/plain": [
       "<Figure size 640x480 with 1 Axes>"
      ]
     },
     "metadata": {},
     "output_type": "display_data"
    },
    {
     "name": "stdout",
     "output_type": "stream",
     "text": [
      "Generated Caption: axial abnormal brain mri normal the a an t2 initial magnetic diffusion coronal half small example no 75 fluid transverse blood iv first cns there t1\n",
      "Ground Truth Caption:  Brain magnetic resonance imaging (MRI) after gadolinium injection showed an image in the axial (FLAIR sequence) showing hyper-intensity lesions in the white matter of the frontal lobes. There is no signal abnormality of the cortex. Note that there is no mass effect on the ventricular cavities or midline structures.\n",
      "\n"
     ]
    }
   ],
   "source": [
    "from transformers import VisionEncoderDecoderModel, AutoTokenizer, ViTFeatureExtractor\n",
    "from PIL import Image\n",
    "import requests\n",
    "import torch\n",
    "\n",
    "model = VisionEncoderDecoderModel.from_pretrained('/kaggle/working/ViT_BioMedBert_ImageCaptioning/model')\n",
    "tokenizer = AutoTokenizer.from_pretrained('/kaggle/working/ViT_BioMedBert_ImageCaptioning/tokenizer')\n",
    "feature_extractor = ViTFeatureExtractor.from_pretrained(\"google/vit-base-patch16-224-in21k\")\n",
    "\n",
    "device = torch.device(\"cuda\" if torch.cuda.is_available() else \"cpu\")\n",
    "model.to(device)\n",
    "\n",
    "def predict_caption(image_path):\n",
    "    image = Image.open(image_path).convert(\"RGB\")\n",
    "    image = image.resize((IMAGE_TARGET_SIZE, IMAGE_TARGET_SIZE))\n",
    "\n",
    "    pixel_values = feature_extractor(images=image, return_tensors=\"pt\").pixel_values.to(device)\n",
    "\n",
    "    output_ids = model.generate(pixel_values,\n",
    "                                max_length=80,\n",
    "                                num_beams=4,\n",
    "                                early_stopping=True)\n",
    "\n",
    "    caption = tokenizer.decode(output_ids[0], skip_special_tokens=True)\n",
    "    return caption\n",
    "\n",
    "sample_image_path = test_df.iloc[0]['images']\n",
    "predicted_caption = predict_caption(sample_image_path)\n",
    "\n",
    "img = Image.open(sample_image_path)\n",
    "plt.imshow(img)\n",
    "plt.axis('off')\n",
    "plt.title(\"Generated Caption\")\n",
    "plt.show()\n",
    "\n",
    "print(\"Generated Caption:\", predicted_caption)\n",
    "print(\"Ground Truth Caption:\", test_df.iloc[0]['captions'])"
   ]
  },
  {
   "cell_type": "markdown",
   "id": "a9aab9aa",
   "metadata": {
    "id": "a9aab9aa",
    "papermill": {
     "duration": 0.013471,
     "end_time": "2025-05-07T03:54:02.796585",
     "exception": false,
     "start_time": "2025-05-07T03:54:02.783114",
     "status": "completed"
    },
    "tags": []
   },
   "source": [
    "## Inference & Load Fine-tuned Model from HuggingFace"
   ]
  },
  {
   "cell_type": "code",
   "execution_count": null,
   "id": "d8894020",
   "metadata": {
    "colab": {
     "referenced_widgets": [
      "fcccbaa771cb49ac9a7ee13250affc56",
      "d6916d4954a24b02a852bd5b621162af",
      "d8952c6066254ae3b3b396e0cf8d786e",
      "82e92d808b5e490aae27d17397c9ca45",
      "3c20ab3abd4843be848035850e7affad",
      "6eb7d762842845f6a78412d3f7d17b87",
      "89f0d7b932d34ed39559e6f3b0e4b8cc",
      "91a6c7a9f22d4edeb986c0ea8ce87ebf"
     ]
    },
    "execution": {
     "iopub.execute_input": "2025-05-07T03:54:02.827755Z",
     "iopub.status.busy": "2025-05-07T03:54:02.827401Z",
     "iopub.status.idle": "2025-05-07T03:54:12.457232Z",
     "shell.execute_reply": "2025-05-07T03:54:12.456349Z"
    },
    "id": "d8894020",
    "outputId": "a4bd1044-638e-442f-9f27-58d423330449",
    "papermill": {
     "duration": 9.646926,
     "end_time": "2025-05-07T03:54:12.459116",
     "exception": false,
     "start_time": "2025-05-07T03:54:02.812190",
     "status": "completed"
    },
    "scrolled": true,
    "tags": []
   },
   "outputs": [
    {
     "data": {
      "application/vnd.jupyter.widget-view+json": {
       "model_id": "fcccbaa771cb49ac9a7ee13250affc56",
       "version_major": 2,
       "version_minor": 0
      },
      "text/plain": [
       "config.json:   0%|          | 0.00/5.01k [00:00<?, ?B/s]"
      ]
     },
     "metadata": {},
     "output_type": "display_data"
    },
    {
     "data": {
      "application/vnd.jupyter.widget-view+json": {
       "model_id": "d6916d4954a24b02a852bd5b621162af",
       "version_major": 2,
       "version_minor": 0
      },
      "text/plain": [
       "model.safetensors:   0%|          | 0.00/897M [00:00<?, ?B/s]"
      ]
     },
     "metadata": {},
     "output_type": "display_data"
    },
    {
     "name": "stderr",
     "output_type": "stream",
     "text": [
      "The following encoder weights were not tied to the decoder ['vision_encoder_decoder/pooler', 'vision_encoder_decoder/embeddings', 'vision_encoder_decoder/layernorm', 'vision_encoder_decoder/encoder']\n",
      "The following encoder weights were not tied to the decoder ['vision_encoder_decoder/pooler', 'vision_encoder_decoder/embeddings', 'vision_encoder_decoder/layernorm', 'vision_encoder_decoder/encoder']\n",
      "The following encoder weights were not tied to the decoder ['vision_encoder_decoder/pooler', 'vision_encoder_decoder/embeddings', 'vision_encoder_decoder/layernorm', 'vision_encoder_decoder/encoder']\n"
     ]
    },
    {
     "data": {
      "application/vnd.jupyter.widget-view+json": {
       "model_id": "d8952c6066254ae3b3b396e0cf8d786e",
       "version_major": 2,
       "version_minor": 0
      },
      "text/plain": [
       "generation_config.json:   0%|          | 0.00/244 [00:00<?, ?B/s]"
      ]
     },
     "metadata": {},
     "output_type": "display_data"
    },
    {
     "data": {
      "application/vnd.jupyter.widget-view+json": {
       "model_id": "82e92d808b5e490aae27d17397c9ca45",
       "version_major": 2,
       "version_minor": 0
      },
      "text/plain": [
       "tokenizer_config.json:   0%|          | 0.00/1.51k [00:00<?, ?B/s]"
      ]
     },
     "metadata": {},
     "output_type": "display_data"
    },
    {
     "data": {
      "application/vnd.jupyter.widget-view+json": {
       "model_id": "3c20ab3abd4843be848035850e7affad",
       "version_major": 2,
       "version_minor": 0
      },
      "text/plain": [
       "vocab.txt:   0%|          | 0.00/226k [00:00<?, ?B/s]"
      ]
     },
     "metadata": {},
     "output_type": "display_data"
    },
    {
     "data": {
      "application/vnd.jupyter.widget-view+json": {
       "model_id": "6eb7d762842845f6a78412d3f7d17b87",
       "version_major": 2,
       "version_minor": 0
      },
      "text/plain": [
       "tokenizer.json:   0%|          | 0.00/706k [00:00<?, ?B/s]"
      ]
     },
     "metadata": {},
     "output_type": "display_data"
    },
    {
     "data": {
      "application/vnd.jupyter.widget-view+json": {
       "model_id": "89f0d7b932d34ed39559e6f3b0e4b8cc",
       "version_major": 2,
       "version_minor": 0
      },
      "text/plain": [
       "special_tokens_map.json:   0%|          | 0.00/732 [00:00<?, ?B/s]"
      ]
     },
     "metadata": {},
     "output_type": "display_data"
    },
    {
     "data": {
      "application/vnd.jupyter.widget-view+json": {
       "model_id": "91a6c7a9f22d4edeb986c0ea8ce87ebf",
       "version_major": 2,
       "version_minor": 0
      },
      "text/plain": [
       "preprocessor_config.json:   0%|          | 0.00/349 [00:00<?, ?B/s]"
      ]
     },
     "metadata": {},
     "output_type": "display_data"
    },
    {
     "data": {
      "text/plain": [
       "VisionEncoderDecoderModel(\n",
       "  (encoder): ViTModel(\n",
       "    (embeddings): ViTEmbeddings(\n",
       "      (patch_embeddings): ViTPatchEmbeddings(\n",
       "        (projection): Conv2d(3, 768, kernel_size=(16, 16), stride=(16, 16))\n",
       "      )\n",
       "      (dropout): Dropout(p=0, inplace=False)\n",
       "    )\n",
       "    (encoder): ViTEncoder(\n",
       "      (layer): ModuleList(\n",
       "        (0-11): 12 x ViTLayer(\n",
       "          (attention): ViTAttention(\n",
       "            (attention): ViTSelfAttention(\n",
       "              (query): Linear(in_features=768, out_features=768, bias=True)\n",
       "              (key): Linear(in_features=768, out_features=768, bias=True)\n",
       "              (value): Linear(in_features=768, out_features=768, bias=True)\n",
       "              (dropout): Dropout(p=0, inplace=False)\n",
       "            )\n",
       "            (output): ViTSelfOutput(\n",
       "              (dense): Linear(in_features=768, out_features=768, bias=True)\n",
       "              (dropout): Dropout(p=0, inplace=False)\n",
       "            )\n",
       "          )\n",
       "          (intermediate): ViTIntermediate(\n",
       "            (dense): Linear(in_features=768, out_features=3072, bias=True)\n",
       "            (intermediate_act_fn): GELUActivation()\n",
       "          )\n",
       "          (output): ViTOutput(\n",
       "            (dense): Linear(in_features=3072, out_features=768, bias=True)\n",
       "            (dropout): Dropout(p=0, inplace=False)\n",
       "          )\n",
       "          (layernorm_before): LayerNorm((768,), eps=1e-12, elementwise_affine=True)\n",
       "          (layernorm_after): LayerNorm((768,), eps=1e-12, elementwise_affine=True)\n",
       "        )\n",
       "      )\n",
       "    )\n",
       "    (layernorm): LayerNorm((768,), eps=1e-12, elementwise_affine=True)\n",
       "    (pooler): ViTPooler(\n",
       "      (dense): Linear(in_features=768, out_features=768, bias=True)\n",
       "      (activation): Tanh()\n",
       "    )\n",
       "  )\n",
       "  (decoder): BertLMHeadModel(\n",
       "    (bert): BertModel(\n",
       "      (embeddings): BertEmbeddings(\n",
       "        (word_embeddings): Embedding(30522, 768, padding_idx=0)\n",
       "        (position_embeddings): Embedding(512, 768)\n",
       "        (token_type_embeddings): Embedding(2, 768)\n",
       "        (LayerNorm): LayerNorm((768,), eps=1e-12, elementwise_affine=True)\n",
       "        (dropout): Dropout(p=0.1, inplace=False)\n",
       "      )\n",
       "      (encoder): BertEncoder(\n",
       "        (layer): ModuleList(\n",
       "          (0-11): 12 x BertLayer(\n",
       "            (attention): BertAttention(\n",
       "              (self): BertSelfAttention(\n",
       "                (query): Linear(in_features=768, out_features=768, bias=True)\n",
       "                (key): Linear(in_features=768, out_features=768, bias=True)\n",
       "                (value): Linear(in_features=768, out_features=768, bias=True)\n",
       "                (dropout): Dropout(p=0.1, inplace=False)\n",
       "              )\n",
       "              (output): BertSelfOutput(\n",
       "                (dense): Linear(in_features=768, out_features=768, bias=True)\n",
       "                (LayerNorm): LayerNorm((768,), eps=1e-12, elementwise_affine=True)\n",
       "                (dropout): Dropout(p=0.1, inplace=False)\n",
       "              )\n",
       "            )\n",
       "            (crossattention): BertAttention(\n",
       "              (self): BertSelfAttention(\n",
       "                (query): Linear(in_features=768, out_features=768, bias=True)\n",
       "                (key): Linear(in_features=768, out_features=768, bias=True)\n",
       "                (value): Linear(in_features=768, out_features=768, bias=True)\n",
       "                (dropout): Dropout(p=0.1, inplace=False)\n",
       "              )\n",
       "              (output): BertSelfOutput(\n",
       "                (dense): Linear(in_features=768, out_features=768, bias=True)\n",
       "                (LayerNorm): LayerNorm((768,), eps=1e-12, elementwise_affine=True)\n",
       "                (dropout): Dropout(p=0.1, inplace=False)\n",
       "              )\n",
       "            )\n",
       "            (intermediate): BertIntermediate(\n",
       "              (dense): Linear(in_features=768, out_features=3072, bias=True)\n",
       "              (intermediate_act_fn): GELUActivation()\n",
       "            )\n",
       "            (output): BertOutput(\n",
       "              (dense): Linear(in_features=3072, out_features=768, bias=True)\n",
       "              (LayerNorm): LayerNorm((768,), eps=1e-12, elementwise_affine=True)\n",
       "              (dropout): Dropout(p=0.1, inplace=False)\n",
       "            )\n",
       "          )\n",
       "        )\n",
       "      )\n",
       "    )\n",
       "    (cls): BertOnlyMLMHead(\n",
       "      (predictions): BertLMPredictionHead(\n",
       "        (transform): BertPredictionHeadTransform(\n",
       "          (dense): Linear(in_features=768, out_features=768, bias=True)\n",
       "          (transform_act_fn): GELUActivation()\n",
       "          (LayerNorm): LayerNorm((768,), eps=1e-12, elementwise_affine=True)\n",
       "        )\n",
       "        (decoder): Linear(in_features=768, out_features=30522, bias=True)\n",
       "      )\n",
       "    )\n",
       "  )\n",
       ")"
      ]
     },
     "execution_count": 25,
     "metadata": {},
     "output_type": "execute_result"
    }
   ],
   "source": [
    "from transformers import VisionEncoderDecoderModel, AutoTokenizer, ViTFeatureExtractor\n",
    "from PIL import Image\n",
    "import torch\n",
    "\n",
    "model_id = \"bombshelll/ViT_BioMedBert_Captioning_ROCO\"\n",
    "\n",
    "model = VisionEncoderDecoderModel.from_pretrained(model_id)\n",
    "tokenizer = AutoTokenizer.from_pretrained(model_id)\n",
    "feature_extractor = ViTFeatureExtractor.from_pretrained(model_id)\n",
    "\n",
    "device = torch.device(\"cuda\" if torch.cuda.is_available() else \"cpu\")\n",
    "model.to(device)"
   ]
  },
  {
   "cell_type": "code",
   "execution_count": null,
   "id": "3240191c",
   "metadata": {
    "execution": {
     "iopub.execute_input": "2025-05-07T03:54:12.489295Z",
     "iopub.status.busy": "2025-05-07T03:54:12.488967Z",
     "iopub.status.idle": "2025-05-07T03:54:12.494080Z",
     "shell.execute_reply": "2025-05-07T03:54:12.493272Z"
    },
    "id": "3240191c",
    "papermill": {
     "duration": 0.021961,
     "end_time": "2025-05-07T03:54:12.495716",
     "exception": false,
     "start_time": "2025-05-07T03:54:12.473755",
     "status": "completed"
    },
    "tags": []
   },
   "outputs": [],
   "source": [
    "def generate_caption(image_path):\n",
    "    image = Image.open(image_path).convert(\"RGB\")\n",
    "    image = image.resize((224, 224))\n",
    "    pixel_values = feature_extractor(images=image, return_tensors=\"pt\").pixel_values.to(device)\n",
    "    output_ids = model.generate(pixel_values, max_length=80, num_beams=4, early_stopping=True)\n",
    "    caption = tokenizer.decode(output_ids[0], skip_special_tokens=True)\n",
    "    return caption"
   ]
  },
  {
   "cell_type": "code",
   "execution_count": null,
   "id": "7ef25a4e",
   "metadata": {
    "execution": {
     "iopub.execute_input": "2025-05-07T03:54:12.525214Z",
     "iopub.status.busy": "2025-05-07T03:54:12.524456Z",
     "iopub.status.idle": "2025-05-07T03:54:13.253223Z",
     "shell.execute_reply": "2025-05-07T03:54:13.252337Z"
    },
    "id": "7ef25a4e",
    "outputId": "2c250b41-90c7-49a9-cbc3-568b612cbf81",
    "papermill": {
     "duration": 0.745951,
     "end_time": "2025-05-07T03:54:13.255787",
     "exception": false,
     "start_time": "2025-05-07T03:54:12.509836",
     "status": "completed"
    },
    "tags": []
   },
   "outputs": [
    {
     "data": {
      "image/png": "[encoded data removed]",
      "text/plain": [
       "<Figure size 640x480 with 1 Axes>"
      ]
     },
     "metadata": {},
     "output_type": "display_data"
    },
    {
     "name": "stdout",
     "output_type": "stream",
     "text": [
      "Generated Caption: magnetic resonance imaging of brain with diffusion weighted imaging sequence showing multiple infarctions in the left parieto - occipital region with small hemorrhage in the right pari\n",
      "Ground Truth:  Brain magnetic resonance imaging (MRI) after gadolinium injection showed an image in the axial (FLAIR sequence) showing hyper-intensity lesions in the white matter of the frontal lobes. There is no signal abnormality of the cortex. Note that there is no mass effect on the ventricular cavities or midline structures.\n",
      "\n"
     ]
    }
   ],
   "source": [
    "import matplotlib.pyplot as plt\n",
    "\n",
    "sample_image_path = test_df.iloc[0]['images']\n",
    "caption = generate_caption(sample_image_path)\n",
    "\n",
    "plt.imshow(Image.open(sample_image_path))\n",
    "plt.axis('off')\n",
    "plt.title(\"Generated Caption\")\n",
    "plt.show()\n",
    "\n",
    "print(\"Generated Caption:\", caption)\n",
    "print(\"Ground Truth:\", test_df.iloc[0]['captions'])"
   ]
  }
 ],
 "metadata": {
  "colab": {
   "provenance": [],
   "toc_visible": true
  },
  "kaggle": {
   "accelerator": "gpu",
   "dataSources": [
    {
     "datasetId": 4026473,
     "sourceId": 7003943,
     "sourceType": "datasetVersion"
    },
    {
     "datasetId": 4469006,
     "sourceId": 7663855,
     "sourceType": "datasetVersion"
    },
    {
     "datasetId": 5824220,
     "sourceId": 9557970,
     "sourceType": "datasetVersion"
    },
    {
     "datasetId": 5823559,
     "sourceId": 9613706,
     "sourceType": "datasetVersion"
    },
    {
     "datasetId": 5867207,
     "sourceId": 9614596,
     "sourceType": "datasetVersion"
    }
   ],
   "dockerImageVersionId": 30762,
   "isGpuEnabled": true,
   "isInternetEnabled": true,
   "language": "python",
   "sourceType": "notebook"
  },
  "kernelspec": {
   "display_name": "Python 3",
   "language": "python",
   "name": "python3"
  },
  "language_info": {
   "codemirror_mode": {
    "name": "ipython",
    "version": 3
   },
   "file_extension": ".py",
   "mimetype": "text/x-python",
   "name": "python",
   "nbconvert_exporter": "python",
   "pygments_lexer": "ipython3",
   "version": "3.10.14"
  },
  "papermill": {
   "default_parameters": {},
   "duration": 5118.684895,
   "end_time": "2025-05-07T03:54:17.035582",
   "environment_variables": {},
   "exception": null,
   "input_path": "__notebook__.ipynb",
   "output_path": "__notebook__.ipynb",
   "parameters": {},
   "start_time": "2025-05-07T02:28:58.350687",
   "version": "2.6.0"
  },
  "widgets": {
   "application/vnd.jupyter.widget-state+json": {}
  }
 },
 "nbformat": 4,
 "nbformat_minor": 5
}
